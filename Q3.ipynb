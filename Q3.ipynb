{
 "cells": [
  {
   "cell_type": "code",
   "execution_count": 1,
   "id": "42432d8d-94f8-4932-ad13-1ee5ac96d262",
   "metadata": {},
   "outputs": [],
   "source": [
    "###Importation des packages\n",
    "\n",
    "import numpy as np\n",
    "import time"
   ]
  },
  {
   "cell_type": "code",
   "execution_count": 2,
   "id": "10eb6d17-48d2-4823-bf3b-a9f70dd4d572",
   "metadata": {},
   "outputs": [],
   "source": [
    "def generation(n, alpha=1.7, beta=0.9, gamma=10, delta=10):\n",
    "    # Initialize samples array with zeros\n",
    "    sample = np.zeros(n)\n",
    "    \n",
    "    # Constants that do not depend on the sample index and thus can be computed once\n",
    "    if alpha != 1:\n",
    "        S_alpha_beta = (1 + beta ** 2 * np.tan(np.pi * alpha / 2) ** 2) ** (1 / (2 * alpha))\n",
    "        B_alpha_beta = (1 / alpha) * np.arctan(beta * np.tan(np.pi * alpha / 2))\n",
    "\n",
    "    for i in range(n):\n",
    "        U = np.random.uniform(-np.pi/2, np.pi/2)\n",
    "        W = -np.log(1 - np.random.uniform(0,1))\n",
    "        \n",
    "        # Handle the case alpha = 1 separately\n",
    "        if alpha != 1:\n",
    "            part1 = np.sin(alpha * (U + B_alpha_beta)) / (np.cos(U) ** (1 / alpha))\n",
    "            part2 = (np.cos(U - alpha * (U + B_alpha_beta)) / W) ** ((1 - alpha) / alpha)\n",
    "            sample[i] = S_alpha_beta * part1 * part2\n",
    "        else:\n",
    "            sample[i] = (2 / np.pi) * ((np.pi / 2 + beta * U) * np.tan(U) - beta * np.log((np.pi / 2 * W * np.cos(U))/(np.pi+beta*U)))\n",
    "\n",
    "    # Apply scaling and location shifting\n",
    "    sample = gamma * sample + delta\n",
    "    return sample"
   ]
  },
  {
   "cell_type": "code",
   "execution_count": 3,
   "id": "5940a546-e114-42a1-8814-9ad9de70e0b8",
   "metadata": {},
   "outputs": [],
   "source": [
    "def char_fun_zolo(t, nu, etha, tau):\n",
    "    \"\"\"characteristic function to use from S2 to S5\n",
    "\n",
    "    Parameters\n",
    "    ----------------------------\n",
    "    t : float\n",
    "    the \"instant\" we want to check\n",
    "\n",
    "    nu : float\n",
    "    parameter of the alpha-stable distribution, >= 1/4.\n",
    "\n",
    "    etha :float\n",
    "    parameter of the alpha-stable distribution, np.sign(etha) <= min(1, 2*np.sqrt(nu)-1)\n",
    "\n",
    "    tau : float\n",
    "    parameter of the alpha-stable distribution, absolute value < inf\n",
    "    ------------------------------\n",
    "    \"\"\"\n",
    "\n",
    "    y = -np.exp((nu**(-1/2))*(np.log(np.abs(t)) + tau - 1j*(np.pi/2)*etha*np.sign(t)) + np.e*((nu**(-1/2))-1))\n",
    "    return y\n",
    "    "
   ]
  },
  {
   "cell_type": "code",
   "execution_count": 4,
   "id": "4b145898-5a27-461a-8238-d4b29efe0257",
   "metadata": {},
   "outputs": [],
   "source": [
    "def emp_char_fun(sample, t):\n",
    "    \"\"\"function to evaluate the empirical characteristic of a function at an instant t\n",
    "\n",
    "    Parameters\n",
    "    -------------------------\n",
    "    sample : array-like\n",
    "    sample on which we want to evaluate the characteristic function\n",
    "\n",
    "    t : int, float\n",
    "    moment to estimate/generate\n",
    "    --------------------------\n",
    "    \"\"\"\n",
    "    expo_transfo = np.exp(-sample*1j*t)\n",
    "    empirical = np.mean(expo_transfo)\n",
    "    return empirical\n",
    "    "
   ]
  },
  {
   "cell_type": "markdown",
   "id": "730672f9-d2bb-4caf-9f57-df2d110eb6ce",
   "metadata": {},
   "source": [
    "$\\theta = (\\alpha, \\beta, \\gamma, \\delta)$ \n",
    "\n",
    "N = 1000\n",
    "\n",
    "$x^1,...,x^p$ ~ $\\pi(x|\\theta)$\n",
    "\n",
    "$\\pi_{LF}(\\theta|y)$ = $\\pi(\\theta)\\mathbb{E}_{\\pi(x|\\theta)}[K_{\\epsilon} (y-x)]$ $\\leftarrow$ we do monte carlo on this\n",
    "\n",
    "$K_{\\epsilon} (y-x)$ def by $S(y)$ ~ $N(S(x), \\epsilon^2 \\hat{\\Sigma})$ $\\leftarrow$ that would be our gaussian kernel, so we just draw $x_1,..., x_p$ ~ $\\pi(x|\\hat{\\theta})$ then compute S(x), after that, estimate the cov(S(x)|$\\hat{\\theta}$) and then S(y) according to the previous distrib\n",
    "\n",
    "$\\hat{\\Sigma}$ is an estimate of $Cov(S(x)\\hat{\\theta})$\n",
    "\n",
    "$\\Lambda$ = diag(0.25, 0.25, 1, 1)\n",
    "\n",
    "Mutation kernel : $M_t(\\theta_t) = \\sum_{i=1}^{N} W_{t-1}^{(i)}(\\theta_{t-1}^{(i)}) \\phi(\\theta_t ; \\theta_{t-1}^{(i)})$\n",
    "\n",
    "Gaussian kernel : $L(x,t) = \\sum_{n = -M}^{M}f(x-n)G(n,t)$\n",
    "\n",
    "with G(n,t) = $\\frac{1}{\\sqrt{2\\pi t}}e^{-\\frac{n^2}{2t}}$\n",
    "\n",
    "\n",
    "As t increases, $\\epsilon_t$ decreases\n",
    "\n",
    "$\\hat{c_t}$ is the 90th quantile of the weights\n",
    "\n",
    "# For the rest we need to use : \n",
    "\n",
    "# $\\alpha = 1.7$\n",
    "# $\\beta = 0.9$\n",
    "# $\\gamma = 10$\n",
    "# $\\delta = 10$"
   ]
  },
  {
   "cell_type": "code",
   "execution_count": 5,
   "id": "46f529b7-84ae-4520-a477-7f3b501f2cf6",
   "metadata": {},
   "outputs": [
    {
     "data": {
      "text/plain": [
       "{}"
      ]
     },
     "execution_count": 5,
     "metadata": {},
     "output_type": "execute_result"
    }
   ],
   "source": [
    "{}"
   ]
  },
  {
   "cell_type": "markdown",
   "id": "25a73037-8b81-4e2b-a980-8c7bd8ef51da",
   "metadata": {},
   "source": [
    "# Seed : 256652"
   ]
  },
  {
   "cell_type": "code",
   "execution_count": 6,
   "id": "9875ffab-8c7a-495b-9957-ebf7045df588",
   "metadata": {},
   "outputs": [],
   "source": [
    "np.random.seed(256652)\n",
    "\n",
    "#creation des prior des parametres cf section 3.1\n",
    "\n",
    "prior_alpha = np.random.uniform(1.1, 2., size=1000)\n",
    "prior_beta = np.random.uniform(-1., 1, size=1000)\n",
    "prior_gamma = np.random.uniform(0., 300., size=1000)\n",
    "prior_delta = np.random.uniform(-300., 300., size=1000)\n",
    "\n",
    "#scale parameters\n",
    "\n",
    "#epsilon_t\n",
    "\n",
    "mille = np.linspace(start=100, stop=1000, endpoint=True, num=10)[::-1]\n",
    "cent = np.linspace(start=10, stop=100, endpoint=False, num=90)[::-1]\n",
    "dix = np.linspace(start=5, stop=10, endpoint=False, num=10)[::-1]\n",
    "cinq = np.linspace(start=3, stop=5, endpoint=False, num=40)[::-1]\n",
    "trois = np.linspace(start=0, stop=3, endpoint=False, num=300)[::-1]\n",
    "\n",
    "scale_param = np.concatenate((mille, cent, dix, cinq, trois))\n",
    "\n",
    "\n",
    "N = 1000\n",
    "varcov_lambda = np.array([0.25,0.,0.,0.,0.,0.25, 0., 0.,0.,0.,1.,0.,0.,0.,0.,1]).reshape([4,4])"
   ]
  },
  {
   "cell_type": "code",
   "execution_count": 7,
   "id": "197d552a-032b-40de-bc62-bce8ffba6a53",
   "metadata": {},
   "outputs": [],
   "source": [
    "def gaussian_ker(u=0, y=0):\n",
    "    \"\"\"gaussian kernel for weights\n",
    "    \n",
    "    Parameters\n",
    "    -------------------\n",
    "    y : float\n",
    "    the point we have, the output\n",
    "\n",
    "    u : float\n",
    "    the point from which we want to calculate a weight\n",
    "    ----------\n",
    "    \"\"\"\n",
    "\n",
    "    w = (1/np.sqrt(2*np.pi))*np.exp(-(u-y)**2/2)\n",
    "    return w"
   ]
  },
  {
   "cell_type": "code",
   "execution_count": 8,
   "id": "db592d0c-7973-4679-a563-5911dc162a26",
   "metadata": {},
   "outputs": [],
   "source": [
    "def mc_culloch_q(data, gamma=1):\n",
    "    \"\"\"fonction pour calculer les quantiles de mc_culloch utilises dans le papier\n",
    "\n",
    "    Parameters\n",
    "    --------------\n",
    "    data : array\n",
    "    les donnes pour lesquelles on veut calculer les quantiles\n",
    "\n",
    "    gamma : float\n",
    "    valeur 1 par defaut, d'apres le papier, on utilise le gamma utilise pour faire les simulations\n",
    "    ----------------\n",
    "    \"\"\"\n",
    "    data_sorted = np.sort(data)\n",
    "    useful_quantiles = np.quantile(a=data_sorted, q=[0.95, 0.75, 0.5, 0.25, 0.05])\n",
    "    q_95 = useful_quantiles[0]\n",
    "    q_75 = useful_quantiles[1]\n",
    "    q_50 = useful_quantiles[2]\n",
    "    q_25 = useful_quantiles[3]\n",
    "    q_05 = useful_quantiles[4]\n",
    "    alpha_hat = (q_95-q_05)/(q_75-q_25)\n",
    "    beta_hat = (q_95+q_05+2*q_50)/(q_95-q_05)\n",
    "    gamma_hat = (q_75-q_25)/gamma\n",
    "    #on a le gamma au denominateur parce que c'est comme ca qu on a genere nos donnees\n",
    "    #d'apres le papier, ca va de prendre le gamma qu'on a utililse pour generer\n",
    "    delta_hat = np.mean(data_simulation)\n",
    "    S_1 = np.transpose(np.array((alpha_hat, beta_hat, gamma_hat, delta_hat)))\n",
    "    return S_1"
   ]
  },
  {
   "cell_type": "code",
   "execution_count": 9,
   "id": "1bd6477b-e5e3-4eea-ac12-b7d74e0ad083",
   "metadata": {},
   "outputs": [],
   "source": [
    "def zolotarev_transfo(sample, xi):\n",
    "    \"\"\"function to use for the estimation based on the zolotarev transformation\n",
    "\n",
    "    Parameters\n",
    "    --------------------------\n",
    "    Sample : array-like\n",
    "    Sample to do the transformation on\n",
    "\n",
    "    xi : int, float\n",
    "    The constant used in the transformation\n",
    "    --------------------------\n",
    "    \"\"\"\n",
    "    if xi<=0 or xi>1/2 :\n",
    "        raise ValueError('Xi must be between 0 and 1/2')\n",
    "    taille = len(sample)\n",
    "    Z = []\n",
    "    for i in range(int(taille/3)):\n",
    "        transfo = sample[3*i-2] - xi*sample[3*i-1] - (1 - xi)*sample[3*i]\n",
    "        Z.append(transfo)\n",
    "    V = []\n",
    "    U = []\n",
    "    for i in range(len(Z)):\n",
    "        V.append(np.log(np.abs(Z[i])))\n",
    "        U.append(np.sign(sample[i]))\n",
    "    V = np.array(V)\n",
    "    U = np.array(U)\n",
    "    S_U_squared = (np.std(U))**2\n",
    "    S_V_squared = (np.std(V))**2\n",
    "    nu_tilde = (6/(np.pi)**2)*S_V_squared - (3/2)*S_U_squared + 1\n",
    "    etha_hat = np.mean(U)\n",
    "    tau_hat = np.mean(V)\n",
    "    nu_hat = 0\n",
    "    if nu_tilde > ((1+np.abs(etha_hat))**2)/4:\n",
    "        nu_hat = nu_tilde\n",
    "    else:\n",
    "        nu_hat = ((1+np.abs(etha_hat))**2)/4\n",
    "    delta_hat = np.mean(sample)\n",
    "    S_2 = np.array((nu_hat, etha_hat, tau_hat, delta_hat))\n",
    "    return S_2"
   ]
  },
  {
   "cell_type": "code",
   "execution_count": 10,
   "id": "1aa10299-975a-4d2f-a0f0-3a0616c4aac2",
   "metadata": {},
   "outputs": [],
   "source": [
    "def u_hat(x, t):\n",
    "    \"\"\"function to use to calculate presss moments\n",
    "\n",
    "    Parameters\n",
    "    ---------------\n",
    "    x : array-like\n",
    "\n",
    "    the data\n",
    "\n",
    "    t : int, float\n",
    "    the real number we want to know the image by the function\n",
    "    ---------------\n",
    "    \"\"\"\n",
    "\n",
    "    y = np.arctan(np.sum(np.cos(t*x))/np.sum(np.sin(t*x)))\n",
    "    return y"
   ]
  },
  {
   "cell_type": "code",
   "execution_count": 11,
   "id": "0cac937e-ef71-4476-9ccb-5e9a0110df93",
   "metadata": {},
   "outputs": [],
   "source": [
    "test_u = np.array((np.pi, np.pi, np.pi, np.pi))"
   ]
  },
  {
   "cell_type": "code",
   "execution_count": 12,
   "id": "750b2032-03c6-4e5b-bb65-13a7a3184ddf",
   "metadata": {},
   "outputs": [
    {
     "data": {
      "text/plain": [
       "0.7853981633974484"
      ]
     },
     "execution_count": 12,
     "metadata": {},
     "output_type": "execute_result"
    }
   ],
   "source": [
    "u_hat(x=test_u,t=1/4)"
   ]
  },
  {
   "cell_type": "code",
   "execution_count": 13,
   "id": "421e8de8-ecf5-4f82-9540-f9a75b9a0312",
   "metadata": {},
   "outputs": [],
   "source": [
    "#fonction u_hat marche bien, on retombe sur arctan de 1"
   ]
  },
  {
   "cell_type": "code",
   "execution_count": 14,
   "id": "13f405de-b267-4719-a715-f536c2575e67",
   "metadata": {},
   "outputs": [],
   "source": [
    "def presss_moments(sample, t_1=0.2, t_2=0.8, t_3=0.1, t_4=0.4):\n",
    "    \"\"\"function to calculate press's moments\n",
    "\n",
    "    Parameters\n",
    "    ----------------\n",
    "\n",
    "    sample : array-like\n",
    "\n",
    "    the data\n",
    "\n",
    "    t_1 : int, float\n",
    "    t_2 : int, float\n",
    "    t_3 : int, float\n",
    "    t_4 : int, float\n",
    "    moments we want to evaluate, the default parameters are given by Koutrouvelis (1980)\n",
    "    ---------------\n",
    "    \"\"\"\n",
    "    \n",
    "    #estimation of characteristic function at different moments\n",
    "    transfo_1 = emp_char_fun(sample, t=t_1)\n",
    "    transfo_2 = emp_char_fun(sample, t=t_2)\n",
    "    transfo_3 = emp_char_fun(sample, t=t_3)\n",
    "    transfo_4 = emp_char_fun(sample, t=t_4)\n",
    "    log_gamma_hat_top = (np.log(np.abs(t_1))*np.log(-np.log(np.abs(transfo_2)))-np.log(np.abs(t_2))*np.log(-np.log(np.abs(transfo_1))))\n",
    "    log_gamma_hat = log_gamma_hat_top/np.log(np.abs(t_1/t_2))\n",
    "    alpha_hat = np.log(np.log(np.abs(transfo_1))/np.log(np.abs(transfo_2)))/np.log(np.abs(t_1/t_2))\n",
    "    beta_hat_top = ((u_hat(x=sample, t=t_4)/t_4)-(u_hat(x=sample, t=t_3)/t_3))\n",
    "    beta_hat_bot = ((np.abs(t_4)**(alpha_hat-1))-(np.abs(t_3)**(alpha_hat-1)))*((np.exp(log_gamma_hat))**alpha_hat)*np.tan((alpha_hat*np.pi)/2)\n",
    "    beta_hat = beta_hat_top/beta_hat_bot\n",
    "    delta_hat_top = (((np.abs(t_4))**(alpha_hat-1))*u_hat(x=sample, t=t_3)/t_3)-((((np.abs(t_3))**(alpha_hat-1))*u_hat(x=sample,t=t_4))/t_4)\n",
    "    delta_hat_bot = (np.abs(t_4)**(alpha_hat-1)) - (np.abs(t_3)**(alpha_hat-1))\n",
    "    delta_hat = delta_hat_top/delta_hat_bot\n",
    "    y = np.array((alpha_hat, beta_hat, np.exp(log_gamma_hat), delta_hat))\n",
    "    return y\n",
    "\n",
    "\n",
    "    "
   ]
  },
  {
   "cell_type": "code",
   "execution_count": 15,
   "id": "81928318-b2a1-4edd-96e1-83057503809e",
   "metadata": {},
   "outputs": [
    {
     "name": "stdout",
     "output_type": "stream",
     "text": [
      "[ 0.25130672 -0.00261003 -0.01364276  0.00217127]\n"
     ]
    }
   ],
   "source": [
    "test = generation(n=100000, alpha=2, beta=0, gamma=1, delta=0)\n",
    "S_hat = zolotarev_transfo(test, xi=0.15)\n",
    "print(S_hat)"
   ]
  },
  {
   "cell_type": "code",
   "execution_count": 16,
   "id": "f3a3553b-3687-4f45-a6f0-66c5e31713c7",
   "metadata": {},
   "outputs": [],
   "source": [
    "#ca converge tres tres lentement"
   ]
  },
  {
   "cell_type": "code",
   "execution_count": 17,
   "id": "dc798d80-f716-48c4-bcd4-89f49b87a0f6",
   "metadata": {},
   "outputs": [
    {
     "data": {
      "text/plain": [
       "array([1.99924076e+00, 3.28992434e+04, 1.00025029e+00, 1.96382223e+01])"
      ]
     },
     "execution_count": 17,
     "metadata": {},
     "output_type": "execute_result"
    }
   ],
   "source": [
    "presss_moments(sample=test)"
   ]
  },
  {
   "cell_type": "code",
   "execution_count": 48,
   "id": "e52fb42d-b4fc-4e4e-8a6c-900ebc84d857",
   "metadata": {},
   "outputs": [],
   "source": [
    "initial = np.zeros(4)\n",
    "for i in range(250):\n",
    "    test_2 = generation(n=1000, alpha=1.7, beta=0.9, gamma=10, delta=10)\n",
    "    initial = np.vstack((initial, presss_moments(sample=test_2)))\n",
    "    \n",
    "\n",
    "resultat = np.zeros(4)\n",
    "resultat[0] = np.mean(initial[:,0])\n",
    "resultat[1] = np.mean(initial[:,1])\n",
    "resultat[2] = np.mean(initial[:,2])\n",
    "resultat[3] = np.mean(initial[:,3])\n",
    "    "
   ]
  },
  {
   "cell_type": "code",
   "execution_count": 49,
   "id": "145b249c-e83e-4de0-99b5-4818991db073",
   "metadata": {},
   "outputs": [
    {
     "name": "stdout",
     "output_type": "stream",
     "text": [
      "[ 0.10663174  1.51575732  3.83288014 -4.61122643]\n"
     ]
    }
   ],
   "source": [
    "print(resultat)"
   ]
  },
  {
   "cell_type": "markdown",
   "id": "ed7e7350-37e1-40f8-bcff-7a836bb05b93",
   "metadata": {},
   "source": [
    "# Press\n",
    "$\\hat{\\alpha}$ et $\\hat{\\delta}$ assez bons\n",
    "\n",
    "Assez bof : $\\hat{\\gamma}$\n",
    "\n",
    "Catastrophe : $\\hat{\\beta}$\n",
    "\n",
    "# Le résultat précédent c'est quand on prenait un truc un peu au pif\n",
    "# Quand on utilise leurs valeurs de $\\alpha, \\beta, \\gamma, \\delta$ en fait c'est pas mal\n",
    "En fait c'est pas foufou..."
   ]
  },
  {
   "cell_type": "code",
   "execution_count": 20,
   "id": "42f138e0-bef8-4981-98b8-aaa1755d3243",
   "metadata": {},
   "outputs": [
    {
     "data": {
      "text/plain": [
       "array([0., 0., 0., 0.])"
      ]
     },
     "execution_count": 20,
     "metadata": {},
     "output_type": "execute_result"
    }
   ],
   "source": [
    "np.zeros(4)\n"
   ]
  },
  {
   "cell_type": "code",
   "execution_count": 21,
   "id": "66d3973d-8603-4866-8fc0-1294941a1e23",
   "metadata": {
    "scrolled": true
   },
   "outputs": [],
   "source": [
    "%%capture\n",
    "#data generation and definition of moments\n",
    "\n",
    "data_simulation = generation(n=1000, alpha=2, beta=0.5, gamma=3, delta=4)"
   ]
  },
  {
   "cell_type": "code",
   "execution_count": 22,
   "id": "70ce4e91-59ca-4e43-99dd-95d22c873514",
   "metadata": {},
   "outputs": [],
   "source": [
    "%%capture\n",
    "#sort data to be sure the quantiles are well computed bc you never know\n",
    "data_simulation = np.sort(data_simulation)"
   ]
  },
  {
   "cell_type": "code",
   "execution_count": 23,
   "id": "cd10c032-a553-4afd-b655-2eb87e9fab4e",
   "metadata": {},
   "outputs": [],
   "source": [
    "useful_quantiles = np.quantile(a=data_simulation, q=[0.95, 0.75, 0.5, 0.25, 0.05])"
   ]
  },
  {
   "cell_type": "code",
   "execution_count": 24,
   "id": "e6852eb6-8494-4071-9d6e-3673fbec722b",
   "metadata": {},
   "outputs": [
    {
     "data": {
      "text/plain": [
       "array([10.69440072,  6.4811886 ,  3.81208576,  1.11335256, -2.8903343 ])"
      ]
     },
     "execution_count": 24,
     "metadata": {},
     "output_type": "execute_result"
    }
   ],
   "source": [
    "useful_quantiles"
   ]
  },
  {
   "cell_type": "code",
   "execution_count": 25,
   "id": "c302b652-f478-4e7f-8f5e-8806bbbad5ce",
   "metadata": {},
   "outputs": [],
   "source": [
    "q_95 = useful_quantiles[0]\n",
    "q_75 = useful_quantiles[1]\n",
    "q_50 = useful_quantiles[2]\n",
    "q_25 = useful_quantiles[3]\n",
    "q_05 = useful_quantiles[4]"
   ]
  },
  {
   "cell_type": "markdown",
   "id": "bc184de7-a21a-4e69-9511-1e1c623632d6",
   "metadata": {},
   "source": [
    "### Mc Culloch's quantiles"
   ]
  },
  {
   "cell_type": "code",
   "execution_count": 26,
   "id": "71aefc4e-7b67-4ab3-b5f1-b9f74fc0fa5d",
   "metadata": {},
   "outputs": [],
   "source": [
    "alpha_hat = (q_95-q_05)/(q_75-q_25)\n",
    "beta_hat = (q_95+q_05+2*q_50)/(q_95-q_05)\n",
    "gamma_hat = (q_75-q_25)/3\n",
    "#on a le 3 au denominateur parce que c'est comme ca qu on a genere nos donnees\n",
    "#d'apres le papier, ca va de prendre le gamma qu'on a utililse pour generer\n",
    "delta_hat = np.mean(data_simulation)"
   ]
  },
  {
   "cell_type": "code",
   "execution_count": 27,
   "id": "46ea9d73-6242-4cbc-9abe-4b9eaff06a13",
   "metadata": {},
   "outputs": [],
   "source": [
    "S_1 = np.transpose(np.array((alpha_hat, beta_hat, gamma_hat, delta_hat)))"
   ]
  },
  {
   "cell_type": "code",
   "execution_count": 28,
   "id": "a1b82c58-ed99-47f6-8d34-274f9fc45ecf",
   "metadata": {},
   "outputs": [
    {
     "data": {
      "text/plain": [
       "array([2.53076564, 1.135704  , 1.78927868, 3.78614667])"
      ]
     },
     "execution_count": 28,
     "metadata": {},
     "output_type": "execute_result"
    }
   ],
   "source": [
    "S_1"
   ]
  },
  {
   "cell_type": "code",
   "execution_count": 29,
   "id": "364a9b69-f54d-4383-956f-a4b94025e4ab",
   "metadata": {},
   "outputs": [
    {
     "data": {
      "text/plain": [
       "3.786146667034114"
      ]
     },
     "execution_count": 29,
     "metadata": {},
     "output_type": "execute_result"
    }
   ],
   "source": [
    "delta_hat"
   ]
  },
  {
   "cell_type": "markdown",
   "id": "25e14302-6542-4195-8937-bda53ef5b4fb",
   "metadata": {},
   "source": [
    "Test runned with one million simulations, the estimators seemed to be biased."
   ]
  },
  {
   "cell_type": "markdown",
   "id": "055d674f-ec0b-4bc5-b957-baf7044dceeb",
   "metadata": {},
   "source": [
    "def prior_lf_mc():\n",
    "    \"estimation monte carlo de la vraisemblance\n",
    "    "
   ]
  },
  {
   "cell_type": "markdown",
   "id": "e1b85d15-7401-4cb5-8047-6e0d3385de77",
   "metadata": {},
   "source": [
    "def smc_prc_abc(N=1000, epsilon_t):\n",
    "    \"\"\"Algorithme ABC de l'appendix A de l'article.\n",
    "\n",
    "\n",
    "    Parameters\n",
    "    ---------------------------\n",
    "    N : int\n",
    "    Nombre d'echantillons crees pour les parametres\n",
    "\n",
    "    epsilon_t : array\n",
    "    Les marges d'acceptation pour l'algorithme\n",
    "    \"\"\"\n",
    "    #les prior sont des uniformes cf partie 3.1\n",
    "    prior_alpha = np.random.uniform(1.1, 2., size=N)\n",
    "    prior_beta = np.random.uniform(-1., 1, size=N)\n",
    "    prior_gamma = np.random.uniform(0., 300., size=N)\n",
    "    prior_delta = np.random.uniform(-300., 300., size=N)\n",
    "    prior_gen = np.vstack((prior_alpha,prior_beta,prior_delta, prior_gamma))\n",
    "    \n",
    "    #the weights\n",
    "    \n",
    "\n",
    "    \n",
    "\n",
    "    "
   ]
  },
  {
   "cell_type": "code",
   "execution_count": 30,
   "id": "fdd2fdae-a55a-4d9d-abd9-f0783c636817",
   "metadata": {},
   "outputs": [],
   "source": [
    "a = np.array((1,2,3,4,5))"
   ]
  },
  {
   "cell_type": "code",
   "execution_count": 31,
   "id": "247416ed-cc2c-4b90-972b-3ce5697cdea9",
   "metadata": {},
   "outputs": [
    {
     "data": {
      "text/plain": [
       "array([1, 2, 3, 4, 5])"
      ]
     },
     "execution_count": 31,
     "metadata": {},
     "output_type": "execute_result"
    }
   ],
   "source": [
    "a"
   ]
  },
  {
   "cell_type": "code",
   "execution_count": 32,
   "id": "20105695-c735-4530-b130-1f22ecf7fd85",
   "metadata": {},
   "outputs": [],
   "source": [
    "b = np.array((5,4,3,2,1))"
   ]
  },
  {
   "cell_type": "code",
   "execution_count": 33,
   "id": "8a82e8a7-7712-4a15-bb1e-99e94ed16f39",
   "metadata": {},
   "outputs": [
    {
     "data": {
      "text/plain": [
       "array([0.2, 0.5, 1. , 2. , 5. ])"
      ]
     },
     "execution_count": 33,
     "metadata": {},
     "output_type": "execute_result"
    }
   ],
   "source": [
    "a/b"
   ]
  },
  {
   "cell_type": "code",
   "execution_count": 34,
   "id": "01481a25-6ea7-4cfd-a8f9-08449ebfc7eb",
   "metadata": {},
   "outputs": [],
   "source": [
    "c = np.array((5,1,3,2,4))"
   ]
  },
  {
   "cell_type": "code",
   "execution_count": 35,
   "id": "185e4219-6e92-456f-871d-fd047fddf603",
   "metadata": {},
   "outputs": [],
   "source": [
    "test = np.vstack((a,b,c))"
   ]
  },
  {
   "cell_type": "code",
   "execution_count": 36,
   "id": "1453d515-47b0-4811-8e18-04d363f980ca",
   "metadata": {},
   "outputs": [
    {
     "data": {
      "text/plain": [
       "array([[1, 2, 3, 4, 5],\n",
       "       [5, 4, 3, 2, 1],\n",
       "       [5, 1, 3, 2, 4]])"
      ]
     },
     "execution_count": 36,
     "metadata": {},
     "output_type": "execute_result"
    }
   ],
   "source": [
    "test"
   ]
  },
  {
   "cell_type": "code",
   "execution_count": 37,
   "id": "9528a285-a45d-4bf4-af2e-994cd2df179b",
   "metadata": {},
   "outputs": [],
   "source": [
    "test = np.hstack((a,b,c))"
   ]
  },
  {
   "cell_type": "code",
   "execution_count": 38,
   "id": "c60c69af-6ae2-44cd-8931-512594ee0703",
   "metadata": {},
   "outputs": [
    {
     "data": {
      "text/plain": [
       "array([1, 2, 3, 4, 5, 5, 4, 3, 2, 1, 5, 1, 3, 2, 4])"
      ]
     },
     "execution_count": 38,
     "metadata": {},
     "output_type": "execute_result"
    }
   ],
   "source": [
    "test"
   ]
  },
  {
   "cell_type": "code",
   "execution_count": 39,
   "id": "989a6737-135e-4e1b-b90e-6dcbcfdf5eb3",
   "metadata": {},
   "outputs": [
    {
     "data": {
      "text/plain": [
       "6.324555320336759"
      ]
     },
     "execution_count": 39,
     "metadata": {},
     "output_type": "execute_result"
    }
   ],
   "source": [
    "np.linalg.norm(a - b)"
   ]
  },
  {
   "cell_type": "code",
   "execution_count": 40,
   "id": "c9407416-a8ea-4c87-ac03-b1f43190feda",
   "metadata": {},
   "outputs": [
    {
     "ename": "IndexError",
     "evalue": "too many indices for array: array is 1-dimensional, but 2 were indexed",
     "output_type": "error",
     "traceback": [
      "\u001b[0;31m---------------------------------------------------------------------------\u001b[0m",
      "\u001b[0;31mIndexError\u001b[0m                                Traceback (most recent call last)",
      "Cell \u001b[0;32mIn[40], line 1\u001b[0m\n\u001b[0;32m----> 1\u001b[0m \u001b[43mtest\u001b[49m\u001b[43m[\u001b[49m\u001b[43m:\u001b[49m\u001b[43m,\u001b[49m\u001b[38;5;241;43m0\u001b[39;49m\u001b[43m]\u001b[49m\n",
      "\u001b[0;31mIndexError\u001b[0m: too many indices for array: array is 1-dimensional, but 2 were indexed"
     ]
    }
   ],
   "source": [
    "test[:,0]"
   ]
  },
  {
   "cell_type": "code",
   "execution_count": null,
   "id": "e443ed5a-70f6-463e-8966-388069ad98c7",
   "metadata": {},
   "outputs": [],
   "source": [
    "test[0,:]"
   ]
  },
  {
   "cell_type": "code",
   "execution_count": 41,
   "id": "e1973be9-93d3-436e-81dd-c9c0ba7b6a4b",
   "metadata": {},
   "outputs": [],
   "source": [
    "def accept_reject_abc(N=1000, epsilon_t=0.5, alpha=2, beta=0, gamma=1, delta=0):\n",
    "    \"\"\"algorithme d'acceptation rejet 'basique', vu en cours\n",
    "\n",
    "    Parameters\n",
    "    ---------------------------------\n",
    "    N : int\n",
    "    nombre de simulations faites\n",
    "\n",
    "    epsilon_t : array\n",
    "    scale parameters, marge d'acceptation\n",
    "\n",
    "    alpha, beta, gamma, delta :\n",
    "    parametres pour les simulations\n",
    "    -------------------------------\n",
    "    \"\"\"\n",
    "    data = generation(n=N, alpha=alpha, beta=beta, gamma=gamma, delta=delta)\n",
    "    #priors\n",
    "    prior_alpha = np.random.uniform(1.1, 2., size=5*N)\n",
    "    prior_beta = np.random.uniform(-1., 1, size=5*N)\n",
    "    prior_gamma = np.random.uniform(0., 300., size=5*N)\n",
    "    prior_delta = np.random.uniform(-300., 300., size=5*N)\n",
    "    prior_gen = np.vstack((prior_alpha,prior_beta,prior_delta, prior_gamma))\n",
    "    true_data_estim = zolotarev_transfo(sample=data, xi=0.15)\n",
    "    bon_param = np.array(())\n",
    "    alpha_test = 0\n",
    "    beta_test = 0\n",
    "    gamma_test = 0\n",
    "    delta_test = 0\n",
    "    for i in range(5*N):\n",
    "        proposed_data = generation(n=N, alpha=prior_gen[:,i][0],\n",
    "                                   beta=prior_gen[:,i][1],\n",
    "                                   delta=prior_gen[:,i][2],\n",
    "                                   gamma=prior_gen[:,i][3])\n",
    "        alpha_test = prior_gen[:,i][0]\n",
    "        beta_test = prior_gen[:,i][1]\n",
    "        gamma_test = prior_gen[:,i][2]\n",
    "        delta_test = prior_gen[:,i][3]\n",
    "        estimated = mc_culloch_q(proposed_data, gamma=prior_gen[:,i][3])\n",
    "        weights = gaussian_ker(estimated -true_data_estim)\n",
    "        if np.linalg.norm(estimated-true_data_estim) < epsilon_t:\n",
    "            return alpha_test, beta_test, gamma_test, delta_test\n",
    "        else :\n",
    "            continue"
   ]
  },
  {
   "cell_type": "code",
   "execution_count": 42,
   "id": "9dfa5ee0-f0cd-4573-a61d-89e13c597667",
   "metadata": {},
   "outputs": [],
   "source": [
    "test_1 = accept_reject_abc(N=200, epsilon_t=0.3)"
   ]
  },
  {
   "cell_type": "code",
   "execution_count": 43,
   "id": "24742030-7f09-4855-918a-c804701299c0",
   "metadata": {},
   "outputs": [
    {
     "name": "stdout",
     "output_type": "stream",
     "text": [
      "None 4.1961669921875e-05\n"
     ]
    }
   ],
   "source": [
    "start = time.time()\n",
    "test_1\n",
    "end = time.time()\n",
    "print(test_1, end - start)"
   ]
  },
  {
   "cell_type": "code",
   "execution_count": 44,
   "id": "a7d257a8-18ec-4763-8dc9-2f29ff30391f",
   "metadata": {},
   "outputs": [],
   "source": [
    "#avec une si petite distance ca ne marchait pas"
   ]
  },
  {
   "cell_type": "code",
   "execution_count": 51,
   "id": "37ebece8-6b21-4bce-94be-0c404f6bfa7d",
   "metadata": {
    "scrolled": true
   },
   "outputs": [
    {
     "name": "stdout",
     "output_type": "stream",
     "text": [
      "802.6477806568146\n"
     ]
    }
   ],
   "source": [
    "start = time.time()\n",
    "liste_parametres = []\n",
    "for i in range(len(scale_param)):\n",
    "    pouet = accept_reject_abc(N=200, epsilon_t=scale_param[-i])\n",
    "    intermediaire = [scale_param[-i], pouet]\n",
    "    liste_parametres.append(intermediaire)\n",
    "\n",
    "end = time.time()\n",
    "\n",
    "print(end - start)"
   ]
  },
  {
   "cell_type": "code",
   "execution_count": 52,
   "id": "c9e6db6a-f296-42a7-8257-a6415823e5be",
   "metadata": {},
   "outputs": [],
   "source": [
    "#must change the parameters, N must be 200, too long otherwise"
   ]
  },
  {
   "cell_type": "code",
   "execution_count": 53,
   "id": "e0c1dfe2-c3a1-47d3-99dc-74e293e713f3",
   "metadata": {
    "scrolled": true
   },
   "outputs": [],
   "source": [
    "%%capture\n",
    "liste_parametres"
   ]
  },
  {
   "cell_type": "code",
   "execution_count": 54,
   "id": "953a19d0-b5ed-401a-bea8-c2f3335819ee",
   "metadata": {},
   "outputs": [],
   "source": [
    "#not working very well, new distance needed"
   ]
  },
  {
   "cell_type": "code",
   "execution_count": 55,
   "id": "b9a6f8ea-8e3b-446b-a198-74f37928df09",
   "metadata": {},
   "outputs": [],
   "source": [
    "#Works probably, pb : wrong use of mc culloch quantiles, need to invert --> pb , how"
   ]
  },
  {
   "cell_type": "code",
   "execution_count": 56,
   "id": "f570db26-af35-41e2-bebf-39b8e6d1f529",
   "metadata": {
    "collapsed": true,
    "jupyter": {
     "outputs_hidden": true
    },
    "scrolled": true
   },
   "outputs": [
    {
     "data": {
      "text/plain": [
       "[[1000.0,\n",
       "  (1.2376093000065582,\n",
       "   0.5928972176503062,\n",
       "   297.2045608500322,\n",
       "   81.1764696080993)],\n",
       " [0.0, None],\n",
       " [0.01, None],\n",
       " [0.02, None],\n",
       " [0.03, None],\n",
       " [0.04, None],\n",
       " [0.05, None],\n",
       " [0.06, None],\n",
       " [0.07, None],\n",
       " [0.08, None],\n",
       " [0.09, None],\n",
       " [0.1, None],\n",
       " [0.11, None],\n",
       " [0.12, None],\n",
       " [0.13, None],\n",
       " [0.14, None],\n",
       " [0.15, None],\n",
       " [0.16, None],\n",
       " [0.17, None],\n",
       " [0.18, None],\n",
       " [0.19, None],\n",
       " [0.2, None],\n",
       " [0.21, None],\n",
       " [0.22, None],\n",
       " [0.23, None],\n",
       " [0.24, None],\n",
       " [0.25, None],\n",
       " [0.26, None],\n",
       " [0.27, None],\n",
       " [0.28, None],\n",
       " [0.29, None],\n",
       " [0.3, None],\n",
       " [0.31, None],\n",
       " [0.32, None],\n",
       " [0.33, None],\n",
       " [0.34, None],\n",
       " [0.35000000000000003, None],\n",
       " [0.36, None],\n",
       " [0.37, None],\n",
       " [0.38, None],\n",
       " [0.39, None],\n",
       " [0.4, None],\n",
       " [0.41000000000000003, None],\n",
       " [0.42, None],\n",
       " [0.43, None],\n",
       " [0.44, None],\n",
       " [0.45, None],\n",
       " [0.46, None],\n",
       " [0.47000000000000003, None],\n",
       " [0.48, None],\n",
       " [0.49, None],\n",
       " [0.5, None],\n",
       " [0.51, None],\n",
       " [0.52, None],\n",
       " [0.53, None],\n",
       " [0.54, None],\n",
       " [0.55, None],\n",
       " [0.56, None],\n",
       " [0.5700000000000001, None],\n",
       " [0.58, None],\n",
       " [0.59, None],\n",
       " [0.6, None],\n",
       " [0.61, None],\n",
       " [0.62, None],\n",
       " [0.63, None],\n",
       " [0.64, None],\n",
       " [0.65, None],\n",
       " [0.66, None],\n",
       " [0.67, None],\n",
       " [0.68, None],\n",
       " [0.6900000000000001, None],\n",
       " [0.7000000000000001, None],\n",
       " [0.71, None],\n",
       " [0.72, None],\n",
       " [0.73, None],\n",
       " [0.74, None],\n",
       " [0.75, None],\n",
       " [0.76, None],\n",
       " [0.77, None],\n",
       " [0.78, None],\n",
       " [0.79, None],\n",
       " [0.8, None],\n",
       " [0.81, None],\n",
       " [0.8200000000000001, None],\n",
       " [0.8300000000000001, None],\n",
       " [0.84, None],\n",
       " [0.85, None],\n",
       " [0.86, None],\n",
       " [0.87, None],\n",
       " [0.88, None],\n",
       " [0.89, None],\n",
       " [0.9, None],\n",
       " [0.91, None],\n",
       " [0.92, None],\n",
       " [0.93, None],\n",
       " [0.9400000000000001, None],\n",
       " [0.9500000000000001, None],\n",
       " [0.96, None],\n",
       " [0.97, None],\n",
       " [0.98, None],\n",
       " [0.99, None],\n",
       " [1.0, None],\n",
       " [1.01, None],\n",
       " [1.02, None],\n",
       " [1.03, None],\n",
       " [1.04, None],\n",
       " [1.05, None],\n",
       " [1.06, None],\n",
       " [1.07, None],\n",
       " [1.08, None],\n",
       " [1.09, None],\n",
       " [1.1, None],\n",
       " [1.11, None],\n",
       " [1.12, None],\n",
       " [1.1300000000000001, None],\n",
       " [1.1400000000000001, None],\n",
       " [1.1500000000000001, None],\n",
       " [1.16, None],\n",
       " [1.17, None],\n",
       " [1.18, None],\n",
       " [1.19, None],\n",
       " [1.2, None],\n",
       " [1.21, None],\n",
       " [1.22, None],\n",
       " [1.23, None],\n",
       " [1.24, None],\n",
       " [1.25, None],\n",
       " [1.26, None],\n",
       " [1.27, None],\n",
       " [1.28, None],\n",
       " [1.29, None],\n",
       " [1.3, None],\n",
       " [1.31, None],\n",
       " [1.32, None],\n",
       " [1.33, None],\n",
       " [1.34, None],\n",
       " [1.35, None],\n",
       " [1.36, None],\n",
       " [1.37, None],\n",
       " [1.3800000000000001, None],\n",
       " [1.3900000000000001, None],\n",
       " [1.4000000000000001, None],\n",
       " [1.41, None],\n",
       " [1.42, None],\n",
       " [1.43, None],\n",
       " [1.44, None],\n",
       " [1.45, None],\n",
       " [1.46, None],\n",
       " [1.47, None],\n",
       " [1.48, None],\n",
       " [1.49, None],\n",
       " [1.5, None],\n",
       " [1.51, None],\n",
       " [1.52, None],\n",
       " [1.53, None],\n",
       " [1.54, None],\n",
       " [1.55, None],\n",
       " [1.56, None],\n",
       " [1.57, None],\n",
       " [1.58, None],\n",
       " [1.59, None],\n",
       " [1.6, None],\n",
       " [1.61, None],\n",
       " [1.62, None],\n",
       " [1.6300000000000001, None],\n",
       " [1.6400000000000001, None],\n",
       " [1.6500000000000001, None],\n",
       " [1.6600000000000001, None],\n",
       " [1.67, None],\n",
       " [1.68, None],\n",
       " [1.69, None],\n",
       " [1.7, None],\n",
       " [1.71, None],\n",
       " [1.72, None],\n",
       " [1.73, None],\n",
       " [1.74, None],\n",
       " [1.75, None],\n",
       " [1.76, None],\n",
       " [1.77, None],\n",
       " [1.78, None],\n",
       " [1.79, None],\n",
       " [1.8, None],\n",
       " [1.81, None],\n",
       " [1.82, None],\n",
       " [1.83, None],\n",
       " [1.84, None],\n",
       " [1.85, None],\n",
       " [1.86, None],\n",
       " [1.87, None],\n",
       " [1.8800000000000001, None],\n",
       " [1.8900000000000001, None],\n",
       " [1.9000000000000001, None],\n",
       " [1.9100000000000001, None],\n",
       " [1.92, None],\n",
       " [1.93, None],\n",
       " [1.94, None],\n",
       " [1.95, None],\n",
       " [1.96, None],\n",
       " [1.97, None],\n",
       " [1.98, None],\n",
       " [1.99, None],\n",
       " [2.0, None],\n",
       " [2.0100000000000002, None],\n",
       " [2.02, None],\n",
       " [2.0300000000000002, None],\n",
       " [2.04, None],\n",
       " [2.05, None],\n",
       " [2.06, None],\n",
       " [2.07, None],\n",
       " [2.08, None],\n",
       " [2.09, None],\n",
       " [2.1, None],\n",
       " [2.11, None],\n",
       " [2.12, None],\n",
       " [2.13, None],\n",
       " [2.14, None],\n",
       " [2.15, None],\n",
       " [2.16, None],\n",
       " [2.17, None],\n",
       " [2.18, None],\n",
       " [2.19, None],\n",
       " [2.2, None],\n",
       " [2.21, None],\n",
       " [2.22, None],\n",
       " [2.23, None],\n",
       " [2.24, None],\n",
       " [2.25, None],\n",
       " [2.2600000000000002, None],\n",
       " [2.27, None],\n",
       " [2.2800000000000002, None],\n",
       " [2.29, None],\n",
       " [2.3000000000000003, None],\n",
       " [2.31, None],\n",
       " [2.32, None],\n",
       " [2.33, None],\n",
       " [2.34, None],\n",
       " [2.35, None],\n",
       " [2.36, None],\n",
       " [2.37, None],\n",
       " [2.38, None],\n",
       " [2.39, None],\n",
       " [2.4, None],\n",
       " [2.41, None],\n",
       " [2.42, None],\n",
       " [2.43, None],\n",
       " [2.44, None],\n",
       " [2.45, None],\n",
       " [2.46, None],\n",
       " [2.47, None],\n",
       " [2.48, None],\n",
       " [2.49, None],\n",
       " [2.5, None],\n",
       " [2.5100000000000002, None],\n",
       " [2.52, None],\n",
       " [2.5300000000000002, None],\n",
       " [2.54, None],\n",
       " [2.5500000000000003, None],\n",
       " [2.56, None],\n",
       " [2.57, None],\n",
       " [2.58, None],\n",
       " [2.59, None],\n",
       " [2.6, None],\n",
       " [2.61, None],\n",
       " [2.62, None],\n",
       " [2.63, None],\n",
       " [2.64, None],\n",
       " [2.65, None],\n",
       " [2.66, None],\n",
       " [2.67, None],\n",
       " [2.68, None],\n",
       " [2.69, None],\n",
       " [2.7, None],\n",
       " [2.71, None],\n",
       " [2.72, None],\n",
       " [2.73, None],\n",
       " [2.74, None],\n",
       " [2.75, None],\n",
       " [2.7600000000000002, None],\n",
       " [2.77, None],\n",
       " [2.7800000000000002, None],\n",
       " [2.79, None],\n",
       " [2.8000000000000003, None],\n",
       " [2.81, None],\n",
       " [2.82, None],\n",
       " [2.83, None],\n",
       " [2.84, None],\n",
       " [2.85, None],\n",
       " [2.86, None],\n",
       " [2.87, None],\n",
       " [2.88, None],\n",
       " [2.89, None],\n",
       " [2.9, None],\n",
       " [2.91, None],\n",
       " [2.92, None],\n",
       " [2.93, None],\n",
       " [2.94, None],\n",
       " [2.95, None],\n",
       " [2.96, None],\n",
       " [2.97, None],\n",
       " [2.98, None],\n",
       " [2.99, None],\n",
       " [3.0, None],\n",
       " [3.05, None],\n",
       " [3.1, None],\n",
       " [3.15, None],\n",
       " [3.2, None],\n",
       " [3.25, None],\n",
       " [3.3, None],\n",
       " [3.35, None],\n",
       " [3.4, None],\n",
       " [3.45, None],\n",
       " [3.5, None],\n",
       " [3.55, None],\n",
       " [3.6, None],\n",
       " [3.65, None],\n",
       " [3.7, None],\n",
       " [3.75, None],\n",
       " [3.8, None],\n",
       " [3.85, None],\n",
       " [3.9, None],\n",
       " [3.95, None],\n",
       " [4.0, None],\n",
       " [4.05, None],\n",
       " [4.1, None],\n",
       " [4.15, None],\n",
       " [4.2, None],\n",
       " [4.25, None],\n",
       " [4.3, None],\n",
       " [4.35, None],\n",
       " [4.4, None],\n",
       " [4.45, None],\n",
       " [4.5,\n",
       "  (1.9186919744290898,\n",
       "   -0.19969083563999268,\n",
       "   83.72946827378098,\n",
       "   166.04938826654796)],\n",
       " [4.55,\n",
       "  (1.9315724357114465,\n",
       "   0.25469400140062626,\n",
       "   -32.09411756584058,\n",
       "   214.51609500853223)],\n",
       " [4.6, None],\n",
       " [4.65,\n",
       "  (1.779598558202255,\n",
       "   -0.8569776182245505,\n",
       "   -129.78684125072908,\n",
       "   247.5868966459903)],\n",
       " [4.7,\n",
       "  (1.998654833302656,\n",
       "   0.418293430760158,\n",
       "   -193.03375820250605,\n",
       "   277.40036528098057)],\n",
       " [4.75,\n",
       "  (1.913085235348401,\n",
       "   0.8738051350657179,\n",
       "   -75.09204635209989,\n",
       "   290.60907054741057)],\n",
       " [4.8,\n",
       "  (1.978276635930201,\n",
       "   -0.07272823121626248,\n",
       "   65.36369579648425,\n",
       "   133.9813285208075)],\n",
       " [4.85,\n",
       "  (1.6302039628464242,\n",
       "   0.9032882947913141,\n",
       "   -83.91701008933876,\n",
       "   269.153867865106)],\n",
       " [4.9,\n",
       "  (1.7216257693233734,\n",
       "   -0.2171465851346941,\n",
       "   9.869392557818742,\n",
       "   97.34915245963344)],\n",
       " [4.95,\n",
       "  (1.9863995816554594,\n",
       "   0.25217161536693955,\n",
       "   11.038089459290973,\n",
       "   106.38207002865286)],\n",
       " [5.0,\n",
       "  (1.7121564387078982,\n",
       "   -0.42256153172102984,\n",
       "   -236.1368284066442,\n",
       "   165.3811557205197)],\n",
       " [5.5,\n",
       "  (1.5072776792233058,\n",
       "   0.13506664987518913,\n",
       "   -271.22973944456163,\n",
       "   252.93757201144788)],\n",
       " [6.0,\n",
       "  (1.217127576707558,\n",
       "   -0.7462050711704444,\n",
       "   -124.42702808194403,\n",
       "   212.04968545731487)],\n",
       " [6.5,\n",
       "  (1.356350929312878,\n",
       "   0.2584387969732005,\n",
       "   -289.97023134002933,\n",
       "   279.4269839206277)],\n",
       " [7.0,\n",
       "  (1.6065162973300926,\n",
       "   0.16466482891817558,\n",
       "   -219.50120869366555,\n",
       "   40.39329055853743)],\n",
       " [7.5,\n",
       "  (1.462026539577315,\n",
       "   -0.1737272510221748,\n",
       "   -284.4837708734708,\n",
       "   194.03795133805474)],\n",
       " [8.0,\n",
       "  (1.5956114255796012,\n",
       "   0.5001975874943703,\n",
       "   -132.56001212542324,\n",
       "   63.579788033068816)],\n",
       " [8.5,\n",
       "  (1.856929615326304,\n",
       "   0.8443455157434645,\n",
       "   -183.00563311766803,\n",
       "   261.9533847412848)],\n",
       " [9.0,\n",
       "  (1.314993933915347,\n",
       "   -0.7000986336376189,\n",
       "   269.561356770821,\n",
       "   299.032057674367)],\n",
       " [9.5,\n",
       "  (1.5057887374928052,\n",
       "   -0.16240980090343982,\n",
       "   146.050940024888,\n",
       "   29.182837325447608)],\n",
       " [10.0,\n",
       "  (1.7438504761173292,\n",
       "   -0.5940365950869781,\n",
       "   -89.79814093898452,\n",
       "   209.60921601482255)],\n",
       " [11.0,\n",
       "  (1.3538482615649763,\n",
       "   -0.35210524086763817,\n",
       "   60.404921853514224,\n",
       "   10.485091634148114)],\n",
       " [12.0,\n",
       "  (1.4687585487015444,\n",
       "   0.3102802788452408,\n",
       "   -103.08394053987251,\n",
       "   145.78167481766076)],\n",
       " [13.0,\n",
       "  (1.9160786604093158,\n",
       "   -0.17510539602563036,\n",
       "   255.31618618120285,\n",
       "   107.9307245743822)],\n",
       " [14.0,\n",
       "  (1.360184495080257,\n",
       "   0.4736808179631118,\n",
       "   -103.34717657408476,\n",
       "   66.95254150918566)],\n",
       " [15.0,\n",
       "  (1.9397695706884268,\n",
       "   -0.9201079306678279,\n",
       "   19.19788295234082,\n",
       "   195.69924097482817)],\n",
       " [16.0,\n",
       "  (1.9550904276859717,\n",
       "   -0.0015831866887443535,\n",
       "   -56.53706579786396,\n",
       "   297.9224867535155)],\n",
       " [17.0,\n",
       "  (1.1527823876223273,\n",
       "   -0.9258576611887237,\n",
       "   -274.1344289606972,\n",
       "   30.795037745873966)],\n",
       " [18.0,\n",
       "  (1.7176906937949623,\n",
       "   0.6465256863347464,\n",
       "   -71.26737406121799,\n",
       "   299.2369938045415)],\n",
       " [19.0,\n",
       "  (1.2434602589915333,\n",
       "   -0.20152362069323138,\n",
       "   -119.37021349462475,\n",
       "   181.56700482937757)],\n",
       " [20.0,\n",
       "  (1.5390242254595448,\n",
       "   -0.0822824177509125,\n",
       "   61.94796729138528,\n",
       "   19.87655428655294)],\n",
       " [21.0,\n",
       "  (1.1049781070541742,\n",
       "   0.8994707429433957,\n",
       "   -280.01002100346307,\n",
       "   28.918059718461343)],\n",
       " [22.0,\n",
       "  (1.8756035632460772,\n",
       "   -0.17101608196002105,\n",
       "   207.34804974407808,\n",
       "   281.61122229569696)],\n",
       " [23.0,\n",
       "  (1.9537091903918429,\n",
       "   -0.5364992877368691,\n",
       "   -208.76553662417513,\n",
       "   49.7549940125637)],\n",
       " [24.0,\n",
       "  (1.2135353414851944,\n",
       "   -0.4867603905087039,\n",
       "   -82.41440481983605,\n",
       "   62.48539283155)],\n",
       " [25.0,\n",
       "  (1.4825563770761985,\n",
       "   0.3186935151626378,\n",
       "   247.76701977050436,\n",
       "   231.2356132647887)],\n",
       " [26.0,\n",
       "  (1.5672465989383182,\n",
       "   -0.7226317783547427,\n",
       "   26.96188949378717,\n",
       "   170.47200726104043)],\n",
       " [27.0,\n",
       "  (1.9380901884560209,\n",
       "   0.6933303512556965,\n",
       "   -78.62029746095507,\n",
       "   278.3083417823004)],\n",
       " [28.0,\n",
       "  (1.8633027759747196,\n",
       "   0.777422615637354,\n",
       "   66.06302731665522,\n",
       "   182.3947027232365)],\n",
       " [29.0,\n",
       "  (1.2437311427926359,\n",
       "   0.747733869489686,\n",
       "   -96.16624650665034,\n",
       "   278.29706905778767)],\n",
       " [30.0,\n",
       "  (1.3128969432020636,\n",
       "   0.5485460766714485,\n",
       "   272.9865932653862,\n",
       "   273.8086627672608)],\n",
       " [31.0,\n",
       "  (1.954972796946706,\n",
       "   -0.8084441145149688,\n",
       "   94.08700476128729,\n",
       "   58.24377946288743)],\n",
       " [32.0,\n",
       "  (1.8954191504614113,\n",
       "   -0.7338671082676336,\n",
       "   99.50985500822031,\n",
       "   97.48719485152728)],\n",
       " [33.0,\n",
       "  (1.3927243791754647,\n",
       "   -0.47043098029892527,\n",
       "   -49.652977306874504,\n",
       "   264.0117399371961)],\n",
       " [34.0,\n",
       "  (1.2914091882420342,\n",
       "   -0.17075089931629894,\n",
       "   -125.03230488671079,\n",
       "   103.05369979315385)],\n",
       " [35.0,\n",
       "  (1.5549466959183134,\n",
       "   0.7548539492303912,\n",
       "   195.64471953520547,\n",
       "   199.74072144644944)],\n",
       " [36.0,\n",
       "  (1.7781638086991034,\n",
       "   0.346767657403682,\n",
       "   177.11082032156554,\n",
       "   180.1032504898144)],\n",
       " [37.0,\n",
       "  (1.921078771406705,\n",
       "   -0.06778267325503395,\n",
       "   257.6227546050633,\n",
       "   68.45566910775426)],\n",
       " [38.0,\n",
       "  (1.5993525499008343,\n",
       "   0.17276673644296103,\n",
       "   -109.89271414460663,\n",
       "   298.5855167215344)],\n",
       " [39.0,\n",
       "  (1.348854715104463,\n",
       "   0.07869965994415185,\n",
       "   -257.80276235770896,\n",
       "   102.5620989507896)],\n",
       " [40.0,\n",
       "  (1.7506942853963445,\n",
       "   0.09420066538174754,\n",
       "   167.26164842052896,\n",
       "   215.25407449047862)],\n",
       " [41.0,\n",
       "  (1.5248155291836039,\n",
       "   0.7192267195502002,\n",
       "   -36.729523986837705,\n",
       "   139.410948451104)],\n",
       " [42.0,\n",
       "  (1.422587509613971,\n",
       "   -0.10862654157013685,\n",
       "   289.82334921058043,\n",
       "   231.83755631418893)],\n",
       " [43.0,\n",
       "  (1.8457974767253038,\n",
       "   -0.7171015036848196,\n",
       "   236.51613028887584,\n",
       "   255.18406181531716)],\n",
       " [44.0,\n",
       "  (1.344588669902361,\n",
       "   0.7560700914203726,\n",
       "   -127.88053993861166,\n",
       "   96.21903895543373)],\n",
       " [45.0,\n",
       "  (1.7606723560279207,\n",
       "   -0.579663247017056,\n",
       "   -210.4211059624006,\n",
       "   121.72356546357084)],\n",
       " [46.0,\n",
       "  (1.8761299247648435,\n",
       "   0.5110656211344067,\n",
       "   -143.4773305796359,\n",
       "   204.8332797152441)],\n",
       " [47.0,\n",
       "  (1.3088621560095732,\n",
       "   0.4612722926499542,\n",
       "   -285.5709980029867,\n",
       "   287.7877009325534)],\n",
       " [48.0,\n",
       "  (1.1558834564065994,\n",
       "   0.8765004619966152,\n",
       "   123.87641282769476,\n",
       "   80.36638660534892)],\n",
       " [49.0,\n",
       "  (1.9241464832426312,\n",
       "   -0.00029530095889485075,\n",
       "   -272.7456770904566,\n",
       "   274.63570900838295)],\n",
       " [50.0,\n",
       "  (1.6943145460968307,\n",
       "   0.2841187597445649,\n",
       "   131.97486622621096,\n",
       "   117.3666668304018)],\n",
       " [51.0,\n",
       "  (1.31285723686982,\n",
       "   0.5464520290302524,\n",
       "   -55.388633709387705,\n",
       "   11.474001202744033)],\n",
       " [52.0,\n",
       "  (1.160775041032521,\n",
       "   0.028799831239873397,\n",
       "   -81.83162948534971,\n",
       "   235.58600834666774)],\n",
       " [53.0,\n",
       "  (1.3990983897405775,\n",
       "   0.8317892412506038,\n",
       "   -68.15561295884561,\n",
       "   93.57622864077851)],\n",
       " [54.0,\n",
       "  (1.8002927058181961,\n",
       "   0.30713204219993195,\n",
       "   -237.89728676022827,\n",
       "   80.06336456046911)],\n",
       " [55.0,\n",
       "  (1.220973107839416,\n",
       "   -0.5310132607402014,\n",
       "   -141.41361666173557,\n",
       "   295.67629686051384)],\n",
       " [56.0,\n",
       "  (1.484134199595672,\n",
       "   -0.31082983882163884,\n",
       "   240.60603217441303,\n",
       "   25.423139428908502)],\n",
       " [57.0,\n",
       "  (1.167148606797587,\n",
       "   0.4333240184234799,\n",
       "   47.814632293617876,\n",
       "   198.6381142154643)],\n",
       " [58.0,\n",
       "  (1.6996645236832224,\n",
       "   -0.7895702577100434,\n",
       "   -102.29313893291905,\n",
       "   291.0867780142099)],\n",
       " [59.0,\n",
       "  (1.9207209860687602,\n",
       "   -0.32023108848675363,\n",
       "   170.59640398914644,\n",
       "   121.34366855513966)],\n",
       " [60.0,\n",
       "  (1.4263087032032373,\n",
       "   0.21458316483671025,\n",
       "   191.27331154017668,\n",
       "   218.91854840375976)],\n",
       " [61.0,\n",
       "  (1.418102843321344,\n",
       "   0.037772089450374136,\n",
       "   -96.19386336456753,\n",
       "   276.1987980336367)],\n",
       " [62.0,\n",
       "  (1.5388804402120604,\n",
       "   0.9294306021552261,\n",
       "   -181.12475080254734,\n",
       "   196.92327274378565)],\n",
       " [63.0,\n",
       "  (1.7834730452785668,\n",
       "   -0.012744372662346848,\n",
       "   -0.43622443426778545,\n",
       "   173.73849031517892)],\n",
       " [64.0,\n",
       "  (1.3355521787346893,\n",
       "   -0.0987618944335702,\n",
       "   -179.59803098914864,\n",
       "   242.14748992326054)],\n",
       " [65.0,\n",
       "  (1.4829776031669375,\n",
       "   -0.1320953249625676,\n",
       "   -68.30522128061912,\n",
       "   5.984530802084953)],\n",
       " [66.0,\n",
       "  (1.595909549043897,\n",
       "   0.9481722141027238,\n",
       "   -287.5321818153161,\n",
       "   158.9299674060113)],\n",
       " [67.0,\n",
       "  (1.2962141415780917,\n",
       "   -0.719912756795761,\n",
       "   157.09345655599907,\n",
       "   230.9503264928122)],\n",
       " [68.0,\n",
       "  (1.7753275225176908,\n",
       "   -0.7532683373358673,\n",
       "   -9.345377689797147,\n",
       "   115.75094875894139)],\n",
       " [69.0,\n",
       "  (1.5883444019937887,\n",
       "   0.4376662202654944,\n",
       "   128.07904198571237,\n",
       "   78.02301157598185)],\n",
       " [70.0,\n",
       "  (1.688807509937348,\n",
       "   0.7435939680815706,\n",
       "   -71.50710608160367,\n",
       "   131.72332564133583)],\n",
       " [71.0,\n",
       "  (1.8121022756506204,\n",
       "   0.22809988186699393,\n",
       "   140.21871864187432,\n",
       "   56.21080353992953)],\n",
       " [72.0,\n",
       "  (1.7926740753374015,\n",
       "   -0.7057858356801638,\n",
       "   -125.85094007374357,\n",
       "   16.12068090136285)],\n",
       " [73.0,\n",
       "  (1.791724555363404,\n",
       "   0.3365924706928236,\n",
       "   211.87023357037702,\n",
       "   226.12541454225746)],\n",
       " [74.0,\n",
       "  (1.9954849611471281,\n",
       "   0.0029810808347656703,\n",
       "   293.22138265251135,\n",
       "   36.167506593546605)],\n",
       " [75.0,\n",
       "  (1.6052536476436183,\n",
       "   0.10417863509285197,\n",
       "   181.5203090923623,\n",
       "   99.1208615078114)],\n",
       " [76.0,\n",
       "  (1.4081761529687629,\n",
       "   0.35710594161418996,\n",
       "   210.57529705023285,\n",
       "   264.9185662808776)],\n",
       " [77.0,\n",
       "  (1.7543062663312674,\n",
       "   0.6417884813540515,\n",
       "   -11.120640206276846,\n",
       "   149.31522997989018)],\n",
       " [78.0,\n",
       "  (1.466762210238068,\n",
       "   0.47425857221262246,\n",
       "   -226.2260105138218,\n",
       "   36.71372158392525)],\n",
       " [79.0,\n",
       "  (1.9818890781825649,\n",
       "   0.6473471477126411,\n",
       "   -111.83703941207085,\n",
       "   70.94218148572861)],\n",
       " [80.0,\n",
       "  (1.2076130783253287,\n",
       "   -0.6845050806692972,\n",
       "   46.49330768142772,\n",
       "   172.24269571049516)],\n",
       " [81.0,\n",
       "  (1.5022690294210839,\n",
       "   -0.22944309651325367,\n",
       "   158.6106225778725,\n",
       "   249.05204786670723)],\n",
       " [82.0,\n",
       "  (1.8453956593811838,\n",
       "   -0.7664344622569816,\n",
       "   140.88126933454004,\n",
       "   237.443824496692)],\n",
       " [83.0,\n",
       "  (1.4668508657907198,\n",
       "   -0.9591792259826377,\n",
       "   167.2782966697132,\n",
       "   36.232979537557256)],\n",
       " [84.0,\n",
       "  (1.7757846640230415,\n",
       "   0.9323359799131501,\n",
       "   -25.175553052807004,\n",
       "   29.897724882066555)],\n",
       " [85.0,\n",
       "  (1.5114569025018334,\n",
       "   0.14161789489616727,\n",
       "   -33.154705162743994,\n",
       "   13.734356895355948)],\n",
       " [86.0,\n",
       "  (1.6734075852812111,\n",
       "   -0.7081599754266612,\n",
       "   219.9629449978711,\n",
       "   173.0788092655149)],\n",
       " [87.0,\n",
       "  (1.5469578620250433,\n",
       "   -0.7709759852151343,\n",
       "   -75.68135466077862,\n",
       "   79.22906767078133)],\n",
       " [88.0,\n",
       "  (1.2330432769383946,\n",
       "   0.9410995282686785,\n",
       "   -50.84063579967943,\n",
       "   48.211576601636196)],\n",
       " [89.0,\n",
       "  (1.5528953776919185,\n",
       "   -0.40859888783257015,\n",
       "   -75.04337939584244,\n",
       "   167.79714506921738)],\n",
       " [90.0,\n",
       "  (1.350149378604625,\n",
       "   -0.7545212389722424,\n",
       "   -216.973137319413,\n",
       "   265.8048293642063)],\n",
       " [91.0,\n",
       "  (1.8237017659470904,\n",
       "   -0.792405302986364,\n",
       "   217.96032661399465,\n",
       "   184.66599755958552)],\n",
       " [92.0,\n",
       "  (1.7635313209336263,\n",
       "   0.05225667131998679,\n",
       "   -116.0766367396073,\n",
       "   276.0160215342359)],\n",
       " [93.0,\n",
       "  (1.967023511664085,\n",
       "   -0.894726613315219,\n",
       "   268.6521618186514,\n",
       "   200.2469379698555)],\n",
       " [94.0,\n",
       "  (1.7490093779834615,\n",
       "   -0.21172776536331295,\n",
       "   -212.71019900638987,\n",
       "   227.03982470547714)],\n",
       " [95.0,\n",
       "  (1.4325829936001326,\n",
       "   0.9278570321230044,\n",
       "   -209.8347671832683,\n",
       "   95.2149144678217)],\n",
       " [96.0,\n",
       "  (1.869496254667753,\n",
       "   -0.07322918349912322,\n",
       "   11.82967780280444,\n",
       "   112.25285712155564)],\n",
       " [97.0,\n",
       "  (1.9315005378417955,\n",
       "   0.5031853880882244,\n",
       "   -99.71096398163147,\n",
       "   142.05336533301198)],\n",
       " [98.0,\n",
       "  (1.7819772169664918,\n",
       "   0.40171165277764653,\n",
       "   -168.73246044419966,\n",
       "   139.27022639132935)],\n",
       " [99.0,\n",
       "  (1.679725714522169,\n",
       "   -0.057848376520866385,\n",
       "   -148.60808385063643,\n",
       "   120.49721291885108)],\n",
       " [100.0,\n",
       "  (1.2425395532989263,\n",
       "   0.7693845923179254,\n",
       "   275.7321104485013,\n",
       "   163.25831293632987)],\n",
       " [200.0,\n",
       "  (1.6539537103641773,\n",
       "   -0.5916630007017292,\n",
       "   -121.47873015986437,\n",
       "   8.929648514848697)],\n",
       " [300.0,\n",
       "  (1.9340318036374777,\n",
       "   0.9478670659621851,\n",
       "   -234.481288267275,\n",
       "   39.38063678051095)],\n",
       " [400.0,\n",
       "  (1.7626422237999289,\n",
       "   -0.08472293161781619,\n",
       "   102.60034180934872,\n",
       "   84.21514318890353)],\n",
       " [500.0,\n",
       "  (1.6756039822911148,\n",
       "   -0.9199591898531079,\n",
       "   -275.83956991355944,\n",
       "   127.92795220271009)],\n",
       " [600.0,\n",
       "  (1.1395395430429378,\n",
       "   0.5976119117437793,\n",
       "   99.03342760309857,\n",
       "   48.143643767617625)],\n",
       " [700.0,\n",
       "  (1.9448535402303335,\n",
       "   -0.38727158676913165,\n",
       "   -48.62730287527441,\n",
       "   122.79224625664598)],\n",
       " [800.0,\n",
       "  (1.8171486984184093,\n",
       "   0.5058373828043303,\n",
       "   191.81232207003683,\n",
       "   229.28471744950338)],\n",
       " [900.0,\n",
       "  (1.7799515516654614,\n",
       "   -0.6266378076058221,\n",
       "   -102.14216909422098,\n",
       "   86.65732499469019)]]"
      ]
     },
     "execution_count": 56,
     "metadata": {},
     "output_type": "execute_result"
    }
   ],
   "source": [
    "liste_parametres"
   ]
  },
  {
   "cell_type": "code",
   "execution_count": 58,
   "id": "76bf00c5-d29d-48fc-87ba-0f995930ce0d",
   "metadata": {},
   "outputs": [
    {
     "data": {
      "text/plain": [
       "NoneType"
      ]
     },
     "execution_count": 58,
     "metadata": {},
     "output_type": "execute_result"
    }
   ],
   "source": [
    "type(None)"
   ]
  },
  {
   "cell_type": "code",
   "execution_count": 89,
   "id": "0200f9e9-b8bf-4851-92a0-16aa3594b8c9",
   "metadata": {
    "collapsed": true,
    "jupyter": {
     "outputs_hidden": true
    }
   },
   "outputs": [
    {
     "name": "stdout",
     "output_type": "stream",
     "text": [
      "[  1.2376093    0.59289722 297.20456085  81.17646961]\n",
      "None\n"
     ]
    },
    {
     "ename": "ValueError",
     "evalue": "all the input array dimensions except for the concatenation axis must match exactly, but along dimension 1, the array at index 0 has size 4 and the array at index 1 has size 1",
     "output_type": "error",
     "traceback": [
      "\u001b[0;31m---------------------------------------------------------------------------\u001b[0m",
      "\u001b[0;31mValueError\u001b[0m                                Traceback (most recent call last)",
      "Cell \u001b[0;32mIn[89], line 6\u001b[0m\n\u001b[1;32m      4\u001b[0m interm \u001b[38;5;241m=\u001b[39m np\u001b[38;5;241m.\u001b[39marray(liste_parametres[i][\u001b[38;5;241m1\u001b[39m])\n\u001b[1;32m      5\u001b[0m \u001b[38;5;28mprint\u001b[39m(interm)\n\u001b[0;32m----> 6\u001b[0m total \u001b[38;5;241m=\u001b[39m \u001b[43mnp\u001b[49m\u001b[38;5;241;43m.\u001b[39;49m\u001b[43mvstack\u001b[49m\u001b[43m(\u001b[49m\u001b[43m(\u001b[49m\u001b[43mtotal\u001b[49m\u001b[43m,\u001b[49m\u001b[43m \u001b[49m\u001b[43minterm\u001b[49m\u001b[43m)\u001b[49m\u001b[43m)\u001b[49m\n",
      "File \u001b[0;32m/opt/mamba/lib/python3.11/site-packages/numpy/core/shape_base.py:289\u001b[0m, in \u001b[0;36mvstack\u001b[0;34m(tup, dtype, casting)\u001b[0m\n\u001b[1;32m    287\u001b[0m \u001b[38;5;28;01mif\u001b[39;00m \u001b[38;5;129;01mnot\u001b[39;00m \u001b[38;5;28misinstance\u001b[39m(arrs, \u001b[38;5;28mlist\u001b[39m):\n\u001b[1;32m    288\u001b[0m     arrs \u001b[38;5;241m=\u001b[39m [arrs]\n\u001b[0;32m--> 289\u001b[0m \u001b[38;5;28;01mreturn\u001b[39;00m \u001b[43m_nx\u001b[49m\u001b[38;5;241;43m.\u001b[39;49m\u001b[43mconcatenate\u001b[49m\u001b[43m(\u001b[49m\u001b[43marrs\u001b[49m\u001b[43m,\u001b[49m\u001b[43m \u001b[49m\u001b[38;5;241;43m0\u001b[39;49m\u001b[43m,\u001b[49m\u001b[43m \u001b[49m\u001b[43mdtype\u001b[49m\u001b[38;5;241;43m=\u001b[39;49m\u001b[43mdtype\u001b[49m\u001b[43m,\u001b[49m\u001b[43m \u001b[49m\u001b[43mcasting\u001b[49m\u001b[38;5;241;43m=\u001b[39;49m\u001b[43mcasting\u001b[49m\u001b[43m)\u001b[49m\n",
      "\u001b[0;31mValueError\u001b[0m: all the input array dimensions except for the concatenation axis must match exactly, but along dimension 1, the array at index 0 has size 4 and the array at index 1 has size 1"
     ]
    }
   ],
   "source": [
    "total = np.zeros(4)\n",
    "for i in range(len(liste_parametres)):\n",
    "    if type(liste_parametres[i][1]) != None:\n",
    "        interm = np.array(liste_parametres[i][1])\n",
    "        print(interm)\n",
    "        total = np.vstack((total, interm))"
   ]
  },
  {
   "cell_type": "code",
   "execution_count": 68,
   "id": "2e969222-e400-45fe-a1ae-dd61ee9b4df2",
   "metadata": {},
   "outputs": [
    {
     "name": "stdout",
     "output_type": "stream",
     "text": [
      "yes\n"
     ]
    }
   ],
   "source": [
    "if 1 == 2:\n",
    "    print('no')\n",
    "else:\n",
    "    print('yes')"
   ]
  },
  {
   "cell_type": "code",
   "execution_count": 73,
   "id": "9578ff69-e36c-4e6e-a2f9-493e1e3f7daa",
   "metadata": {},
   "outputs": [],
   "source": [
    "liste_parametres[3][1]"
   ]
  },
  {
   "cell_type": "code",
   "execution_count": 80,
   "id": "dd8050ba-3508-45d9-b8ea-2bcfbe7c7d8e",
   "metadata": {},
   "outputs": [
    {
     "name": "stdout",
     "output_type": "stream",
     "text": [
      "[  1.63020396   0.90328829 -83.91701009 269.15386787]\n"
     ]
    }
   ],
   "source": [
    "for i in range(len(liste_parametres)):\n",
    "    if liste_parametres[i][0] == 4.85:\n",
    "        print(np.array(liste_parametres[i][1]))"
   ]
  },
  {
   "cell_type": "code",
   "execution_count": 90,
   "id": "5162bc01-9357-4fd5-8b21-62c56ab2873b",
   "metadata": {},
   "outputs": [],
   "source": [
    "#faudra changer aussi le format du test, pas liste mais passer direct en array"
   ]
  },
  {
   "cell_type": "code",
   "execution_count": null,
   "id": "5f19afa8-75d1-47b0-9bb4-3f50c24a2326",
   "metadata": {},
   "outputs": [],
   "source": []
  }
 ],
 "metadata": {
  "kernelspec": {
   "display_name": "Python 3 (ipykernel)",
   "language": "python",
   "name": "python3"
  },
  "language_info": {
   "codemirror_mode": {
    "name": "ipython",
    "version": 3
   },
   "file_extension": ".py",
   "mimetype": "text/x-python",
   "name": "python",
   "nbconvert_exporter": "python",
   "pygments_lexer": "ipython3",
   "version": "3.11.6"
  }
 },
 "nbformat": 4,
 "nbformat_minor": 5
}
