{
 "cells": [
  {
   "cell_type": "code",
   "execution_count": 4,
   "id": "42432d8d-94f8-4932-ad13-1ee5ac96d262",
   "metadata": {},
   "outputs": [],
   "source": [
    "###Importation des packages\n",
    "\n",
    "import numpy as np\n"
   ]
  },
  {
   "cell_type": "code",
   "execution_count": 5,
   "id": "08e5e0ff-9961-4ac3-97fd-a7da7c88dbb5",
   "metadata": {},
   "outputs": [],
   "source": [
    "def generation(n, alpha=2, beta=0, gamma=1, delta=0):\n",
    "    y = [0]*n\n",
    "    tan = np.tan(np.pi*alpha/2)\n",
    "    S = (1 + beta**2 * tan**2) ** (1 / (2 * alpha))\n",
    "    B = (1 / alpha) * np.arctan(beta * tan)\n",
    "    print(\"S:\", S, \"B:\", B, \"tan(pi*alpha/2)\", tan)\n",
    "\n",
    "    for i in range(n):\n",
    "        w = -np.log(1 - np.random.rand())\n",
    "        u = np.random.uniform(-np.pi/2, np.pi/2)\n",
    "        \n",
    "        if alpha == 1:\n",
    "            print(\"before transf:\", y[i])\n",
    "            y[i] = 2 / np.pi * ((np.pi/2 + beta * u) * np.tan(u) - beta * np.log((np.pi/2 * w * np.cos(u)) / (np.pi/2 + beta * u)))\n",
    "            print(\"after transf:\", y[i])\n",
    "        else:\n",
    "            print(\"before transf:\", y[i])\n",
    "            y[i] = S * np.sin(alpha) * (u + B) / (np.cos(u)**(1 / alpha)) * (np.cos(u - alpha * (u + B)) / w) ** ((1 - alpha) / alpha)\n",
    "            print(\"after transf:\", y[i])\n",
    "\n",
    "        print(\"before scaling:\", y[i])\n",
    "        y[i] = gamma * y[i] + delta\n",
    "        print(\"after scaling:\", y[i])\n",
    "    return y"
   ]
  },
  {
   "cell_type": "markdown",
   "id": "730672f9-d2bb-4caf-9f57-df2d110eb6ce",
   "metadata": {},
   "source": [
    "$\\theta = (\\alpha, \\beta, \\gamma, \\delta)$ \n",
    "\n",
    "N = 1000\n",
    "\n",
    "$x^1,...,x^p$ ~ $\\pi(x|\\theta)$\n",
    "\n",
    "$K_{\\epsilon} (y-x)$ def by $S(y)$ ~ $N(S(x), \\epsilon^2 \\hat{\\Sigma})$ $\\leftarrow$ that would be our gaussian kernel\n",
    "\n",
    "$\\hat{\\Sigma}$ is an estimate of $Cov(S(x)\\hat{\\theta})$\n",
    "\n",
    "$\\Lambda$ = diag(0.25, 0.25, 1, 1)\n",
    "\n",
    "Mutation kernel : $M_t(\\theta_t) = \\sum_{i=1}^{N} W_{t-1}^{(i)}(\\theta_{t-1}^{(i)}) \\phi(\\theta_t ; \\theta_{t-1}^{(i)})$\n",
    "\n",
    "Gaussian kernel : $L(x,t) = \\sum_{n = -M}^{M}f(x-n)G(n,t)$\n",
    "\n",
    "with G(n,t) = $\\frac{1}{\\sqrt{2\\pi t}}e^{-\\frac{n^2}{2t}}$\n",
    "\n",
    "\n",
    "As t increases, $\\epsilon_t$ decreases\n",
    "\n"
   ]
  },
  {
   "cell_type": "markdown",
   "id": "25a73037-8b81-4e2b-a980-8c7bd8ef51da",
   "metadata": {},
   "source": [
    "# Seed : 256652"
   ]
  },
  {
   "cell_type": "code",
   "execution_count": 23,
   "id": "9875ffab-8c7a-495b-9957-ebf7045df588",
   "metadata": {},
   "outputs": [],
   "source": [
    "np.random.seed(256652)\n",
    "\n",
    "#creation des prior des parametres cf section 3.1\n",
    "\n",
    "prior_alpha = np.random.uniform(1.1, 2., size=1000)\n",
    "prior_beta = np.random.uniform(-1., 1, size=1000)\n",
    "prior_gamma = np.random.uniform(0., 300., size=1000)\n",
    "prior_delta = np.random.uniform(-300., 300., size=1000)\n",
    "\n",
    "#scale parameters\n",
    "\n",
    "epsilon_t\n",
    "\n",
    "N = 1000\n",
    "varcov_lambda = np.array([0.25,0.,0.,0.,0.,0.25, 0., 0.,0.,0.,1.,0.,0.,0.,0.,1]).reshape([4,4])"
   ]
  },
  {
   "cell_type": "code",
   "execution_count": 24,
   "id": "4bf9dfaf-588e-43b8-809d-55bc58bdc4a8",
   "metadata": {},
   "outputs": [],
   "source": [
    "#epsilon_t = [range(100,1100,100), range(10,100,10)]"
   ]
  },
  {
   "cell_type": "code",
   "execution_count": 25,
   "id": "46f529b7-84ae-4520-a477-7f3b501f2cf6",
   "metadata": {},
   "outputs": [
    {
     "data": {
      "text/plain": [
       "{}"
      ]
     },
     "execution_count": 25,
     "metadata": {},
     "output_type": "execute_result"
    }
   ],
   "source": [
    "{}"
   ]
  },
  {
   "cell_type": "code",
   "execution_count": 26,
   "id": "8462b532-0708-4bdc-a3d0-f820ab2d3d4f",
   "metadata": {},
   "outputs": [
    {
     "data": {
      "text/plain": [
       "2.0"
      ]
     },
     "execution_count": 26,
     "metadata": {},
     "output_type": "execute_result"
    }
   ],
   "source": [
    "2."
   ]
  },
  {
   "cell_type": "code",
   "execution_count": 27,
   "id": "b573c1b1-78a8-408d-b521-2591a75a9903",
   "metadata": {},
   "outputs": [
    {
     "name": "stdout",
     "output_type": "stream",
     "text": [
      "100\n",
      "200\n",
      "300\n",
      "400\n",
      "500\n",
      "600\n",
      "700\n",
      "800\n",
      "900\n"
     ]
    }
   ],
   "source": [
    "for i in frb:\n",
    "    print(i)"
   ]
  },
  {
   "cell_type": "code",
   "execution_count": null,
   "id": "8b93f6a1-2350-462d-aa06-18a269053542",
   "metadata": {},
   "outputs": [],
   "source": []
  }
 ],
 "metadata": {
  "kernelspec": {
   "display_name": "Python 3 (ipykernel)",
   "language": "python",
   "name": "python3"
  },
  "language_info": {
   "codemirror_mode": {
    "name": "ipython",
    "version": 3
   },
   "file_extension": ".py",
   "mimetype": "text/x-python",
   "name": "python",
   "nbconvert_exporter": "python",
   "pygments_lexer": "ipython3",
   "version": "3.11.6"
  }
 },
 "nbformat": 4,
 "nbformat_minor": 5
}
