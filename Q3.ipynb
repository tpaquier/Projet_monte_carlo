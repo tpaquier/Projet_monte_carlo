{
 "cells": [
  {
   "cell_type": "code",
   "execution_count": null,
   "id": "42432d8d-94f8-4932-ad13-1ee5ac96d262",
   "metadata": {},
   "outputs": [],
   "source": [
    "###Importation des packages\n",
    "\n",
    "import numpy as np\n"
   ]
  },
  {
   "cell_type": "code",
   "execution_count": null,
   "id": "08e5e0ff-9961-4ac3-97fd-a7da7c88dbb5",
   "metadata": {},
   "outputs": [],
   "source": [
    "def generation(n, alpha=2, beta=0, gamma=1, delta=0):\n",
    "    y = [0]*n\n",
    "    tan = np.tan(np.pi*alpha/2)\n",
    "    S = (1 + beta**2 * tan**2) ** (1 / (2 * alpha))\n",
    "    B = (1 / alpha) * np.arctan(beta * tan)\n",
    "    print(\"S:\", S, \"B:\", B, \"tan(pi*alpha/2)\", tan)\n",
    "\n",
    "    for i in range(n):\n",
    "        w = -np.log(1 - np.random.rand())\n",
    "        u = np.random.uniform(-np.pi/2, np.pi/2)\n",
    "        \n",
    "        if alpha == 1:\n",
    "            print(\"before transf:\", y[i])\n",
    "            y[i] = 2 / np.pi * ((np.pi/2 + beta * u) * np.tan(u) - beta * np.log((np.pi/2 * w * np.cos(u)) / (np.pi/2 + beta * u)))\n",
    "            print(\"after transf:\", y[i])\n",
    "        else:\n",
    "            print(\"before transf:\", y[i])\n",
    "            y[i] = S * np.sin(alpha) * (u + B) / (np.cos(u)**(1 / alpha)) * (np.cos(u - alpha * (u + B)) / w) ** ((1 - alpha) / alpha)\n",
    "            print(\"after transf:\", y[i])\n",
    "\n",
    "        print(\"before scaling:\", y[i])\n",
    "        y[i] = gamma * y[i] + delta\n",
    "        print(\"after scaling:\", y[i])\n",
    "    return y"
   ]
  },
  {
   "cell_type": "markdown",
   "id": "730672f9-d2bb-4caf-9f57-df2d110eb6ce",
   "metadata": {},
   "source": [
    "$\\theta = (\\alpha, \\beta, \\gamma, \\delta)$ \n",
    "\n",
    "N = 1000\n",
    "\n",
    "$x^1,...,x^p$ ~ $\\pi(x|\\theta)$\n",
    "\n",
    "$\\pi_{LF}(\\theta|y)$ = $\\pi(\\theta)\\mathbb{E}_{\\pi(x|\\theta)}[K_{\\epsilon} (y-x)]$ $\\leftarrow$ we do monte carlo on this\n",
    "\n",
    "$K_{\\epsilon} (y-x)$ def by $S(y)$ ~ $N(S(x), \\epsilon^2 \\hat{\\Sigma})$ $\\leftarrow$ that would be our gaussian kernel\n",
    "\n",
    "$\\hat{\\Sigma}$ is an estimate of $Cov(S(x)\\hat{\\theta})$\n",
    "\n",
    "$\\Lambda$ = diag(0.25, 0.25, 1, 1)\n",
    "\n",
    "Mutation kernel : $M_t(\\theta_t) = \\sum_{i=1}^{N} W_{t-1}^{(i)}(\\theta_{t-1}^{(i)}) \\phi(\\theta_t ; \\theta_{t-1}^{(i)})$\n",
    "\n",
    "Gaussian kernel : $L(x,t) = \\sum_{n = -M}^{M}f(x-n)G(n,t)$\n",
    "\n",
    "with G(n,t) = $\\frac{1}{\\sqrt{2\\pi t}}e^{-\\frac{n^2}{2t}}$\n",
    "\n",
    "\n",
    "As t increases, $\\epsilon_t$ decreases\n",
    "\n",
    "$\\hat{c_t}$ is the 90th quantile of the weights"
   ]
  },
  {
   "cell_type": "code",
   "execution_count": null,
   "id": "46f529b7-84ae-4520-a477-7f3b501f2cf6",
   "metadata": {},
   "outputs": [],
   "source": [
    "{}"
   ]
  },
  {
   "cell_type": "markdown",
   "id": "25a73037-8b81-4e2b-a980-8c7bd8ef51da",
   "metadata": {},
   "source": [
    "# Seed : 256652"
   ]
  },
  {
   "cell_type": "code",
   "execution_count": null,
   "id": "9875ffab-8c7a-495b-9957-ebf7045df588",
   "metadata": {},
   "outputs": [],
   "source": [
    "np.random.seed(256652)\n",
    "\n",
    "#creation des prior des parametres cf section 3.1\n",
    "\n",
    "prior_alpha = np.random.uniform(1.1, 2., size=1000)\n",
    "prior_beta = np.random.uniform(-1., 1, size=1000)\n",
    "prior_gamma = np.random.uniform(0., 300., size=1000)\n",
    "prior_delta = np.random.uniform(-300., 300., size=1000)\n",
    "\n",
    "#scale parameters\n",
    "\n",
    "#epsilon_t\n",
    "\n",
    "mille = np.linspace(start=100, stop=1000, endpoint=True, num=10)[::-1]\n",
    "cent = np.linspace(start=10, stop=100, endpoint=False, num=90)[::-1]\n",
    "dix = np.linspace(start=5, stop=10, endpoint=False, num=10)[::-1]\n",
    "cinq = np.linspace(start=3, stop=5, endpoint=False, num=40)[::-1]\n",
    "trois = np.linspace(start=0, stop=3, endpoint=False, num=300)[::-1]\n",
    "\n",
    "scale_param = np.concatenate((mille, cent, dix, cinq, trois))\n",
    "\n",
    "\n",
    "N = 1000\n",
    "varcov_lambda = np.array([0.25,0.,0.,0.,0.,0.25, 0., 0.,0.,0.,1.,0.,0.,0.,0.,1]).reshape([4,4])"
   ]
  },
  {
   "cell_type": "code",
   "execution_count": null,
   "id": "8462b532-0708-4bdc-a3d0-f820ab2d3d4f",
   "metadata": {},
   "outputs": [],
   "source": [
    "2."
   ]
  },
  {
   "cell_type": "code",
   "execution_count": null,
   "id": "71cd4541-9c5c-47e6-b2e8-ee816506f33a",
   "metadata": {},
   "outputs": [],
   "source": [
    "4.75e+00"
   ]
  },
  {
   "cell_type": "code",
   "execution_count": null,
   "id": "66d3973d-8603-4866-8fc0-1294941a1e23",
   "metadata": {
    "scrolled": true
   },
   "outputs": [],
   "source": [
    "%%capture\n",
    "#data generation and definition of moments\n",
    "\n",
    "data_simulation = generation(n=1000, alpha=2, beta=0.5, gamma=3, delta=4)"
   ]
  },
  {
   "cell_type": "code",
   "execution_count": null,
   "id": "70ce4e91-59ca-4e43-99dd-95d22c873514",
   "metadata": {},
   "outputs": [],
   "source": [
    "%%capture\n",
    "#sort data to be sure the quantiles are well computed bc you never know\n",
    "data_simulation = np.sort(data_simulation)"
   ]
  },
  {
   "cell_type": "code",
   "execution_count": null,
   "id": "cd10c032-a553-4afd-b655-2eb87e9fab4e",
   "metadata": {},
   "outputs": [],
   "source": [
    "useful_quantiles = np.quantile(a=data_simulation, q=[0.95, 0.75, 0.5, 0.25, 0.05])"
   ]
  },
  {
   "cell_type": "code",
   "execution_count": null,
   "id": "e6852eb6-8494-4071-9d6e-3673fbec722b",
   "metadata": {},
   "outputs": [],
   "source": [
    "useful_quantiles"
   ]
  },
  {
   "cell_type": "code",
   "execution_count": null,
   "id": "c302b652-f478-4e7f-8f5e-8806bbbad5ce",
   "metadata": {},
   "outputs": [],
   "source": [
    "q_95 = useful_quantiles[0]\n",
    "q_75 = useful_quantiles[1]\n",
    "q_50 = useful_quantiles[2]\n",
    "q_25 = useful_quantiles[3]\n",
    "q_05 = useful_quantiles[4]"
   ]
  },
  {
   "cell_type": "markdown",
   "id": "bc184de7-a21a-4e69-9511-1e1c623632d6",
   "metadata": {},
   "source": [
    "### Mc Culloch's quantiles"
   ]
  },
  {
   "cell_type": "code",
   "execution_count": null,
   "id": "71aefc4e-7b67-4ab3-b5f1-b9f74fc0fa5d",
   "metadata": {},
   "outputs": [],
   "source": [
    "alpha_hat = (q_95-q_05)/(q_75-q_25)\n",
    "beta_hat = (q_95+q_05+2*q_50)/(q_95-q_05)\n",
    "gamma_hat = (q_75-q_25)/3\n",
    "#on a le 3 au denominateur parce que c'est comme ca qu on a genere nos donnees\n",
    "#d'apres le papier, ca va de prendre le gamma qu'on a utililse pour generer\n",
    "delta_hat = np.mean(data_simulation)"
   ]
  },
  {
   "cell_type": "code",
   "execution_count": null,
   "id": "46ea9d73-6242-4cbc-9abe-4b9eaff06a13",
   "metadata": {},
   "outputs": [],
   "source": [
    "S_1 = np.transpose(np.array((alpha_hat, beta_hat, gamma_hat, delta_hat)))"
   ]
  },
  {
   "cell_type": "code",
   "execution_count": null,
   "id": "a1b82c58-ed99-47f6-8d34-274f9fc45ecf",
   "metadata": {},
   "outputs": [],
   "source": [
    "S_1"
   ]
  },
  {
   "cell_type": "code",
   "execution_count": null,
   "id": "364a9b69-f54d-4383-956f-a4b94025e4ab",
   "metadata": {},
   "outputs": [],
   "source": [
    "delta_hat"
   ]
  },
  {
   "cell_type": "markdown",
   "id": "25e14302-6542-4195-8937-bda53ef5b4fb",
   "metadata": {},
   "source": [
    "Test runned with one million simulations, the estimators seemed to be biased."
   ]
  },
  {
   "cell_type": "code",
   "execution_count": null,
   "id": "77542540-2873-4e6a-8916-accc36fe1cd1",
   "metadata": {},
   "outputs": [],
   "source": []
  },
  {
   "cell_type": "code",
   "execution_count": null,
   "id": "a1fea5c1-e6af-4fe0-a21e-0fad7118c6bd",
   "metadata": {},
   "outputs": [],
   "source": [
    "def prior_lf_mc():\n",
    "    \"estimation monte carlo de la vraisemblance\n",
    "    "
   ]
  },
  {
   "cell_type": "code",
   "execution_count": null,
   "id": "7bbd5fd5-f0a4-4a47-b2a9-c7f848691787",
   "metadata": {},
   "outputs": [],
   "source": [
    "def smc_prc_abc(N=1000, epsilon_t):\n",
    "    \"\"\"Algorithme ABC de l'appendix A de l'article.\n",
    "\n",
    "\n",
    "    Parameters\n",
    "    ---------------------------\n",
    "    N : int\n",
    "    Nombre d'echantillons crees pour les parametres\n",
    "\n",
    "    epsilon_t : array\n",
    "    Les marges d'acceptation pour l'algorithme\n",
    "    \"\"\"\n",
    "    #les prior sont des uniformes cf partie 3.1\n",
    "    prior_alpha = np.random.uniform(1.1, 2., size=N)\n",
    "    prior_beta = np.random.uniform(-1., 1, size=N)\n",
    "    prior_gamma = np.random.uniform(0., 300., size=N)\n",
    "    prior_delta = np.random.uniform(-300., 300., size=N)\n",
    "    prior_gen = np.vstack((prior_alpha,prior_beta,prior_delta, prior_gamma))\n",
    "    \n",
    "    #the weights\n",
    "    \n",
    "\n",
    "    \n",
    "\n",
    "    "
   ]
  },
  {
   "cell_type": "code",
   "execution_count": null,
   "id": "fdd2fdae-a55a-4d9d-abd9-f0783c636817",
   "metadata": {},
   "outputs": [],
   "source": [
    "a = np.array((1,2,3,4,5))"
   ]
  },
  {
   "cell_type": "code",
   "execution_count": null,
   "id": "247416ed-cc2c-4b90-972b-3ce5697cdea9",
   "metadata": {},
   "outputs": [],
   "source": [
    "a"
   ]
  },
  {
   "cell_type": "code",
   "execution_count": null,
   "id": "20105695-c735-4530-b130-1f22ecf7fd85",
   "metadata": {},
   "outputs": [],
   "source": [
    "b = np.array((5,4,3,2,1))"
   ]
  },
  {
   "cell_type": "code",
   "execution_count": null,
   "id": "8a82e8a7-7712-4a15-bb1e-99e94ed16f39",
   "metadata": {},
   "outputs": [],
   "source": [
    "a/b"
   ]
  },
  {
   "cell_type": "code",
   "execution_count": null,
   "id": "01481a25-6ea7-4cfd-a8f9-08449ebfc7eb",
   "metadata": {},
   "outputs": [],
   "source": [
    "c = np.array((5,1,3,2,4))"
   ]
  },
  {
   "cell_type": "code",
   "execution_count": null,
   "id": "185e4219-6e92-456f-871d-fd047fddf603",
   "metadata": {},
   "outputs": [],
   "source": [
    "test = np.vstack((a,b,c))"
   ]
  },
  {
   "cell_type": "code",
   "execution_count": null,
   "id": "1453d515-47b0-4811-8e18-04d363f980ca",
   "metadata": {},
   "outputs": [],
   "source": [
    "test"
   ]
  },
  {
   "cell_type": "code",
   "execution_count": null,
   "id": "c9407416-a8ea-4c87-ac03-b1f43190feda",
   "metadata": {},
   "outputs": [],
   "source": [
    "test[:,0][0]"
   ]
  },
  {
   "cell_type": "code",
   "execution_count": null,
   "id": "e1973be9-93d3-436e-81dd-c9c0ba7b6a4b",
   "metadata": {},
   "outputs": [],
   "source": []
  }
 ],
 "metadata": {
  "kernelspec": {
   "display_name": "Python 3 (ipykernel)",
   "language": "python",
   "name": "python3"
  },
  "language_info": {
   "codemirror_mode": {
    "name": "ipython",
    "version": 3
   },
   "file_extension": ".py",
   "mimetype": "text/x-python",
   "name": "python",
   "nbconvert_exporter": "python",
   "pygments_lexer": "ipython3",
   "version": "3.11.6"
  }
 },
 "nbformat": 4,
 "nbformat_minor": 5
}
