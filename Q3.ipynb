{
 "cells": [
  {
   "cell_type": "code",
   "execution_count": 1,
   "id": "42432d8d-94f8-4932-ad13-1ee5ac96d262",
   "metadata": {},
   "outputs": [],
   "source": [
    "###Import des packages\n",
    "import matplotlib.pyplot as plt\n",
    "import numpy as np\n",
    "import time\n",
    "import scipy"
   ]
  },
  {
   "cell_type": "code",
   "execution_count": 2,
   "id": "718e47a5-2af7-4268-b51b-f27f54bef374",
   "metadata": {},
   "outputs": [],
   "source": [
    "instants = np.linspace(start=-5, stop=5, num=4, endpoint=True)"
   ]
  },
  {
   "cell_type": "code",
   "execution_count": 3,
   "id": "10eb6d17-48d2-4823-bf3b-a9f70dd4d572",
   "metadata": {},
   "outputs": [],
   "source": [
    "def generation(n, alpha=1.7, beta=0.9, gamma=10, delta=10):\n",
    "    # Initialize samples array with zeros\n",
    "    sample = np.zeros(n)\n",
    "    \n",
    "    # Constants that do not depend on the sample index and thus can be computed once\n",
    "    if alpha != 1:\n",
    "        S_alpha_beta = (1 + beta ** 2 * np.tan(np.pi * alpha / 2) ** 2) ** (1 / (2 * alpha))\n",
    "        B_alpha_beta = (1 / alpha) * np.arctan(beta * np.tan(np.pi * alpha / 2))\n",
    "\n",
    "    for i in range(n):\n",
    "        U = np.random.uniform(-np.pi/2, np.pi/2)\n",
    "        W = -np.log(1 - np.random.uniform(0,1))\n",
    "        \n",
    "        # Handle the case alpha = 1 separately\n",
    "        if alpha != 1:\n",
    "            part1 = np.sin(alpha * (U + B_alpha_beta)) / (np.cos(U) ** (1 / alpha))\n",
    "            part2 = (np.cos(U - alpha * (U + B_alpha_beta)) / W) ** ((1 - alpha) / alpha)\n",
    "            sample[i] = S_alpha_beta * part1 * part2\n",
    "        else:\n",
    "            sample[i] = (2 / np.pi) * ((np.pi / 2 + beta * U) * np.tan(U) - beta * np.log((np.pi / 2 * W * np.cos(U))/(np.pi+beta*U)))\n",
    "\n",
    "    # Apply scaling and location shifting\n",
    "    sample = gamma * sample + delta\n",
    "    return sample"
   ]
  },
  {
   "cell_type": "code",
   "execution_count": 4,
   "id": "e09bd2f3-1832-4756-bb5e-1d7621b547ac",
   "metadata": {},
   "outputs": [],
   "source": [
    "default = generation(n=1000)"
   ]
  },
  {
   "cell_type": "code",
   "execution_count": 5,
   "id": "5940a546-e114-42a1-8814-9ad9de70e0b8",
   "metadata": {},
   "outputs": [],
   "source": [
    "def char_fun_zolo(t, nu, etha, tau):\n",
    "    \"\"\"characteristic function to use from S2 to S5\n",
    "\n",
    "    Parameters\n",
    "    ----------------------------\n",
    "    t : float\n",
    "    the \"instant\" we want to check\n",
    "\n",
    "    nu : float\n",
    "    parameter of the alpha-stable distribution, >= 1/4.\n",
    "\n",
    "    etha :float\n",
    "    parameter of the alpha-stable distribution, np.sign(etha) <= min(1, 2*np.sqrt(nu)-1)\n",
    "\n",
    "    tau : float\n",
    "    parameter of the alpha-stable distribution, absolute value < inf\n",
    "    ------------------------------\n",
    "    \"\"\"\n",
    "\n",
    "    y = -np.exp((nu**(-1/2))*(np.log(np.abs(t)) + tau - 1j*(np.pi/2)*etha*np.sign(t)) + np.e*((nu**(-1/2))-1))\n",
    "    return y\n",
    "    "
   ]
  },
  {
   "cell_type": "code",
   "execution_count": 6,
   "id": "4b145898-5a27-461a-8238-d4b29efe0257",
   "metadata": {},
   "outputs": [],
   "source": [
    "def emp_char_fun(sample, t):\n",
    "    \"\"\"function to evaluate the empirical characteristic of a function at an instant t\n",
    "\n",
    "    Parameters\n",
    "    -------------------------\n",
    "    sample : array-like\n",
    "    sample on which we want to evaluate the characteristic function\n",
    "\n",
    "    t : int, float\n",
    "    moment to estimate/generate\n",
    "    --------------------------\n",
    "    \"\"\"\n",
    "    expo_transfo = np.exp(-sample*1j*t)\n",
    "    empirical = np.mean(expo_transfo)\n",
    "    return empirical\n",
    "    "
   ]
  },
  {
   "cell_type": "code",
   "execution_count": 7,
   "id": "463550b4-ef80-44a3-bc30-0ecaa576da2c",
   "metadata": {},
   "outputs": [],
   "source": [
    "def th_char_fun(t, alpha=1.7, beta=0.9, gamma=10, delta=10):\n",
    "    \"\"\"characteristic function used in the paper\n",
    "\n",
    "    Parameters\n",
    "    --------------------------------\n",
    "    t : float, array-like\n",
    "    value or values for which we would like to compute the characteristic function, instants/moments\n",
    "\n",
    "    alpha, beta, gamma, delta : float\n",
    "    the parameters of our distribution\n",
    "    ---------------------------------\n",
    "    \"\"\"\n",
    "    if alpha == 1:\n",
    "        y=np.exp(1j*delta*t-gamma*np.abs(t)*(1+1j*beta*(2/np.pi)*np.sign(t)*np.log(gamma*np.abs(t))))\n",
    "    else :\n",
    "        y=np.exp(1j*delta*t-gamma*np.abs(t)*(1+1j*beta*np.tan(np.pi*alpha/2)*np.sign(t)*((np.abs(gamma*t)**(1-alpha))-1)))\n",
    "\n",
    "    return y"
   ]
  },
  {
   "cell_type": "code",
   "execution_count": 18,
   "id": "197d552a-032b-40de-bc62-bce8ffba6a53",
   "metadata": {},
   "outputs": [],
   "source": [
    "def gaussian_ker(u=0, y=0, epsilon=1):\n",
    "    \"\"\"gaussian kernel for weights\n",
    "    \n",
    "    Parameters\n",
    "    -------------------\n",
    "    y : float, or array-like\n",
    "    the point we have, the output\n",
    "\n",
    "    u : float, or array-like\n",
    "    the point from which we want to calculate a weight\n",
    "\n",
    "    epsilon : int, float\n",
    "    the scale parameter for which we want to compute the kernel\n",
    "    ----------\n",
    "    \"\"\"\n",
    "\n",
    "    w = (1/np.sqrt(2*np.pi*(epsilon**2)))*np.exp(-(np.abs((u-y)))**2/(2*(epsilon**2)))/epsilon\n",
    "    return w"
   ]
  },
  {
   "cell_type": "markdown",
   "id": "730672f9-d2bb-4caf-9f57-df2d110eb6ce",
   "metadata": {},
   "source": [
    "$\\theta = (\\alpha, \\beta, \\gamma, \\delta)$ \n",
    "\n",
    "N = 1000\n",
    "\n",
    "$x^1,...,x^p$ ~ $\\pi(x|\\theta)$\n",
    "\n",
    "### So, we generate X and observe Y (that we also generated but we know the parameters)\n",
    "\n",
    "$\\pi_{LF}(\\theta|y)$ = $\\pi(\\theta)\\mathbb{E}_{\\pi(x|\\theta)}[K_{\\epsilon} (y-x)]$ $\\leftarrow$ we do monte carlo on this\n",
    "\n",
    "$K_{\\epsilon} (y-x)$ def by $S(y)$ ~ $N(S(x), \\epsilon^2 \\hat{\\Sigma})$ $\\leftarrow$ that would be our gaussian kernel, so we just draw $x_1,..., x_p$ ~ $\\pi(x|\\hat{\\theta})$ then compute S(x), after that, estimate the cov(S(x)|$\\hat{\\theta}$) and then S(y) according to the previous distrib\n",
    "\n",
    "$\\hat{\\Sigma}$ is an estimate of $Cov(S(x)\\hat{\\theta})$\n",
    "\n",
    "$\\Lambda$ = diag(0.25, 0.25, 1, 1)\n",
    "\n",
    "Mutation kernel : $M_t(\\theta_t) = \\sum_{i=1}^{N} W_{t-1}^{(i)}(\\theta_{t-1}^{(i)}) \\phi(\\theta_t ; \\theta_{t-1}^{(i)})$\n",
    "\n",
    "Gaussian kernel : $L(x,t) = \\sum_{n = -M}^{M}f(x-n)G(n,t)$\n",
    "\n",
    "with G(n,t) = $\\frac{1}{\\sqrt{2\\pi t}}e^{-\\frac{n^2}{2t}}$\n",
    "\n",
    "\n",
    "As t increases, $\\epsilon_t$ decreases\n",
    "\n",
    "$\\hat{c_t}$ is the 90th quantile of the weights\n",
    "\n",
    "# For the rest we need to use : \n",
    "\n",
    "# $\\alpha = 1.7$\n",
    "# $\\beta = 0.9$\n",
    "# $\\gamma = 10$\n",
    "# $\\delta = 10$"
   ]
  },
  {
   "cell_type": "code",
   "execution_count": 9,
   "id": "46f529b7-84ae-4520-a477-7f3b501f2cf6",
   "metadata": {},
   "outputs": [
    {
     "data": {
      "text/plain": [
       "{}"
      ]
     },
     "execution_count": 9,
     "metadata": {},
     "output_type": "execute_result"
    }
   ],
   "source": [
    "{}"
   ]
  },
  {
   "cell_type": "markdown",
   "id": "25a73037-8b81-4e2b-a980-8c7bd8ef51da",
   "metadata": {},
   "source": [
    "# Seed : 256652"
   ]
  },
  {
   "cell_type": "code",
   "execution_count": 10,
   "id": "9875ffab-8c7a-495b-9957-ebf7045df588",
   "metadata": {},
   "outputs": [],
   "source": [
    "np.random.seed(256652)\n",
    "\n",
    "#creation des prior des parametres cf section 3.1\n",
    "\n",
    "prior_alpha = np.random.uniform(1.1, 2., size=1000)\n",
    "prior_beta = np.random.uniform(-1., 1, size=1000)\n",
    "prior_gamma = np.random.uniform(0., 300., size=1000)\n",
    "prior_delta = np.random.uniform(-300., 300., size=1000)\n",
    "\n",
    "#scale parameters\n",
    "\n",
    "#epsilon_t\n",
    "\n",
    "mille = np.linspace(start=100, stop=1000, endpoint=True, num=10)[::-1]\n",
    "cent = np.linspace(start=10, stop=100, endpoint=False, num=90)[::-1]\n",
    "dix = np.linspace(start=5, stop=10, endpoint=False, num=10)[::-1]\n",
    "cinq = np.linspace(start=3, stop=5, endpoint=False, num=40)[::-1]\n",
    "trois = np.linspace(start=0, stop=3, endpoint=False, num=300)\n",
    "trois = np.delete(arr=trois, obj=0)\n",
    "trois = trois[::-1]\n",
    "\n",
    "scale_param = np.concatenate((mille, cent, dix, cinq, trois))\n",
    "\n",
    "\n",
    "N = 1000\n",
    "varcov_lambda = np.array([0.25,0.,0.,0.,0.,0.25, 0., 0.,0.,0.,1.,0.,0.,0.,0.,1]).reshape([4,4])"
   ]
  },
  {
   "cell_type": "code",
   "execution_count": 13,
   "id": "50998a6d-b27b-462b-b439-3443c3bd9d92",
   "metadata": {},
   "outputs": [],
   "source": [
    "zolo_y = np.zeros((1000, 4))\n",
    "\n",
    "for i in range(1000):    \n",
    "    y = generation(1000)\n",
    "    zolo_y[i] = zolotarev_transfo(sample=y)\n",
    "\n",
    "varcov = np.cov(m=zolo_y, rowvar=False)"
   ]
  },
  {
   "cell_type": "markdown",
   "id": "e792b9b1-b76d-4dfb-a8c3-53a97e3b8c0c",
   "metadata": {},
   "source": [
    "def pi_lf(epsilon_t, sample=default, N=1000, alpha=1.7, beta=0.9, gamma=10, delta=10, possession=False):\n",
    "    \"\"\"function to have the likelihood free density given in the article\n",
    "\n",
    "    Parameters\n",
    "    -----------------\n",
    "    N : int\n",
    "    number of priors we want to generate\n",
    "        \n",
    "    alpha, beta, gamma, delta : int, float\n",
    "    the parameters with which we want to compute the true data if we don't already have it\n",
    "\n",
    "\n",
    "    sample : array-like\n",
    "    the data we observe\n",
    "\n",
    "    summary_statistic : array-like\n",
    "    summary statistic used to make tests on the distance between two datasets\n",
    "\n",
    "    epsilon_t : int, float\n",
    "    scale parameter, determines \n",
    "\n",
    "    Possession : boolean\n",
    "    by default, set to false, to determine if we want to generate the data or if we already have it\n",
    "\n",
    "    method : str\n",
    "    the method with which we would compute the summary statistics\n",
    "    -------------------\n",
    "    \"\"\"\n",
    "    if possession == False :\n",
    "        data = generation(n=1000, alpha=alpha, beta=beta, gamma=gamma, delta=delta)\n",
    "    else :\n",
    "        data = sample\n",
    "    #set the priors like in the paper\n",
    "    prior_alpha = np.random.uniform(1.1, 2., size=N)\n",
    "    prior_beta = np.random.uniform(-1., 1, size=N)\n",
    "    prior_gamma = np.random.uniform(0., 300., size=N)\n",
    "    prior_delta = np.random.uniform(-300., 300., size=N)\n",
    "    prior_gen = np.vstack((prior_alpha,prior_beta,prior_gamma, prior_delta))\n",
    "    prior_gen = np.transpose(prior_gen)\n",
    "\n",
    "    true_param = zolotarev_transfo(sample=data, xi=0.15)\n",
    "    proposed_param = np.zeros((1000,4))\n",
    "    for i in range(N):\n",
    "        proposed_data = generation(n=10000, alpha=prior_gen[i,0], beta=prior_gen[i,1],\n",
    "                                  gamma=prior_gen[i,2], delta=prior_gen[i,3])\n",
    "        proposed_param[i] = zolotarev_transfo(sample=proposed_data)\n",
    "  \n",
    "    diff = np.zeros((1000,4))   \n",
    "    for i in range(N):\n",
    "        diff[i] = proposed_param[i]-true_param\n",
    "    kernel_applied = gaussian_ker(u=diff, y=0, epsilon=epsilon_t)/epsilon_t\n",
    "\n",
    "    \n",
    "    pi_lf_output = np.zeros((1000, 4))\n",
    "    for i in range(N):\n",
    "        pi_lf_output[i] = prior_gen[i]*kernel_applied[i]\n",
    "    \n",
    "    return pi_lf_output, kernel_applied\n",
    "    \n",
    "    \n",
    "    "
   ]
  },
  {
   "cell_type": "markdown",
   "id": "1ac416b5-0dd9-4a9e-a6dd-2ac4754e2b79",
   "metadata": {},
   "source": [
    "\n",
    "    #centering and scaling for the case of empirical characteristic function\n",
    "    true_param = np.zeros(4, dtype=complex)\n",
    "    estimated_param_gen = np.zeros(4, dtype=complex)\n",
    "    data = (data-np.median(data))/(np.quantile(a=data, q=0.75)-np.quantile(a=data, q=0.25))\n",
    "    #getting the summary statistic in the case of the empirical characteristic function\n",
    "    for i in range(N):\n",
    "        proposed_data = generation(n=1000, alpha=prior_alpha[i], beta=prior_beta[i], gamma=prior_gamma[i], delta=prior_delta[i])\n",
    "        proposed_data = (proposed_data-np.median(proposed_data))/(np.quantile(a=proposed_data, q=0.75)-np.quantile(a=proposed_data, q=0.25))\n",
    "        estimated_param = np.zeros(4, dtype=complex)\n",
    "        for i in range(4):\n",
    "            estimated_param[i] = emp_char_fun(sample=proposed_data, t=instants[i])\n",
    "        estimated_param_gen = np.vstack((estimated_param, estimated_param_gen))\n",
    "    #we obtain many summary statistics that depend on the theta and the draws generated\n",
    "    for i in range(4):\n",
    "        true_param[i] = emp_char_fun(sample=data, t=instants[i])\n",
    "\n",
    "    #we now have both the summary statistics of the data we generated and the data that we 'observed'\n",
    "\n",
    "    #we delete the first row because we created it just to be able to stack the ones \n",
    "    #we generated after that\n",
    "    estimated_param_gen = np.delete(arr=estimated_param_gen, obj=0, axis=0)\n",
    "\n",
    "    #we now compute S(y) - S(x) as a random variable because it is on that one that we will \n",
    "    #approximate the excpectation by 'the smoothed kernel' mean\n"
   ]
  },
  {
   "cell_type": "code",
   "execution_count": 14,
   "id": "5fd27dae-3950-4327-a49a-c8ce75080a4b",
   "metadata": {},
   "outputs": [],
   "source": [
    "def pi_lf(epsilon_t, sample=default, N=1000, alpha=1.7, beta=0.9, gamma=10, delta=10, possession=False):\n",
    "    \"\"\"function to have the likelihood free density given in the article\n",
    "\n",
    "    Parameters\n",
    "    -----------------\n",
    "    N : int\n",
    "    number of priors we want to generate\n",
    "        \n",
    "    alpha, beta, gamma, delta : int, float\n",
    "    the parameters with which we want to compute the true data if we don't already have it\n",
    "\n",
    "\n",
    "    sample : array-like\n",
    "    the data we observe\n",
    "\n",
    "    summary_statistic : array-like\n",
    "    summary statistic used to make tests on the distance between two datasets\n",
    "\n",
    "    epsilon_t : int, float\n",
    "    scale parameter, determines \n",
    "\n",
    "    Possession : boolean\n",
    "    by default, set to false, to determine if we want to generate the data or if we already have it\n",
    "\n",
    "    method : str\n",
    "    the method with which we would compute the summary statistics\n",
    "    -------------------\n",
    "    \"\"\"\n",
    "    if possession == False :\n",
    "        data = generation(n=1000, alpha=alpha, beta=beta, gamma=gamma, delta=delta)\n",
    "    else :\n",
    "        data = sample\n",
    "    #set the priors like in the paper\n",
    "    prior_alpha = np.random.uniform(1.1, 2., size=N)\n",
    "    prior_beta = np.random.uniform(-1., 1, size=N)\n",
    "    prior_gamma = np.random.uniform(0., 300., size=N)\n",
    "    prior_delta = np.random.uniform(-300., 300., size=N)\n",
    "    prior_gen = np.vstack((prior_alpha,prior_beta,prior_gamma, prior_delta))\n",
    "    prior_gen = np.transpose(prior_gen)\n",
    "    true_param = zolotarev_transfo(sample=data)\n",
    "\n",
    "    \n",
    "    \n",
    "    proposed_param = np.zeros((N,4))\n",
    "    for i in range(N):\n",
    "        proposed_data = generation(n=N, alpha=prior_gen[i,0], beta=prior_gen[i,1],\n",
    "                                  gamma=prior_gen[i,2], delta=prior_gen[i,3])\n",
    "        proposed_param[i] = zolotarev_transfo(sample=proposed_data)\n",
    "\n",
    "    diff = np.zeros((N,4))   \n",
    "    for i in range(N):\n",
    "        diff[i] = proposed_param[i]-np.random.multivariate_normal(mean=true_param, cov=varcov, size=1)\n",
    "    kernel_applied = gaussian_ker(u=diff, y=0, epsilon=epsilon_t)/epsilon_t\n",
    "\n",
    "    \n",
    "    pi_lf_output = np.zeros((N, 4))\n",
    "    for i in range(N):\n",
    "        pi_lf_output[i] = prior_gen[i]*kernel_applied[i]\n",
    "    \n",
    "    return pi_lf_output, kernel_applied\n",
    "    "
   ]
  },
  {
   "cell_type": "code",
   "execution_count": null,
   "id": "70033732-e687-47b3-ae17-b9f521fa3a2d",
   "metadata": {},
   "outputs": [],
   "source": [
    "weights_full = np.zeros((449, 4))\n"
   ]
  },
  {
   "cell_type": "code",
   "execution_count": 15,
   "id": "ab545966-c6c0-4ec0-b63a-a9589973c775",
   "metadata": {},
   "outputs": [],
   "source": [
    "pi_theta = 1/((2-1.1)*2*300*600)"
   ]
  },
  {
   "cell_type": "code",
   "execution_count": 17,
   "id": "3e334951-0398-43d3-8434-a3c22f42d3c5",
   "metadata": {},
   "outputs": [
    {
     "data": {
      "text/plain": [
       "324000.0"
      ]
     },
     "execution_count": 17,
     "metadata": {},
     "output_type": "execute_result"
    }
   ],
   "source": [
    "((2-1.1)*2*300*600)"
   ]
  },
  {
   "cell_type": "code",
   "execution_count": 33,
   "id": "fe95f320-1b85-4bcc-a782-7779d44e8b75",
   "metadata": {},
   "outputs": [],
   "source": [
    "def pi_lf_bis(epsilon_t, sample=default, alpha=1.7, beta=0.9, gamma=10, delta=10, possession=False):\n",
    "    \"\"\"function to have the likelihood free density given in the article, the data we create if there is\n",
    "    no data provided is based on the parameters of 'generation', so for any comparaison between the values of theta,\n",
    "    those are the parameters to change\n",
    "\n",
    "    Parameters\n",
    "    -----------------\n",
    "    N : int\n",
    "    number of priors we want to generate\n",
    "        \n",
    "    alpha, beta, gamma, delta : int, float\n",
    "    the parameters with which we want to compute the true data if we don't already have it\n",
    "\n",
    "\n",
    "    sample : array-like\n",
    "    the data we observe\n",
    "\n",
    "    summary_statistic : array-like\n",
    "    summary statistic used to make tests on the distance between two datasets\n",
    "\n",
    "    epsilon_t : int, float\n",
    "    scale parameter, determines \n",
    "\n",
    "    Possession : boolean\n",
    "    by default, set to false, to determine if we want to generate the data or if we already have it\n",
    "\n",
    "    method : str\n",
    "    the method with which we would compute the summary statistics\n",
    "    -------------------\n",
    "    \"\"\"\n",
    "    pi_theta = 1/324000.0\n",
    "    if possession == False :\n",
    "        data = generation(n=1000)\n",
    "    else :\n",
    "        data = sample\n",
    "    true_param = zolotarev_transfo(sample=data)\n",
    "    proposal = generation(n=1000, alpha=alpha, beta=beta, gamma=gamma, delta=delta)\n",
    "    zolo_proposal = zolotarev_transfo(sample=proposal)\n",
    "    weight = gaussian_ker(u=np.linalg.norm(true_param-zolo_proposal), epsilon=epsilon_t)\n",
    "    pi_lf = weight*pi_theta\n",
    "    return pi_lf\n",
    "    "
   ]
  },
  {
   "cell_type": "code",
   "execution_count": null,
   "id": "5a32c46a-eeab-4a0e-ac08-856c87648c8c",
   "metadata": {},
   "outputs": [],
   "source": []
  },
  {
   "cell_type": "code",
   "execution_count": null,
   "id": "96add192-8719-4d7c-bc80-d1deba51e27f",
   "metadata": {},
   "outputs": [],
   "source": []
  },
  {
   "cell_type": "code",
   "execution_count": null,
   "id": "94cb4177-a1c4-4466-9ae9-9e75b5677655",
   "metadata": {},
   "outputs": [],
   "source": []
  },
  {
   "cell_type": "code",
   "execution_count": null,
   "id": "87fcb00b-c93b-4339-80bf-d5a39339cf40",
   "metadata": {},
   "outputs": [],
   "source": []
  },
  {
   "cell_type": "code",
   "execution_count": null,
   "id": "d526a193-6312-492a-9f50-d825e5903880",
   "metadata": {},
   "outputs": [],
   "source": []
  },
  {
   "cell_type": "code",
   "execution_count": 25,
   "id": "791a4b3a-c1e2-427d-adaf-72dc490db874",
   "metadata": {},
   "outputs": [],
   "source": [
    "test_3 = generation(n=1000, alpha=2, beta=0, gamma=10, delta=0)"
   ]
  },
  {
   "cell_type": "code",
   "execution_count": 26,
   "id": "6ec2a98b-3f07-421c-aef4-cb9692569a58",
   "metadata": {},
   "outputs": [
    {
     "data": {
      "image/png": "[encoded data removed]",
      "text/plain": [
       "<Figure size 640x480 with 1 Axes>"
      ]
     },
     "metadata": {},
     "output_type": "display_data"
    }
   ],
   "source": [
    "plt.hist(test_3, bins=50, density=True, range=(-50, 50))\n",
    "plt.show()"
   ]
  },
  {
   "cell_type": "code",
   "execution_count": 30,
   "id": "205a1c0c-7174-4c46-8d95-acdf978f3120",
   "metadata": {},
   "outputs": [],
   "source": [
    "exec_1 = pi_lf(N=1000, epsilon_t=0.1)[0]"
   ]
  },
  {
   "cell_type": "code",
   "execution_count": 31,
   "id": "793c1bd7-f5c7-4c12-8fd1-6f2b650e1a13",
   "metadata": {},
   "outputs": [
    {
     "name": "stdout",
     "output_type": "stream",
     "text": [
      "alpha : 13.282236943722662 \n",
      " beta : -0.37467230546520225 \n",
      " gamma : 2.6650213609827706 \n",
      " delta : 5.3524657915404276e-05\n"
     ]
    }
   ],
   "source": [
    "test_alpha = np.mean(exec_1[:,0])\n",
    "test_beta = np.mean(exec_1[:,1])\n",
    "test_gamma = np.mean(exec_1[:,2])\n",
    "test_delta = np.mean(exec_1[:,3])\n",
    "\n",
    "print('alpha :', test_alpha, '\\n', 'beta :', test_beta, '\\n',\n",
    "      'gamma :', test_gamma, '\\n', 'delta :', test_delta)"
   ]
  },
  {
   "cell_type": "code",
   "execution_count": 32,
   "id": "9e0f7be7-092e-4352-ac5d-e5c8bab0a2ef",
   "metadata": {},
   "outputs": [],
   "source": [
    "test_int = np.sum(a=exec_1[0], axis=0)"
   ]
  },
  {
   "cell_type": "code",
   "execution_count": 33,
   "id": "0436536c-eae0-422d-b18c-76f619b35cc4",
   "metadata": {},
   "outputs": [
    {
     "data": {
      "text/plain": [
       "0.5328199616293006"
      ]
     },
     "execution_count": 33,
     "metadata": {},
     "output_type": "execute_result"
    }
   ],
   "source": [
    "np.mean((exec_1/test_int)[:,0])"
   ]
  },
  {
   "cell_type": "code",
   "execution_count": 34,
   "id": "05de7b02-75c9-4d4f-8349-706e86c30fe6",
   "metadata": {},
   "outputs": [
    {
     "data": {
      "text/plain": [
       "532.8199616293006"
      ]
     },
     "execution_count": 34,
     "metadata": {},
     "output_type": "execute_result"
    }
   ],
   "source": [
    "np.sum((exec_1/test_int)[:,0])"
   ]
  },
  {
   "cell_type": "code",
   "execution_count": 142,
   "id": "d27cc3af-4cd6-4f9d-8cb2-7daacaefb10d",
   "metadata": {},
   "outputs": [],
   "source": [
    "test_gen_1 = generation(n=10000)\n",
    "test_gen_2 = generation(n=10000, alpha=1.9, beta=0.9, gamma=10, delta=10)\n",
    "test_gen_3 = generation(n=10000, alpha=1, beta=-1, gamma=50, delta=30)"
   ]
  },
  {
   "cell_type": "code",
   "execution_count": 129,
   "id": "6c3752dc-9495-4b41-adec-8f45d7b96088",
   "metadata": {},
   "outputs": [],
   "source": [
    "transfo_test_1 = zolotarev_transfo(sample=test_gen_1)\n",
    "transfo_test_2 = zolotarev_transfo(sample=test_gen_2)\n",
    "transfo_test_3 = zolotarev_transfo(sample=test_gen_3)"
   ]
  },
  {
   "cell_type": "code",
   "execution_count": 130,
   "id": "9770d48f-4737-4ac1-99c0-6118efb43ec3",
   "metadata": {},
   "outputs": [
    {
     "data": {
      "text/plain": [
       "0.16707985447038276"
      ]
     },
     "execution_count": 130,
     "metadata": {},
     "output_type": "execute_result"
    }
   ],
   "source": [
    "np.linalg.norm(transfo_test_1 - transfo_test_2)"
   ]
  },
  {
   "cell_type": "code",
   "execution_count": 131,
   "id": "9b8709aa-a7ab-4bb0-9d2a-eaf782010c5b",
   "metadata": {},
   "outputs": [
    {
     "data": {
      "text/plain": [
       "4.265309628856707"
      ]
     },
     "execution_count": 131,
     "metadata": {},
     "output_type": "execute_result"
    }
   ],
   "source": [
    "np.mean(gaussian_ker(u=transfo_test_1 - transfo_test_2, y=0, epsilon=0.3)/0.3)"
   ]
  },
  {
   "cell_type": "code",
   "execution_count": 132,
   "id": "7b1b5e2b-8b12-42ec-bbd4-1811984f9e34",
   "metadata": {},
   "outputs": [
    {
     "data": {
      "text/plain": [
       "0.10638782133399886"
      ]
     },
     "execution_count": 132,
     "metadata": {},
     "output_type": "execute_result"
    }
   ],
   "source": [
    "np.mean(gaussian_ker(u=transfo_test_1 - transfo_test_3, y=0, epsilon=0.3)/0.3)"
   ]
  },
  {
   "cell_type": "code",
   "execution_count": 74,
   "id": "c11030f8-3be0-4420-9fba-ff51fbab32ba",
   "metadata": {
    "collapsed": true,
    "jupyter": {
     "outputs_hidden": true
    }
   },
   "outputs": [
    {
     "name": "stdout",
     "output_type": "stream",
     "text": [
      "0\n",
      "4\n",
      "8\n",
      "10\n",
      "11\n",
      "13\n",
      "15\n",
      "17\n",
      "20\n",
      "22\n",
      "24\n",
      "26\n",
      "27\n",
      "28\n",
      "29\n",
      "30\n",
      "32\n",
      "33\n",
      "34\n",
      "36\n",
      "39\n",
      "41\n",
      "44\n",
      "45\n",
      "46\n",
      "47\n",
      "48\n",
      "50\n",
      "51\n",
      "53\n",
      "57\n",
      "58\n",
      "60\n",
      "63\n",
      "65\n",
      "66\n",
      "67\n",
      "71\n",
      "72\n",
      "73\n",
      "75\n",
      "76\n",
      "77\n",
      "79\n",
      "80\n",
      "82\n",
      "83\n",
      "85\n",
      "86\n",
      "88\n",
      "90\n",
      "91\n",
      "92\n",
      "94\n",
      "95\n",
      "97\n",
      "98\n",
      "99\n",
      "100\n",
      "101\n",
      "104\n",
      "105\n",
      "108\n",
      "112\n",
      "115\n",
      "117\n",
      "118\n",
      "119\n",
      "120\n",
      "122\n",
      "124\n",
      "125\n",
      "126\n",
      "127\n",
      "128\n",
      "130\n",
      "132\n",
      "133\n",
      "135\n",
      "137\n",
      "145\n",
      "147\n",
      "150\n",
      "151\n",
      "154\n",
      "156\n",
      "157\n",
      "158\n",
      "159\n",
      "160\n",
      "161\n",
      "162\n",
      "164\n",
      "165\n",
      "166\n",
      "167\n",
      "168\n",
      "169\n",
      "171\n",
      "172\n",
      "175\n",
      "176\n",
      "178\n",
      "179\n",
      "180\n",
      "181\n",
      "182\n",
      "183\n",
      "185\n",
      "188\n",
      "192\n",
      "195\n",
      "197\n",
      "199\n",
      "200\n",
      "201\n",
      "202\n",
      "203\n",
      "204\n",
      "206\n",
      "208\n",
      "209\n",
      "213\n",
      "214\n",
      "215\n",
      "216\n",
      "217\n",
      "218\n",
      "220\n",
      "224\n",
      "227\n",
      "228\n",
      "230\n",
      "231\n",
      "232\n",
      "233\n",
      "235\n",
      "237\n",
      "238\n",
      "239\n",
      "241\n",
      "242\n",
      "244\n",
      "247\n",
      "249\n",
      "251\n",
      "256\n",
      "261\n",
      "262\n",
      "264\n",
      "265\n",
      "266\n",
      "268\n",
      "269\n",
      "270\n",
      "271\n",
      "273\n",
      "274\n",
      "275\n",
      "277\n",
      "279\n",
      "280\n",
      "281\n",
      "282\n",
      "283\n",
      "287\n",
      "288\n",
      "289\n",
      "290\n",
      "291\n",
      "292\n",
      "295\n",
      "296\n",
      "298\n",
      "299\n",
      "303\n",
      "304\n",
      "305\n",
      "308\n",
      "309\n",
      "315\n",
      "317\n",
      "318\n",
      "320\n",
      "321\n",
      "322\n",
      "323\n",
      "325\n",
      "327\n",
      "329\n",
      "330\n",
      "331\n",
      "332\n",
      "341\n",
      "342\n",
      "343\n",
      "344\n",
      "347\n",
      "348\n",
      "349\n",
      "350\n",
      "351\n",
      "352\n",
      "354\n",
      "358\n",
      "359\n",
      "362\n",
      "364\n",
      "365\n",
      "367\n",
      "368\n",
      "369\n",
      "373\n",
      "374\n",
      "376\n",
      "377\n",
      "378\n",
      "382\n",
      "383\n",
      "384\n",
      "385\n",
      "387\n",
      "388\n",
      "393\n",
      "394\n",
      "396\n",
      "398\n",
      "399\n",
      "401\n",
      "403\n",
      "405\n",
      "406\n",
      "410\n",
      "411\n",
      "412\n",
      "416\n",
      "419\n",
      "423\n",
      "426\n",
      "427\n",
      "432\n",
      "436\n",
      "441\n",
      "443\n",
      "444\n",
      "445\n",
      "447\n",
      "449\n",
      "451\n",
      "455\n",
      "456\n",
      "457\n",
      "460\n",
      "461\n",
      "462\n",
      "466\n",
      "467\n",
      "469\n",
      "472\n",
      "476\n",
      "480\n",
      "483\n",
      "484\n",
      "486\n",
      "490\n",
      "491\n",
      "495\n",
      "496\n",
      "497\n",
      "499\n",
      "505\n",
      "506\n",
      "507\n",
      "510\n",
      "511\n",
      "514\n",
      "517\n",
      "518\n",
      "519\n",
      "520\n",
      "522\n",
      "524\n",
      "525\n",
      "526\n",
      "528\n",
      "532\n",
      "535\n",
      "538\n",
      "543\n",
      "544\n",
      "546\n",
      "549\n",
      "550\n",
      "551\n",
      "552\n",
      "553\n",
      "555\n",
      "556\n",
      "558\n",
      "559\n",
      "560\n",
      "561\n",
      "567\n",
      "568\n",
      "572\n",
      "573\n",
      "574\n",
      "578\n",
      "579\n",
      "580\n",
      "582\n",
      "590\n",
      "593\n",
      "596\n",
      "599\n",
      "600\n",
      "601\n",
      "602\n",
      "603\n",
      "605\n",
      "606\n",
      "607\n",
      "608\n",
      "609\n",
      "610\n",
      "611\n",
      "612\n",
      "615\n",
      "616\n",
      "617\n",
      "619\n",
      "620\n",
      "626\n",
      "627\n",
      "628\n",
      "631\n",
      "633\n",
      "635\n",
      "636\n",
      "637\n",
      "638\n",
      "639\n",
      "640\n",
      "641\n",
      "642\n",
      "648\n",
      "651\n",
      "652\n",
      "654\n",
      "657\n",
      "663\n",
      "665\n",
      "666\n",
      "667\n",
      "668\n",
      "669\n",
      "670\n",
      "678\n",
      "683\n",
      "685\n",
      "686\n",
      "687\n",
      "690\n",
      "692\n",
      "693\n",
      "694\n",
      "695\n",
      "698\n",
      "705\n",
      "706\n",
      "707\n",
      "709\n",
      "718\n",
      "719\n",
      "720\n",
      "723\n",
      "727\n",
      "728\n",
      "729\n",
      "730\n",
      "731\n",
      "735\n",
      "736\n",
      "737\n",
      "738\n",
      "739\n",
      "742\n",
      "744\n",
      "747\n",
      "751\n",
      "752\n",
      "753\n",
      "754\n",
      "755\n",
      "756\n",
      "758\n",
      "760\n",
      "761\n",
      "763\n",
      "764\n",
      "766\n",
      "771\n",
      "773\n",
      "774\n",
      "775\n",
      "777\n",
      "778\n",
      "779\n",
      "781\n",
      "782\n",
      "783\n",
      "784\n",
      "785\n",
      "787\n",
      "794\n",
      "795\n",
      "796\n",
      "800\n",
      "802\n",
      "806\n",
      "809\n",
      "810\n",
      "812\n",
      "813\n",
      "815\n",
      "816\n",
      "817\n",
      "818\n",
      "819\n",
      "823\n",
      "824\n",
      "825\n",
      "828\n",
      "830\n",
      "834\n",
      "835\n",
      "837\n",
      "838\n",
      "839\n",
      "843\n",
      "846\n",
      "848\n",
      "851\n",
      "855\n",
      "858\n",
      "860\n",
      "863\n",
      "864\n",
      "866\n",
      "869\n",
      "871\n",
      "874\n",
      "876\n",
      "877\n",
      "879\n",
      "880\n",
      "881\n",
      "885\n",
      "887\n",
      "889\n",
      "892\n",
      "894\n",
      "899\n",
      "905\n",
      "907\n",
      "909\n",
      "910\n",
      "911\n",
      "913\n",
      "915\n",
      "918\n",
      "919\n",
      "922\n",
      "923\n",
      "926\n",
      "927\n",
      "929\n",
      "930\n",
      "932\n",
      "933\n",
      "935\n",
      "936\n",
      "937\n",
      "938\n",
      "939\n",
      "943\n",
      "945\n",
      "946\n",
      "947\n",
      "948\n",
      "949\n",
      "952\n",
      "955\n",
      "956\n",
      "957\n",
      "958\n",
      "960\n",
      "963\n",
      "964\n",
      "965\n",
      "967\n",
      "969\n",
      "970\n",
      "972\n",
      "974\n",
      "976\n",
      "977\n",
      "978\n",
      "980\n",
      "981\n",
      "984\n",
      "985\n",
      "986\n",
      "987\n",
      "989\n",
      "993\n",
      "995\n",
      "998\n",
      "999\n"
     ]
    }
   ],
   "source": [
    "for i in range(1000):\n",
    "    if exec_1[i,2]<0:\n",
    "        print(i)"
   ]
  },
  {
   "cell_type": "code",
   "execution_count": 114,
   "id": "44ca7316-ff6b-4ce7-8987-ccc6fa36287f",
   "metadata": {},
   "outputs": [
    {
     "name": "stdout",
     "output_type": "stream",
     "text": [
      "alpha : 13.785378083046501 \n",
      " beta : 0.1729232563781362 \n",
      " gamma : 8.726267423104412 \n",
      " delta : 3.9082419870958183\n"
     ]
    }
   ],
   "source": [
    "test_alpha = np.mean(exec_1[:,0])\n",
    "test_beta = np.mean(exec_1[:,1])\n",
    "test_gamma = np.mean(exec_1[:,2])\n",
    "test_delta = np.mean(exec_1[:,3])\n",
    "\n",
    "print('alpha :', test_alpha, '\\n', 'beta :', test_beta, '\\n',\n",
    "      'gamma :', test_gamma, '\\n', 'delta :', test_delta)"
   ]
  },
  {
   "cell_type": "code",
   "execution_count": 118,
   "id": "2a5f2833-bd07-401b-bc97-ebe95fe6ac54",
   "metadata": {},
   "outputs": [
    {
     "name": "stdout",
     "output_type": "stream",
     "text": [
      "[[1 1 1]\n",
      " [2 2 2]\n",
      " [3 3 3]] \n",
      " \n",
      " [[1 1 1]\n",
      " [3 3 3]]\n"
     ]
    }
   ],
   "source": [
    "a = np.array((1,1,1))\n",
    "b = np.array((2,2,2))\n",
    "c = np.array((3,3,3))\n",
    "tot = np.vstack((a,b,c))\n",
    "test_12 = np.delete(arr=tot, obj=1, axis=0)\n",
    "print(tot, '\\n', '\\n', test_12)"
   ]
  },
  {
   "cell_type": "code",
   "execution_count": 19,
   "id": "3fabd854-26b3-4144-9f6e-3343f2bc7d08",
   "metadata": {},
   "outputs": [
    {
     "data": {
      "text/plain": [
       "3"
      ]
     },
     "execution_count": 19,
     "metadata": {},
     "output_type": "execute_result"
    }
   ],
   "source": [
    "test_12.shape[1]"
   ]
  },
  {
   "cell_type": "code",
   "execution_count": 15,
   "id": "d9cb700b-dd37-4492-ba28-5ff871e651a2",
   "metadata": {},
   "outputs": [
    {
     "name": "stdout",
     "output_type": "stream",
     "text": [
      "[0 0 0]\n",
      "[1 1 1]\n",
      "[2 2 2]\n"
     ]
    }
   ],
   "source": [
    "for i in range(3):\n",
    "    print(tot[i] - a)"
   ]
  },
  {
   "cell_type": "code",
   "execution_count": 132,
   "id": "49ab7b46-c36d-44ee-985f-0f56351839bd",
   "metadata": {},
   "outputs": [
    {
     "data": {
      "text/plain": [
       "array([[0.39894228, 0.39894228, 0.39894228],\n",
       "       [0.39894227, 0.39894227, 0.39894227],\n",
       "       [0.39894226, 0.39894226, 0.39894226]])"
      ]
     },
     "execution_count": 132,
     "metadata": {},
     "output_type": "execute_result"
    }
   ],
   "source": [
    "gaussian_ker(u=tot*0.0001, epsilon=1)"
   ]
  },
  {
   "cell_type": "code",
   "execution_count": 123,
   "id": "c2cf2f58-5dca-4eb0-bda1-ba33bd8f04e2",
   "metadata": {},
   "outputs": [],
   "source": [
    "tre = np.array((1,1,1,1))\n",
    "bre = np.array((2,2,2,2))\n",
    "hor = np.vstack((bre, tre))\n",
    "vert = np.transpose(hor)"
   ]
  },
  {
   "cell_type": "code",
   "execution_count": 125,
   "id": "3c58ad37-f2d9-49d7-bfca-2bb204139c42",
   "metadata": {},
   "outputs": [
    {
     "data": {
      "text/plain": [
       "array([[2, 2, 2, 2],\n",
       "       [1, 1, 1, 1]])"
      ]
     },
     "execution_count": 125,
     "metadata": {},
     "output_type": "execute_result"
    }
   ],
   "source": [
    "hor"
   ]
  },
  {
   "cell_type": "code",
   "execution_count": 126,
   "id": "d9049409-c86c-4472-b0d1-50bd9309bcc7",
   "metadata": {},
   "outputs": [
    {
     "data": {
      "text/plain": [
       "array([[2, 1],\n",
       "       [2, 1],\n",
       "       [2, 1],\n",
       "       [2, 1]])"
      ]
     },
     "execution_count": 126,
     "metadata": {},
     "output_type": "execute_result"
    }
   ],
   "source": [
    "vert"
   ]
  },
  {
   "cell_type": "code",
   "execution_count": 9,
   "id": "db592d0c-7973-4679-a563-5911dc162a26",
   "metadata": {},
   "outputs": [],
   "source": [
    "def mc_culloch_q(data, gamma=1):\n",
    "    \"\"\"fonction pour calculer les quantiles de mc_culloch utilises dans le papier\n",
    "\n",
    "    Parameters\n",
    "    --------------\n",
    "    data : array\n",
    "    les donnes pour lesquelles on veut calculer les quantiles\n",
    "\n",
    "    gamma : float\n",
    "    valeur 1 par defaut, d'apres le papier, on utilise le gamma utilise pour faire les simulations\n",
    "    ----------------\n",
    "    \"\"\"\n",
    "    data_sorted = np.sort(data)\n",
    "    useful_quantiles = np.quantile(a=data_sorted, q=[0.95, 0.75, 0.5, 0.25, 0.05])\n",
    "    q_95 = useful_quantiles[0]\n",
    "    q_75 = useful_quantiles[1]\n",
    "    q_50 = useful_quantiles[2]\n",
    "    q_25 = useful_quantiles[3]\n",
    "    q_05 = useful_quantiles[4]\n",
    "    alpha_hat = (q_95-q_05)/(q_75-q_25)\n",
    "    beta_hat = (q_95+q_05+2*q_50)/(q_95-q_05)\n",
    "    gamma_hat = (q_75-q_25)/gamma\n",
    "    #on a le gamma au denominateur parce que c'est comme ca qu on a genere nos donnees\n",
    "    #d'apres le papier, ca va de prendre le gamma qu'on a utililse pour generer\n",
    "    delta_hat = np.mean(data_simulation)\n",
    "    S_1 = np.transpose(np.array((alpha_hat, beta_hat, gamma_hat, delta_hat)))\n",
    "    return S_1"
   ]
  },
  {
   "cell_type": "code",
   "execution_count": 12,
   "id": "1bd6477b-e5e3-4eea-ac12-b7d74e0ad083",
   "metadata": {},
   "outputs": [],
   "source": [
    "def zolotarev_transfo(sample, xi=0.25):\n",
    "    \"\"\"function to use for the estimation based on the zolotarev transformation\n",
    "\n",
    "    Parameters\n",
    "    --------------------------\n",
    "    Sample : array-like\n",
    "    Sample to do the transformation on\n",
    "\n",
    "    xi : int, float\n",
    "    The constant used in the transformation\n",
    "    --------------------------\n",
    "    \"\"\"\n",
    "    if xi<=0 or xi>1/2 :\n",
    "        raise ValueError('Xi must be between 0 and 1/2')\n",
    "    taille = len(sample)\n",
    "    Z = []\n",
    "    for i in range(int(taille/3)):\n",
    "        transfo = sample[3*i-2] - xi*sample[3*i-1] - (1 - xi)*sample[3*i]\n",
    "        Z.append(transfo)\n",
    "    V = []\n",
    "    U = []\n",
    "    for i in range(len(Z)):\n",
    "        V.append(np.log(np.abs(Z[i])))\n",
    "        U.append(np.sign(sample[i]))\n",
    "    V = np.array(V)\n",
    "    U = np.array(U)\n",
    "    S_U_squared = (np.std(U))**2\n",
    "    S_V_squared = (np.std(V))**2\n",
    "    nu_tilde = (6/(np.pi)**2)*S_V_squared - (3/2)*S_U_squared + 1\n",
    "    etha_hat = np.mean(U)\n",
    "    tau_hat = np.mean(V)\n",
    "    nu_hat = 0\n",
    "    if nu_tilde > ((1+np.abs(etha_hat))**2)/4:\n",
    "        nu_hat = nu_tilde\n",
    "    else:\n",
    "        nu_hat = ((1+np.abs(etha_hat))**2)/4\n",
    "    delta_hat = np.mean(sample)\n",
    "    S_2 = np.array((nu_hat, etha_hat, tau_hat, delta_hat))\n",
    "    return S_2"
   ]
  },
  {
   "cell_type": "code",
   "execution_count": 77,
   "id": "1aa10299-975a-4d2f-a0f0-3a0616c4aac2",
   "metadata": {},
   "outputs": [],
   "source": [
    "def u_hat(x, t):\n",
    "    \"\"\"function to use to calculate presss moments\n",
    "\n",
    "    Parameters\n",
    "    ---------------\n",
    "    x : array-like\n",
    "\n",
    "    the data\n",
    "\n",
    "    t : int, float\n",
    "    the real number we want to know the image by the function\n",
    "    ---------------\n",
    "    \"\"\"\n",
    "\n",
    "    y = np.arctan(np.sum(np.cos(t*x))/np.sum(np.sin(t*x)))\n",
    "    return y"
   ]
  },
  {
   "cell_type": "code",
   "execution_count": 78,
   "id": "0cac937e-ef71-4476-9ccb-5e9a0110df93",
   "metadata": {},
   "outputs": [],
   "source": [
    "test_u = np.array((np.pi, np.pi, np.pi, np.pi))"
   ]
  },
  {
   "cell_type": "code",
   "execution_count": 79,
   "id": "750b2032-03c6-4e5b-bb65-13a7a3184ddf",
   "metadata": {},
   "outputs": [
    {
     "data": {
      "text/plain": [
       "0.7853981633974484"
      ]
     },
     "execution_count": 79,
     "metadata": {},
     "output_type": "execute_result"
    }
   ],
   "source": [
    "u_hat(x=test_u,t=1/4)"
   ]
  },
  {
   "cell_type": "code",
   "execution_count": 80,
   "id": "0ccd3ff9-27ca-4578-8675-e065d92b6ecf",
   "metadata": {},
   "outputs": [
    {
     "data": {
      "text/plain": [
       "6.123233995736766e-17"
      ]
     },
     "execution_count": 80,
     "metadata": {},
     "output_type": "execute_result"
    }
   ],
   "source": [
    "u_hat(x=test_u, t=1/2)"
   ]
  },
  {
   "cell_type": "code",
   "execution_count": 81,
   "id": "b09bb368-e387-45b1-a1f6-e121c8934fd7",
   "metadata": {},
   "outputs": [],
   "source": [
    "#derniere ligne confirme que c est bien 0, on tombe bien sur arctan(0) (aux approximations pres)"
   ]
  },
  {
   "cell_type": "code",
   "execution_count": 82,
   "id": "421e8de8-ecf5-4f82-9540-f9a75b9a0312",
   "metadata": {},
   "outputs": [],
   "source": [
    "#fonction u_hat marche bien, on retombe sur arctan de 1"
   ]
  },
  {
   "cell_type": "code",
   "execution_count": 95,
   "id": "13f405de-b267-4719-a715-f536c2575e67",
   "metadata": {},
   "outputs": [],
   "source": [
    "def presss_moments(sample, alpha=1.7, beta=0, gamma=10, delta=10,\n",
    "                   t_1=0.2, t_2=0.8, t_3=0.1, t_4=0.4):\n",
    "    \"\"\"function to calculate press's moments\n",
    "\n",
    "    Parameters\n",
    "    ----------------\n",
    "\n",
    "    sample : array-like\n",
    "    the data\n",
    "\n",
    "    alpha, beta, gamma, delta : int, float\n",
    "    parameters we used to simulate the data (?)\n",
    "\n",
    "    t_1 : int, float\n",
    "    t_2 : int, float\n",
    "    t_3 : int, float\n",
    "    t_4 : int, float\n",
    "    moments we want to evaluate, the default parameters are given by Koutrouvelis (1980)\n",
    "    ---------------\n",
    "    \"\"\"\n",
    "    \n",
    "    #estimation of characteristic function at different moments\n",
    "    transfo_1 = th_char_fun(t=t_1, beta=beta)\n",
    "    transfo_2 = th_char_fun(t=t_2, beta=beta)\n",
    "    transfo_3 = th_char_fun(t=t_3, beta=beta)\n",
    "    transfo_4 = th_char_fun(t=t_4, beta=beta)\n",
    "    log_gamma_hat_top = (np.log(np.abs(t_1))*np.log(-np.log(np.abs(transfo_2)))-np.log(np.abs(t_2))*np.log(-np.log(np.abs(transfo_1))))\n",
    "    log_gamma_hat = log_gamma_hat_top/np.log(np.abs(t_1/t_2))\n",
    "    alpha_hat = np.log(np.log(np.abs(transfo_1))/np.log(np.abs(transfo_2)))/np.log(np.abs(t_1/t_2))\n",
    "    beta_hat_top = ((u_hat(x=sample, t=t_4)/t_4)-(u_hat(x=sample, t=t_3)/t_3))\n",
    "    beta_hat_bot = ((np.abs(t_4)**(alpha_hat-1))-(np.abs(t_3)**(alpha_hat-1)))*((np.exp(log_gamma_hat))**alpha_hat)*np.tan((alpha_hat*np.pi)/2)\n",
    "    beta_hat = beta_hat_top/beta_hat_bot\n",
    "    delta_hat_top = (((np.abs(t_4))**(alpha_hat-1))*u_hat(x=sample, t=t_3)/t_3)-((((np.abs(t_3))**(alpha_hat-1))*u_hat(x=sample,t=t_4))/t_4)\n",
    "    delta_hat_bot = (np.abs(t_4)**(alpha_hat-1)) - (np.abs(t_3)**(alpha_hat-1))\n",
    "    delta_hat = delta_hat_top/delta_hat_bot\n",
    "    y = np.array((alpha_hat, beta_hat, np.exp(log_gamma_hat), delta_hat))\n",
    "    return y\n",
    "\n",
    "\n",
    "    "
   ]
  },
  {
   "cell_type": "code",
   "execution_count": 96,
   "id": "81928318-b2a1-4edd-96e1-83057503809e",
   "metadata": {},
   "outputs": [
    {
     "name": "stdout",
     "output_type": "stream",
     "text": [
      "[0.25150376 0.003003   1.64572324 0.04843054]\n"
     ]
    }
   ],
   "source": [
    "test = generation(n=1000, alpha=2, beta=0, gamma=5, delta=0)\n",
    "S_hat = zolotarev_transfo(test, xi=0.15)\n",
    "print(S_hat)"
   ]
  },
  {
   "cell_type": "code",
   "execution_count": 97,
   "id": "f3a3553b-3687-4f45-a6f0-66c5e31713c7",
   "metadata": {},
   "outputs": [],
   "source": [
    "#ca converge tres tres lentement"
   ]
  },
  {
   "cell_type": "code",
   "execution_count": 98,
   "id": "dc798d80-f716-48c4-bcd4-89f49b87a0f6",
   "metadata": {},
   "outputs": [
    {
     "data": {
      "text/plain": [
       "array([1.00000000e+00, 1.40189052e+00, 1.00000000e+01, 3.66165695e+16])"
      ]
     },
     "execution_count": 98,
     "metadata": {},
     "output_type": "execute_result"
    }
   ],
   "source": [
    "presss_moments(sample=test)"
   ]
  },
  {
   "cell_type": "code",
   "execution_count": 21,
   "id": "e52fb42d-b4fc-4e4e-8a6c-900ebc84d857",
   "metadata": {},
   "outputs": [],
   "source": [
    "initial = np.zeros(4)\n",
    "for i in range(250):\n",
    "    test_2 = generation(n=1000, alpha=1.7, beta=0.9, gamma=10, delta=10)\n",
    "    initial = np.vstack((initial, presss_moments(sample=test_2)))\n",
    "    \n",
    "\n",
    "resultat = np.zeros(4)\n",
    "resultat[0] = np.mean(initial[:,0])\n",
    "resultat[1] = np.mean(initial[:,1])\n",
    "resultat[2] = np.mean(initial[:,2])\n",
    "resultat[3] = np.mean(initial[:,3])\n",
    "    "
   ]
  },
  {
   "cell_type": "code",
   "execution_count": 22,
   "id": "145b249c-e83e-4de0-99b5-4818991db073",
   "metadata": {},
   "outputs": [
    {
     "name": "stdout",
     "output_type": "stream",
     "text": [
      "[ 0.10902846  2.14843924  3.81087938 -4.70566537]\n"
     ]
    }
   ],
   "source": [
    "print(resultat)"
   ]
  },
  {
   "cell_type": "markdown",
   "id": "ed7e7350-37e1-40f8-bcff-7a836bb05b93",
   "metadata": {},
   "source": [
    "# Press\n",
    "$\\hat{\\alpha}$ et $\\hat{\\delta}$ assez bons\n",
    "\n",
    "Assez bof : $\\hat{\\gamma}$\n",
    "\n",
    "Catastrophe : $\\hat{\\beta}$\n",
    "\n",
    "# Le résultat précédent c'est quand on prenait un truc un peu au pif\n",
    "# Quand on utilise leurs valeurs de $\\alpha, \\beta, \\gamma, \\delta$ en fait c'est pas mal\n",
    "En fait c'est pas foufou..."
   ]
  },
  {
   "cell_type": "code",
   "execution_count": 23,
   "id": "42f138e0-bef8-4981-98b8-aaa1755d3243",
   "metadata": {},
   "outputs": [
    {
     "data": {
      "text/plain": [
       "array([0., 0., 0., 0.])"
      ]
     },
     "execution_count": 23,
     "metadata": {},
     "output_type": "execute_result"
    }
   ],
   "source": [
    "np.zeros(4)\n"
   ]
  },
  {
   "cell_type": "code",
   "execution_count": 24,
   "id": "66d3973d-8603-4866-8fc0-1294941a1e23",
   "metadata": {
    "scrolled": true
   },
   "outputs": [],
   "source": [
    "%%capture\n",
    "#data generation and definition of moments\n",
    "\n",
    "data_simulation = generation(n=1000, alpha=2, beta=0.5, gamma=3, delta=4)"
   ]
  },
  {
   "cell_type": "code",
   "execution_count": 25,
   "id": "70ce4e91-59ca-4e43-99dd-95d22c873514",
   "metadata": {},
   "outputs": [],
   "source": [
    "%%capture\n",
    "#sort data to be sure the quantiles are well computed bc you never know\n",
    "data_simulation = np.sort(data_simulation)"
   ]
  },
  {
   "cell_type": "code",
   "execution_count": 26,
   "id": "cd10c032-a553-4afd-b655-2eb87e9fab4e",
   "metadata": {},
   "outputs": [],
   "source": [
    "useful_quantiles = np.quantile(a=data_simulation, q=[0.95, 0.75, 0.5, 0.25, 0.05])"
   ]
  },
  {
   "cell_type": "code",
   "execution_count": 27,
   "id": "e6852eb6-8494-4071-9d6e-3673fbec722b",
   "metadata": {},
   "outputs": [
    {
     "data": {
      "text/plain": [
       "array([10.9038422 ,  6.76197407,  4.07913098,  1.04915232, -3.26879304])"
      ]
     },
     "execution_count": 27,
     "metadata": {},
     "output_type": "execute_result"
    }
   ],
   "source": [
    "useful_quantiles"
   ]
  },
  {
   "cell_type": "code",
   "execution_count": 28,
   "id": "c302b652-f478-4e7f-8f5e-8806bbbad5ce",
   "metadata": {},
   "outputs": [],
   "source": [
    "q_95 = useful_quantiles[0]\n",
    "q_75 = useful_quantiles[1]\n",
    "q_50 = useful_quantiles[2]\n",
    "q_25 = useful_quantiles[3]\n",
    "q_05 = useful_quantiles[4]"
   ]
  },
  {
   "cell_type": "markdown",
   "id": "bc184de7-a21a-4e69-9511-1e1c623632d6",
   "metadata": {},
   "source": [
    "### Mc Culloch's quantiles"
   ]
  },
  {
   "cell_type": "code",
   "execution_count": 29,
   "id": "71aefc4e-7b67-4ab3-b5f1-b9f74fc0fa5d",
   "metadata": {},
   "outputs": [],
   "source": [
    "alpha_hat = (q_95-q_05)/(q_75-q_25)\n",
    "beta_hat = (q_95+q_05+2*q_50)/(q_95-q_05)\n",
    "gamma_hat = (q_75-q_25)/3\n",
    "#on a le 3 au denominateur parce que c'est comme ca qu on a genere nos donnees\n",
    "#d'apres le papier, ca va de prendre le gamma qu'on a utililse pour generer\n",
    "delta_hat = np.mean(data_simulation)"
   ]
  },
  {
   "cell_type": "code",
   "execution_count": 30,
   "id": "46ea9d73-6242-4cbc-9abe-4b9eaff06a13",
   "metadata": {},
   "outputs": [],
   "source": [
    "S_1 = np.transpose(np.array((alpha_hat, beta_hat, gamma_hat, delta_hat)))"
   ]
  },
  {
   "cell_type": "code",
   "execution_count": 31,
   "id": "a1b82c58-ed99-47f6-8d34-274f9fc45ecf",
   "metadata": {},
   "outputs": [
    {
     "data": {
      "text/plain": [
       "array([2.48084675, 1.11435247, 1.90427392, 3.99770943])"
      ]
     },
     "execution_count": 31,
     "metadata": {},
     "output_type": "execute_result"
    }
   ],
   "source": [
    "S_1"
   ]
  },
  {
   "cell_type": "code",
   "execution_count": 32,
   "id": "364a9b69-f54d-4383-956f-a4b94025e4ab",
   "metadata": {},
   "outputs": [
    {
     "data": {
      "text/plain": [
       "3.997709434703393"
      ]
     },
     "execution_count": 32,
     "metadata": {},
     "output_type": "execute_result"
    }
   ],
   "source": [
    "delta_hat"
   ]
  },
  {
   "cell_type": "markdown",
   "id": "25e14302-6542-4195-8937-bda53ef5b4fb",
   "metadata": {},
   "source": [
    "Test runned with one million simulations, the estimators seemed to be biased."
   ]
  },
  {
   "cell_type": "markdown",
   "id": "055d674f-ec0b-4bc5-b957-baf7044dceeb",
   "metadata": {},
   "source": [
    "def prior_lf_mc():\n",
    "    \"estimation monte carlo de la vraisemblance\n",
    "    "
   ]
  },
  {
   "cell_type": "markdown",
   "id": "e1b85d15-7401-4cb5-8047-6e0d3385de77",
   "metadata": {},
   "source": [
    "def smc_prc_abc(N=1000, epsilon_t):\n",
    "    \"\"\"Algorithme ABC de l'appendix A de l'article.\n",
    "\n",
    "\n",
    "    Parameters\n",
    "    ---------------------------\n",
    "    N : int\n",
    "    Nombre d'echantillons crees pour les parametres\n",
    "\n",
    "    epsilon_t : array\n",
    "    Les marges d'acceptation pour l'algorithme\n",
    "    \"\"\"\n",
    "    #les prior sont des uniformes cf partie 3.1\n",
    "    prior_alpha = np.random.uniform(1.1, 2., size=N)\n",
    "    prior_beta = np.random.uniform(-1., 1, size=N)\n",
    "    prior_gamma = np.random.uniform(0., 300., size=N)\n",
    "    prior_delta = np.random.uniform(-300., 300., size=N)\n",
    "    prior_gen = np.vstack((prior_alpha,prior_beta,prior_delta, prior_gamma))\n",
    "    \n",
    "    #the weights\n",
    "    \n",
    "\n",
    "    \n",
    "\n",
    "    "
   ]
  },
  {
   "cell_type": "code",
   "execution_count": 53,
   "id": "fdd2fdae-a55a-4d9d-abd9-f0783c636817",
   "metadata": {},
   "outputs": [],
   "source": [
    "a = np.array((1,2,3,4,5))"
   ]
  },
  {
   "cell_type": "code",
   "execution_count": 54,
   "id": "247416ed-cc2c-4b90-972b-3ce5697cdea9",
   "metadata": {},
   "outputs": [
    {
     "data": {
      "text/plain": [
       "array([1, 2, 3, 4, 5])"
      ]
     },
     "execution_count": 54,
     "metadata": {},
     "output_type": "execute_result"
    }
   ],
   "source": [
    "a"
   ]
  },
  {
   "cell_type": "code",
   "execution_count": 55,
   "id": "20105695-c735-4530-b130-1f22ecf7fd85",
   "metadata": {},
   "outputs": [],
   "source": [
    "b = np.array((5,4,3,2,1))"
   ]
  },
  {
   "cell_type": "code",
   "execution_count": 56,
   "id": "8a82e8a7-7712-4a15-bb1e-99e94ed16f39",
   "metadata": {},
   "outputs": [
    {
     "data": {
      "text/plain": [
       "array([0.2, 0.5, 1. , 2. , 5. ])"
      ]
     },
     "execution_count": 56,
     "metadata": {},
     "output_type": "execute_result"
    }
   ],
   "source": [
    "a/b"
   ]
  },
  {
   "cell_type": "code",
   "execution_count": 57,
   "id": "01481a25-6ea7-4cfd-a8f9-08449ebfc7eb",
   "metadata": {},
   "outputs": [],
   "source": [
    "c = np.array((5,1,3,2,4))"
   ]
  },
  {
   "cell_type": "code",
   "execution_count": 58,
   "id": "185e4219-6e92-456f-871d-fd047fddf603",
   "metadata": {},
   "outputs": [],
   "source": [
    "test = np.vstack((a,b,c))"
   ]
  },
  {
   "cell_type": "code",
   "execution_count": 59,
   "id": "1453d515-47b0-4811-8e18-04d363f980ca",
   "metadata": {},
   "outputs": [
    {
     "data": {
      "text/plain": [
       "array([[1, 2, 3, 4, 5],\n",
       "       [5, 4, 3, 2, 1],\n",
       "       [5, 1, 3, 2, 4]])"
      ]
     },
     "execution_count": 59,
     "metadata": {},
     "output_type": "execute_result"
    }
   ],
   "source": [
    "test"
   ]
  },
  {
   "cell_type": "code",
   "execution_count": 62,
   "id": "a4f700fa-2d1a-47c4-96ff-3f07aa7f93fc",
   "metadata": {},
   "outputs": [
    {
     "data": {
      "text/plain": [
       "array([8. , 5.5, 6. , 5. , 5.5])"
      ]
     },
     "execution_count": 62,
     "metadata": {},
     "output_type": "execute_result"
    }
   ],
   "source": [
    "np.trapz(test, axis=0)"
   ]
  },
  {
   "cell_type": "code",
   "execution_count": 50,
   "id": "ecb5dadb-c0b3-476a-bed3-cc210c1ed00f",
   "metadata": {},
   "outputs": [
    {
     "data": {
      "text/plain": [
       "42.5"
      ]
     },
     "execution_count": 50,
     "metadata": {},
     "output_type": "execute_result"
    }
   ],
   "source": [
    "test"
   ]
  },
  {
   "cell_type": "code",
   "execution_count": 45,
   "id": "9528a285-a45d-4bf4-af2e-994cd2df179b",
   "metadata": {},
   "outputs": [],
   "source": [
    "test = np.hstack((a,b,c))"
   ]
  },
  {
   "cell_type": "code",
   "execution_count": 46,
   "id": "c60c69af-6ae2-44cd-8931-512594ee0703",
   "metadata": {},
   "outputs": [
    {
     "data": {
      "text/plain": [
       "array([1, 2, 3, 4, 5, 5, 4, 3, 2, 1, 5, 1, 3, 2, 4])"
      ]
     },
     "execution_count": 46,
     "metadata": {},
     "output_type": "execute_result"
    }
   ],
   "source": [
    "test"
   ]
  },
  {
   "cell_type": "code",
   "execution_count": 47,
   "id": "989a6737-135e-4e1b-b90e-6dcbcfdf5eb3",
   "metadata": {},
   "outputs": [
    {
     "data": {
      "text/plain": [
       "6.324555320336759"
      ]
     },
     "execution_count": 47,
     "metadata": {},
     "output_type": "execute_result"
    }
   ],
   "source": [
    "np.linalg.norm(a - b)"
   ]
  },
  {
   "cell_type": "code",
   "execution_count": 43,
   "id": "e443ed5a-70f6-463e-8966-388069ad98c7",
   "metadata": {},
   "outputs": [
    {
     "ename": "IndexError",
     "evalue": "too many indices for array: array is 1-dimensional, but 2 were indexed",
     "output_type": "error",
     "traceback": [
      "\u001b[0;31m---------------------------------------------------------------------------\u001b[0m",
      "\u001b[0;31mIndexError\u001b[0m                                Traceback (most recent call last)",
      "Cell \u001b[0;32mIn[43], line 1\u001b[0m\n\u001b[0;32m----> 1\u001b[0m \u001b[43mtest\u001b[49m\u001b[43m[\u001b[49m\u001b[38;5;241;43m0\u001b[39;49m\u001b[43m,\u001b[49m\u001b[43m:\u001b[49m\u001b[43m]\u001b[49m\n",
      "\u001b[0;31mIndexError\u001b[0m: too many indices for array: array is 1-dimensional, but 2 were indexed"
     ]
    }
   ],
   "source": [
    "test[0,:]"
   ]
  },
  {
   "cell_type": "code",
   "execution_count": null,
   "id": "adbe2642-b4ea-4f0a-ac7b-ba6b43fb3c24",
   "metadata": {},
   "outputs": [],
   "source": [
    "zebulon = generation(n=1000)"
   ]
  },
  {
   "cell_type": "code",
   "execution_count": 44,
   "id": "c36a130c-7433-4c50-a934-365ed7253451",
   "metadata": {},
   "outputs": [],
   "source": [
    "def emp_cdf(sample,t):\n",
    "    \"\"\"a function made to calculate the empirical cumulative distribution function\n",
    "\n",
    "    Parameters\n",
    "    ------------------\n",
    "    sample : array-like\n",
    "    data, generated or observed\n",
    "\n",
    "    t : int, float\n",
    "    the argument in which we want to evaluate the empirical cdf\n",
    "    ------------------\n",
    "    \"\"\"\n",
    "    result = 0\n",
    "    sorted_sample = np.sort(sample)\n",
    "    for i in sorted_sample:\n",
    "        if i<=t:\n",
    "            result += 1/len(sample)\n",
    "    return result"
   ]
  },
  {
   "cell_type": "code",
   "execution_count": 45,
   "id": "ed477dce-f285-4d30-bd0d-42e316ab8da7",
   "metadata": {},
   "outputs": [],
   "source": [
    "def kolmogorov_smirnov(sample,proposal,q_1=0.25,q_2=0.75):\n",
    "    \"\"\"a function to get the S_5 statistic from the article\n",
    "\n",
    "    Parameters\n",
    "    ---------------\n",
    "    sample : array-like\n",
    "    the observed data about which we want to see if we are close or not \n",
    "\n",
    "    proposal : array-like\n",
    "    the proposal X, simulated from parameters, to see if it fits\n",
    "\n",
    "    q_1,q_2 : float\n",
    "    must be between 0 and 1, values to give to have a certain quantile in the summary statistics\n",
    "    ---------------\n",
    "    \"\"\"\n",
    "    if (0<q_1<1 and 0<q_2<1) == False :\n",
    "        raise ValueError('q_1 and q_2 must be between 0 and 1')\n",
    "    KS = 0\n",
    "    z = np.linspace(start=-400, stop=400, num=100000)\n",
    "    for i in z:\n",
    "        interm = np.abs(emp_cdf(sample,i)-emp_cdf(proposal,i))\n",
    "        if interm>KS:\n",
    "            KS=interm\n",
    "    quantiles = np.quantile(a=proposal, q=[q_1, q_2])\n",
    "    mean_sample = np.mean(proposal)\n",
    "    return np.array((mean_sample, quantiles[0], quantiles[1], KS))\n",
    "    "
   ]
  },
  {
   "cell_type": "code",
   "execution_count": 46,
   "id": "d7582971-3208-4d38-ad00-7d9e3c82defc",
   "metadata": {},
   "outputs": [
    {
     "name": "stdout",
     "output_type": "stream",
     "text": [
      "[ 8.12431735  3.4034849  12.79301466  0.1762    ] \n",
      " [ 9.91443119 -1.98034826 17.59056193  0.        ]\n"
     ]
    }
   ],
   "source": [
    "true_one = generation(n=10000)\n",
    "proposition_1 = generation(n=10000, alpha=2, beta=1, delta=8, gamma=5)\n",
    "print(kolmogorov_smirnov(sample=true_one, proposal=proposition_1), '\\n',\n",
    "      kolmogorov_smirnov(sample=true_one, proposal=true_one))"
   ]
  },
  {
   "cell_type": "code",
   "execution_count": 66,
   "id": "244cd9e1-7bfe-4b0e-bcb4-68cd4b6d949c",
   "metadata": {},
   "outputs": [],
   "source": [
    "true_value = []\n",
    "proposal = []\n",
    "\n",
    "for i in instants:\n",
    "    true_value.append(emp_char_fun(sample=true_one, t=i))\n",
    "    proposal.append(emp_char_fun(sample=proposition_1, t=i))\n",
    "\n",
    "true_value = np.array(true_value)\n",
    "proposal = np.array(proposal)"
   ]
  },
  {
   "cell_type": "code",
   "execution_count": 67,
   "id": "bda8b4e5-af03-492f-a5a9-c5bf6358b17f",
   "metadata": {},
   "outputs": [
    {
     "data": {
      "text/plain": [
       "(10,)"
      ]
     },
     "execution_count": 67,
     "metadata": {},
     "output_type": "execute_result"
    }
   ],
   "source": [
    "true_value.shape"
   ]
  },
  {
   "cell_type": "code",
   "execution_count": 68,
   "id": "a482e3d9-7313-4a79-8995-6460aba0b0b7",
   "metadata": {},
   "outputs": [
    {
     "data": {
      "text/plain": [
       "0.05599945965953793"
      ]
     },
     "execution_count": 68,
     "metadata": {},
     "output_type": "execute_result"
    }
   ],
   "source": [
    "np.linalg.norm(true_value-proposal)"
   ]
  },
  {
   "cell_type": "code",
   "execution_count": 73,
   "id": "e1973be9-93d3-436e-81dd-c9c0ba7b6a4b",
   "metadata": {},
   "outputs": [],
   "source": [
    "def accept_reject_abc(N=1000, epsilon_t=0.5, alpha=2, beta=0, gamma=1, delta=0, method='emp_char'):\n",
    "    \"\"\"algorithme d'acceptation rejet 'basique', vu en cours\n",
    "\n",
    "    Parameters\n",
    "    ---------------------------------\n",
    "    N : int\n",
    "    nombre de simulations faites\n",
    "\n",
    "    epsilon_t : array\n",
    "    scale parameters, marge d'acceptation\n",
    "\n",
    "    alpha, beta, gamma, delta :\n",
    "    parametres pour les simulations\n",
    "\n",
    "    method : str\n",
    "    le type de methode que l on veut utiliser, par methode on entend quel type de 'summary statistique' on veut utiliser\n",
    "    -------------------------------\n",
    "    \"\"\"\n",
    "    data = generation(n=N, alpha=alpha, beta=beta, gamma=gamma, delta=delta)\n",
    "    #priors\n",
    "    prior_alpha = np.random.uniform(1.1, 2., size=N)\n",
    "    prior_beta = np.random.uniform(-1., 1, size=N)\n",
    "    prior_gamma = np.random.uniform(0., 300., size=N)\n",
    "    prior_delta = np.random.uniform(-300., 300., size=N)\n",
    "    prior_gen = np.vstack((prior_alpha,prior_beta,prior_delta, prior_gamma))\n",
    "\n",
    "    if method == 'emp_char':\n",
    "        true_data_estim = np.zeros(shape=10, dtype=complex)\n",
    "        for i in range(20):\n",
    "            true_data_estim[i] = emp_char_fun(sample=data, t=instants[i])\n",
    "    elif method == 'zolotarev':\n",
    "        true_data_estim = zolotarev_transfo(sample=data, xi=0.15)\n",
    "    elif method == 'press':\n",
    "        true_data_estim = presss_moments(sample=data)\n",
    "\n",
    "    alpha_test = 0\n",
    "    beta_test = 0\n",
    "    gamma_test = 0\n",
    "    delta_test = 0\n",
    "    for i in range(N):\n",
    "        proposed_data = generation(n=N, alpha=prior_gen[:,i][0],\n",
    "                                   beta=prior_gen[:,i][1],\n",
    "                                   delta=prior_gen[:,i][2],\n",
    "                                   gamma=prior_gen[:,i][3])\n",
    "        alpha_test = prior_gen[:,i][0]\n",
    "        beta_test = prior_gen[:,i][1]\n",
    "        gamma_test = prior_gen[:,i][2]\n",
    "        delta_test = prior_gen[:,i][3]\n",
    "        estimated = np.zeros(shape=10, dtype=complex)\n",
    "        for i in range(20):\n",
    "            estimated[i] = emp_char_fun(sample=proposed_data, t=instants[i])\n",
    "        if np.linalg.norm(estimated-true_data_estim) < epsilon_t:\n",
    "            return np.array((alpha_test, beta_test, gamma_test, delta_test))\n",
    "            \n",
    "        else :\n",
    "            continue"
   ]
  },
  {
   "cell_type": "code",
   "execution_count": 74,
   "id": "9dfa5ee0-f0cd-4573-a61d-89e13c597667",
   "metadata": {},
   "outputs": [],
   "source": [
    "test_1 = accept_reject_abc(N=200, epsilon_t=0.3)"
   ]
  },
  {
   "cell_type": "code",
   "execution_count": 75,
   "id": "24742030-7f09-4855-918a-c804701299c0",
   "metadata": {},
   "outputs": [
    {
     "name": "stdout",
     "output_type": "stream",
     "text": [
      "None 0.00012111663818359375\n"
     ]
    }
   ],
   "source": [
    "start = time.time()\n",
    "test_1\n",
    "end = time.time()\n",
    "print(test_1, end - start)"
   ]
  },
  {
   "cell_type": "code",
   "execution_count": null,
   "id": "a7d257a8-18ec-4763-8dc9-2f29ff30391f",
   "metadata": {},
   "outputs": [],
   "source": [
    "#avec une si petite distance ca ne marchait pas"
   ]
  },
  {
   "cell_type": "code",
   "execution_count": null,
   "id": "37ebece8-6b21-4bce-94be-0c404f6bfa7d",
   "metadata": {
    "scrolled": true
   },
   "outputs": [],
   "source": [
    "start = time.time()\n",
    "liste_parametres = np.zeros(4)\n",
    "for i in range(len(scale_param)):\n",
    "    pouet = accept_reject_abc(N=200, epsilon_t=scale_param[-i])\n",
    "    if pouet != None\n",
    "        liste_parametres = np.vstack((pouet,liste_parametres))\n",
    "\n",
    "end = time.time()\n",
    "\n",
    "print(end - start)"
   ]
  },
  {
   "cell_type": "code",
   "execution_count": null,
   "id": "c9e6db6a-f296-42a7-8257-a6415823e5be",
   "metadata": {},
   "outputs": [],
   "source": [
    "#must change the parameters, N must be 200, too long otherwise"
   ]
  },
  {
   "cell_type": "code",
   "execution_count": null,
   "id": "e0c1dfe2-c3a1-47d3-99dc-74e293e713f3",
   "metadata": {
    "scrolled": true
   },
   "outputs": [],
   "source": [
    "%%capture\n",
    "liste_parametres"
   ]
  },
  {
   "cell_type": "code",
   "execution_count": null,
   "id": "953a19d0-b5ed-401a-bea8-c2f3335819ee",
   "metadata": {},
   "outputs": [],
   "source": [
    "#not working very well, new distance needed"
   ]
  },
  {
   "cell_type": "code",
   "execution_count": null,
   "id": "b9a6f8ea-8e3b-446b-a198-74f37928df09",
   "metadata": {},
   "outputs": [],
   "source": [
    "#Works probably, pb : wrong use of mc culloch quantiles, need to invert --> pb , how"
   ]
  },
  {
   "cell_type": "code",
   "execution_count": null,
   "id": "f570db26-af35-41e2-bebf-39b8e6d1f529",
   "metadata": {
    "scrolled": true
   },
   "outputs": [],
   "source": [
    "liste_parametres"
   ]
  },
  {
   "cell_type": "code",
   "execution_count": null,
   "id": "76bf00c5-d29d-48fc-87ba-0f995930ce0d",
   "metadata": {},
   "outputs": [],
   "source": [
    "type(None)"
   ]
  },
  {
   "cell_type": "code",
   "execution_count": null,
   "id": "0200f9e9-b8bf-4851-92a0-16aa3594b8c9",
   "metadata": {},
   "outputs": [],
   "source": [
    "total = np.zeros(4)\n",
    "for i in range(len(liste_parametres)):\n",
    "    if type(liste_parametres[i][1]) != None:\n",
    "        interm = np.array(liste_parametres[i][1])\n",
    "        print(interm)\n",
    "        total = np.vstack((total, interm))"
   ]
  },
  {
   "cell_type": "code",
   "execution_count": null,
   "id": "2e969222-e400-45fe-a1ae-dd61ee9b4df2",
   "metadata": {},
   "outputs": [],
   "source": [
    "if 1 == 2:\n",
    "    print('no')\n",
    "else:\n",
    "    print('yes')"
   ]
  },
  {
   "cell_type": "code",
   "execution_count": null,
   "id": "9578ff69-e36c-4e6e-a2f9-493e1e3f7daa",
   "metadata": {},
   "outputs": [],
   "source": [
    "liste_parametres[3][1]"
   ]
  },
  {
   "cell_type": "code",
   "execution_count": null,
   "id": "dd8050ba-3508-45d9-b8ea-2bcfbe7c7d8e",
   "metadata": {},
   "outputs": [],
   "source": [
    "for i in range(len(liste_parametres)):\n",
    "    if liste_parametres[i][0] == 4.85:\n",
    "        print(np.array(liste_parametres[i][1]))"
   ]
  },
  {
   "cell_type": "code",
   "execution_count": null,
   "id": "5162bc01-9357-4fd5-8b21-62c56ab2873b",
   "metadata": {},
   "outputs": [],
   "source": [
    "#faudra changer aussi le format du test, pas liste mais passer direct en array"
   ]
  },
  {
   "cell_type": "code",
   "execution_count": null,
   "id": "5f19afa8-75d1-47b0-9bb4-3f50c24a2326",
   "metadata": {},
   "outputs": [],
   "source": [
    "a"
   ]
  },
  {
   "cell_type": "code",
   "execution_count": null,
   "id": "b3188ddc-f20d-468f-9d2e-b3411d3c246a",
   "metadata": {},
   "outputs": [],
   "source": [
    "b"
   ]
  },
  {
   "cell_type": "code",
   "execution_count": null,
   "id": "7e21d808-7247-4a18-b82f-607be2bb47ef",
   "metadata": {},
   "outputs": [],
   "source": [
    "np.linalg.norm(a-b)"
   ]
  },
  {
   "cell_type": "code",
   "execution_count": null,
   "id": "c621880b-a93f-4638-bc4e-2353352773f9",
   "metadata": {},
   "outputs": [],
   "source": [
    "np.sqrt(40)"
   ]
  },
  {
   "cell_type": "code",
   "execution_count": null,
   "id": "ff1122c5-052b-43d7-9bc4-d9455a0eabef",
   "metadata": {},
   "outputs": [],
   "source": []
  }
 ],
 "metadata": {
  "kernelspec": {
   "display_name": "Python 3 (ipykernel)",
   "language": "python",
   "name": "python3"
  },
  "language_info": {
   "codemirror_mode": {
    "name": "ipython",
    "version": 3
   },
   "file_extension": ".py",
   "mimetype": "text/x-python",
   "name": "python",
   "nbconvert_exporter": "python",
   "pygments_lexer": "ipython3",
   "version": "3.11.6"
  }
 },
 "nbformat": 4,
 "nbformat_minor": 5
}
