{
 "cells": [
  {
   "cell_type": "code",
   "execution_count": 1,
   "id": "08e5e0ff-9961-4ac3-97fd-a7da7c88dbb5",
   "metadata": {},
   "outputs": [],
   "source": [
    "import numpy as np\n",
    "\n",
    "def generation(n, alpha=2, beta=0, gamma=1, delta=0):\n",
    "    y = [0]*n\n",
    "    tan = np.tan(np.pi*alpha/2)\n",
    "    S = (1 + beta**2 * tan**2) ** (1 / (2 * alpha))\n",
    "    B = (1 / alpha) * np.arctan(beta * tan)\n",
    "    print(\"S:\", S, \"B:\", B, \"tan(pi*alpha/2)\", tan)\n",
    "\n",
    "    for i in range(n):\n",
    "        w = -np.log(1 - np.random.rand())\n",
    "        u = np.random.uniform(-np.pi/2, np.pi/2)\n",
    "        \n",
    "        if alpha == 1:\n",
    "            print(\"before transf:\", y[i])\n",
    "            y[i] = 2 / np.pi * ((np.pi/2 + beta * u) * np.tan(u) - beta * np.log((np.pi/2 * w * np.cos(u)) / (np.pi/2 + beta * u)))\n",
    "            print(\"after transf:\", y[i])\n",
    "        else:\n",
    "            print(\"before transf:\", y[i])\n",
    "            y[i] = S * np.sin(alpha) * (u + B) / (np.cos(u)**(1 / alpha)) * (np.cos(u - alpha * (u + B)) / w) ** ((1 - alpha) / alpha)\n",
    "            print(\"after transf:\", y[i])\n",
    "\n",
    "        print(\"before scaling:\", y[i])\n",
    "        y[i] = gamma * y[i] + delta\n",
    "        print(\"after scaling:\", y[i])\n",
    "    return y"
   ]
  },
  {
   "cell_type": "markdown",
   "id": "730672f9-d2bb-4caf-9f57-df2d110eb6ce",
   "metadata": {},
   "source": [
    "$\\theta = (\\alpha, \\beta, \\gamma, \\delta)$ \n",
    "\n",
    "N = 1000\n",
    "\n",
    "$K_{\\epsilon} (y-x)$ def by $S(y)$ ~ $N(S(x), \\epsilon^2 \\hat{\\Sigma})$\n",
    "\n",
    "$\\hat{\\Sigma}$ is an estimate of $Cov(S(x)\\hat{\\theta})$\n",
    "\n",
    "$\\Lambda$ = diag(0.25, 0.25, 1, 1)"
   ]
  },
  {
   "cell_type": "code",
   "execution_count": null,
   "id": "43d3a181-32c7-438b-846d-65bbdfe774c4",
   "metadata": {},
   "outputs": [],
   "source": [
    "}"
   ]
  },
  {
   "cell_type": "code",
   "execution_count": null,
   "id": "46f529b7-84ae-4520-a477-7f3b501f2cf6",
   "metadata": {},
   "outputs": [],
   "source": [
    "{}"
   ]
  }
 ],
 "metadata": {
  "kernelspec": {
   "display_name": "Python 3 (ipykernel)",
   "language": "python",
   "name": "python3"
  },
  "language_info": {
   "codemirror_mode": {
    "name": "ipython",
    "version": 3
   },
   "file_extension": ".py",
   "mimetype": "text/x-python",
   "name": "python",
   "nbconvert_exporter": "python",
   "pygments_lexer": "ipython3",
   "version": "3.11.6"
  }
 },
 "nbformat": 4,
 "nbformat_minor": 5
}
