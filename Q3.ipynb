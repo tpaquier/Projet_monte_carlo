{
 "cells": [
  {
   "cell_type": "code",
   "execution_count": 1,
   "id": "42432d8d-94f8-4932-ad13-1ee5ac96d262",
   "metadata": {},
   "outputs": [],
   "source": [
    "###Importation des packages\n",
    "\n",
    "import numpy as np\n",
    "import time"
   ]
  },
  {
   "cell_type": "code",
   "execution_count": 2,
   "id": "10eb6d17-48d2-4823-bf3b-a9f70dd4d572",
   "metadata": {},
   "outputs": [],
   "source": [
    "def generation(n, alpha=2, beta=0, gamma=1, delta=0):\n",
    "    # Initialize samples array with zeros\n",
    "    sample = np.zeros(n)\n",
    "    \n",
    "    # Constants that do not depend on the sample index and thus can be computed once\n",
    "    if alpha != 1:\n",
    "        S_alpha_beta = (1 + beta ** 2 * np.tan(np.pi * alpha / 2) ** 2) ** (1 / (2 * alpha))\n",
    "        B_alpha_beta = (1 / alpha) * np.arctan(beta * np.tan(np.pi * alpha / 2))\n",
    "\n",
    "    for i in range(n):\n",
    "        U = np.random.uniform(-np.pi/2, np.pi/2)\n",
    "        W = -np.log(1 - np.random.uniform(0,1))\n",
    "        \n",
    "        # Handle the case alpha = 1 separately\n",
    "        if alpha != 1:\n",
    "            part1 = np.sin(alpha * (U + B_alpha_beta)) / (np.cos(U) ** (1 / alpha))\n",
    "            part2 = (np.cos(U - alpha * (U + B_alpha_beta)) / W) ** ((1 - alpha) / alpha)\n",
    "            sample[i] = S_alpha_beta * part1 * part2\n",
    "        else:\n",
    "            sample[i] = (2 / np.pi) * ((np.pi / 2 + beta * U) * np.tan(U) - beta * np.log((np.pi / 2 * W * np.cos(U))/(np.pi+beta*U)))\n",
    "\n",
    "    # Apply scaling and location shifting\n",
    "    sample = gamma * sample + delta\n",
    "    return sample"
   ]
  },
  {
   "cell_type": "code",
   "execution_count": 32,
   "id": "5940a546-e114-42a1-8814-9ad9de70e0b8",
   "metadata": {},
   "outputs": [],
   "source": [
    "def char_fun_zolo(t, nu, etha, tau):\n",
    "    \"\"\"characteristic function to use from S2 to S5\n",
    "\n",
    "    Parameters\n",
    "    ----------------------------\n",
    "    t : float\n",
    "    the \"instant\" we want to check\n",
    "\n",
    "    nu : float\n",
    "    parameter of the alpha-stable distribution, >= 1/4.\n",
    "\n",
    "    etha :float\n",
    "    parameter of the alpha-stable distribution, np.sign(etha) <= min(1, 2*np.sqrt(nu)-1)\n",
    "\n",
    "    tau : float\n",
    "    parameter of the alpha-stable distribution, absolute value < inf\n",
    "    ------------------------------\n",
    "    \"\"\"\n",
    "\n",
    "    y = -np.exp((nu**(-1/2))*(np.log(np.abs(t)) + tau - 1j*(np.pi/2)*etha*np.sign(t)) + np.e*((nu**(-1/2))-1))\n",
    "    return y\n",
    "    "
   ]
  },
  {
   "cell_type": "code",
   "execution_count": 49,
   "id": "4b145898-5a27-461a-8238-d4b29efe0257",
   "metadata": {},
   "outputs": [],
   "source": [
    "def emp_char_fun(sample, t):\n",
    "    \"\"\"function to evaluate the empirical characteristic of a function at an instant t\n",
    "\n",
    "    Parameters\n",
    "    -------------------------\n",
    "    sample : array-like\n",
    "    sample on which we want to evaluate the characteristic function\n",
    "\n",
    "    t : int, float\n",
    "    moment to estimate/generate\n",
    "    --------------------------\n",
    "    \"\"\"\n",
    "    expo_transfo = np.exp(sample*1j*t)\n",
    "    empirical = np.mean(expo_transfo)\n",
    "    return empirical\n",
    "    "
   ]
  },
  {
   "cell_type": "markdown",
   "id": "730672f9-d2bb-4caf-9f57-df2d110eb6ce",
   "metadata": {},
   "source": [
    "$\\theta = (\\alpha, \\beta, \\gamma, \\delta)$ \n",
    "\n",
    "N = 1000\n",
    "\n",
    "$x^1,...,x^p$ ~ $\\pi(x|\\theta)$\n",
    "\n",
    "$\\pi_{LF}(\\theta|y)$ = $\\pi(\\theta)\\mathbb{E}_{\\pi(x|\\theta)}[K_{\\epsilon} (y-x)]$ $\\leftarrow$ we do monte carlo on this\n",
    "\n",
    "$K_{\\epsilon} (y-x)$ def by $S(y)$ ~ $N(S(x), \\epsilon^2 \\hat{\\Sigma})$ $\\leftarrow$ that would be our gaussian kernel\n",
    "\n",
    "$\\hat{\\Sigma}$ is an estimate of $Cov(S(x)\\hat{\\theta})$\n",
    "\n",
    "$\\Lambda$ = diag(0.25, 0.25, 1, 1)\n",
    "\n",
    "Mutation kernel : $M_t(\\theta_t) = \\sum_{i=1}^{N} W_{t-1}^{(i)}(\\theta_{t-1}^{(i)}) \\phi(\\theta_t ; \\theta_{t-1}^{(i)})$\n",
    "\n",
    "Gaussian kernel : $L(x,t) = \\sum_{n = -M}^{M}f(x-n)G(n,t)$\n",
    "\n",
    "with G(n,t) = $\\frac{1}{\\sqrt{2\\pi t}}e^{-\\frac{n^2}{2t}}$\n",
    "\n",
    "\n",
    "As t increases, $\\epsilon_t$ decreases\n",
    "\n",
    "$\\hat{c_t}$ is the 90th quantile of the weights"
   ]
  },
  {
   "cell_type": "code",
   "execution_count": 3,
   "id": "46f529b7-84ae-4520-a477-7f3b501f2cf6",
   "metadata": {},
   "outputs": [
    {
     "data": {
      "text/plain": [
       "{}"
      ]
     },
     "execution_count": 3,
     "metadata": {},
     "output_type": "execute_result"
    }
   ],
   "source": [
    "{}"
   ]
  },
  {
   "cell_type": "markdown",
   "id": "25a73037-8b81-4e2b-a980-8c7bd8ef51da",
   "metadata": {},
   "source": [
    "# Seed : 256652"
   ]
  },
  {
   "cell_type": "code",
   "execution_count": 4,
   "id": "9875ffab-8c7a-495b-9957-ebf7045df588",
   "metadata": {},
   "outputs": [],
   "source": [
    "np.random.seed(256652)\n",
    "\n",
    "#creation des prior des parametres cf section 3.1\n",
    "\n",
    "prior_alpha = np.random.uniform(1.1, 2., size=1000)\n",
    "prior_beta = np.random.uniform(-1., 1, size=1000)\n",
    "prior_gamma = np.random.uniform(0., 300., size=1000)\n",
    "prior_delta = np.random.uniform(-300., 300., size=1000)\n",
    "\n",
    "#scale parameters\n",
    "\n",
    "#epsilon_t\n",
    "\n",
    "mille = np.linspace(start=100, stop=1000, endpoint=True, num=10)[::-1]\n",
    "cent = np.linspace(start=10, stop=100, endpoint=False, num=90)[::-1]\n",
    "dix = np.linspace(start=5, stop=10, endpoint=False, num=10)[::-1]\n",
    "cinq = np.linspace(start=3, stop=5, endpoint=False, num=40)[::-1]\n",
    "trois = np.linspace(start=0, stop=3, endpoint=False, num=300)[::-1]\n",
    "\n",
    "scale_param = np.concatenate((mille, cent, dix, cinq, trois))\n",
    "\n",
    "\n",
    "N = 1000\n",
    "varcov_lambda = np.array([0.25,0.,0.,0.,0.,0.25, 0., 0.,0.,0.,1.,0.,0.,0.,0.,1]).reshape([4,4])"
   ]
  },
  {
   "cell_type": "code",
   "execution_count": 5,
   "id": "197d552a-032b-40de-bc62-bce8ffba6a53",
   "metadata": {},
   "outputs": [],
   "source": [
    "def gaussian_ker(u=0, y=0):\n",
    "    \"\"\"gaussian kernel for weights\n",
    "    \n",
    "    Parameters\n",
    "    -------------------\n",
    "    y : float\n",
    "    the point we have, the output\n",
    "\n",
    "    u : float\n",
    "    the point from which we want to calculate a weight\n",
    "    ----------\n",
    "    \"\"\"\n",
    "\n",
    "    w = (1/np.sqrt(2*np.pi))*np.exp(-(u-y)**2/2)\n",
    "    return w"
   ]
  },
  {
   "cell_type": "code",
   "execution_count": 6,
   "id": "db592d0c-7973-4679-a563-5911dc162a26",
   "metadata": {},
   "outputs": [],
   "source": [
    "def mc_culloch_q(data, gamma=1):\n",
    "    \"\"\"fonction pour calculer les quantiles de mc_culloch utilises dans le papier\n",
    "\n",
    "    Parameters\n",
    "    --------------\n",
    "    data : array\n",
    "    les donnes pour lesquelles on veut calculer les quantiles\n",
    "\n",
    "    gamma : float\n",
    "    valeur 1 par defaut, d'apres le papier, on utilise le gamma utilise pour faire les simulations\n",
    "    ----------------\n",
    "    \"\"\"\n",
    "    data_sorted = np.sort(data)\n",
    "    useful_quantiles = np.quantile(a=data_sorted, q=[0.95, 0.75, 0.5, 0.25, 0.05])\n",
    "    q_95 = useful_quantiles[0]\n",
    "    q_75 = useful_quantiles[1]\n",
    "    q_50 = useful_quantiles[2]\n",
    "    q_25 = useful_quantiles[3]\n",
    "    q_05 = useful_quantiles[4]\n",
    "    alpha_hat = (q_95-q_05)/(q_75-q_25)\n",
    "    beta_hat = (q_95+q_05+2*q_50)/(q_95-q_05)\n",
    "    gamma_hat = (q_75-q_25)/gamma\n",
    "    #on a le gamma au denominateur parce que c'est comme ca qu on a genere nos donnees\n",
    "    #d'apres le papier, ca va de prendre le gamma qu'on a utililse pour generer\n",
    "    delta_hat = np.mean(data_simulation)\n",
    "    S_1 = np.transpose(np.array((alpha_hat, beta_hat, gamma_hat, delta_hat)))\n",
    "    return S_1"
   ]
  },
  {
   "cell_type": "code",
   "execution_count": 42,
   "id": "1bd6477b-e5e3-4eea-ac12-b7d74e0ad083",
   "metadata": {},
   "outputs": [],
   "source": [
    "def zolotarev_transfo(sample, xi):\n",
    "    \"\"\"function to use for the estimation based on the zolotarev transformation\n",
    "\n",
    "    Parameters\n",
    "    --------------------------\n",
    "    Sample : array-like\n",
    "    Sample to do the transformation on\n",
    "\n",
    "    xi : int, float\n",
    "    The constant used in the transformation\n",
    "    --------------------------\n",
    "    \"\"\"\n",
    "    if xi<=0 or xi>1/2 :\n",
    "        raise ValueError('Xi must be between 0 and 1/2')\n",
    "    taille = len(sample)\n",
    "    Z = []\n",
    "    for i in range(int(taille/3)):\n",
    "        transfo = sample[3*i-2] - xi*sample[3*i-1] - (1 - xi)*sample[3*i]\n",
    "        Z.append(transfo)\n",
    "    V = []\n",
    "    U = []\n",
    "    for i in range(len(Z)):\n",
    "        V.append(np.log(np.abs(Z[i])))\n",
    "        U.append(np.sign(sample[i]))\n",
    "    V = np.array(V)\n",
    "    U = np.array(U)\n",
    "    S_U_squared = (np.std(U))**2\n",
    "    S_V_squared = (np.std(V))**2\n",
    "    nu_tilde = (6/(np.pi)**2)*S_V_squared - (3/2)*S_U_squared + 1\n",
    "    etha_hat = np.mean(U)\n",
    "    tau_hat = np.mean(V)\n",
    "    nu_hat = 0\n",
    "    if nu_tilde > ((1+np.abs(etha_hat))**2)/4:\n",
    "        nu_hat = nu_tilde\n",
    "    else:\n",
    "        nu_hat = ((1+np.abs(etha_hat))**2)/4\n",
    "    delta_hat = np.mean(sample)\n",
    "    S_2 = np.array((nu_hat, etha_hat, tau_hat, delta_hat))\n",
    "    return S_2"
   ]
  },
  {
   "cell_type": "code",
   "execution_count": 47,
   "id": "81928318-b2a1-4edd-96e1-83057503809e",
   "metadata": {},
   "outputs": [
    {
     "name": "stdout",
     "output_type": "stream",
     "text": [
      "[0.9977161  0.00909009 0.70168658 0.00157618]\n"
     ]
    }
   ],
   "source": [
    "test = generation(n=100000, alpha=1, beta=0, gamma=1, delta=0)\n",
    "S_hat = zolotarev_transfo(test, xi=0.15)\n",
    "print(S_hat)"
   ]
  },
  {
   "cell_type": "code",
   "execution_count": 48,
   "id": "f3a3553b-3687-4f45-a6f0-66c5e31713c7",
   "metadata": {},
   "outputs": [],
   "source": [
    "#ca converge tres tres lentement"
   ]
  },
  {
   "cell_type": "code",
   "execution_count": 7,
   "id": "66d3973d-8603-4866-8fc0-1294941a1e23",
   "metadata": {
    "scrolled": true
   },
   "outputs": [],
   "source": [
    "%%capture\n",
    "#data generation and definition of moments\n",
    "\n",
    "data_simulation = generation(n=1000, alpha=2, beta=0.5, gamma=3, delta=4)"
   ]
  },
  {
   "cell_type": "code",
   "execution_count": 8,
   "id": "70ce4e91-59ca-4e43-99dd-95d22c873514",
   "metadata": {},
   "outputs": [],
   "source": [
    "%%capture\n",
    "#sort data to be sure the quantiles are well computed bc you never know\n",
    "data_simulation = np.sort(data_simulation)"
   ]
  },
  {
   "cell_type": "code",
   "execution_count": 9,
   "id": "cd10c032-a553-4afd-b655-2eb87e9fab4e",
   "metadata": {},
   "outputs": [],
   "source": [
    "useful_quantiles = np.quantile(a=data_simulation, q=[0.95, 0.75, 0.5, 0.25, 0.05])"
   ]
  },
  {
   "cell_type": "code",
   "execution_count": 10,
   "id": "e6852eb6-8494-4071-9d6e-3673fbec722b",
   "metadata": {},
   "outputs": [
    {
     "data": {
      "text/plain": [
       "array([10.84727521,  6.72913814,  3.91121601,  1.43537277, -2.13720908])"
      ]
     },
     "execution_count": 10,
     "metadata": {},
     "output_type": "execute_result"
    }
   ],
   "source": [
    "useful_quantiles"
   ]
  },
  {
   "cell_type": "code",
   "execution_count": 11,
   "id": "c302b652-f478-4e7f-8f5e-8806bbbad5ce",
   "metadata": {},
   "outputs": [],
   "source": [
    "q_95 = useful_quantiles[0]\n",
    "q_75 = useful_quantiles[1]\n",
    "q_50 = useful_quantiles[2]\n",
    "q_25 = useful_quantiles[3]\n",
    "q_05 = useful_quantiles[4]"
   ]
  },
  {
   "cell_type": "markdown",
   "id": "bc184de7-a21a-4e69-9511-1e1c623632d6",
   "metadata": {},
   "source": [
    "### Mc Culloch's quantiles"
   ]
  },
  {
   "cell_type": "code",
   "execution_count": 12,
   "id": "71aefc4e-7b67-4ab3-b5f1-b9f74fc0fa5d",
   "metadata": {},
   "outputs": [],
   "source": [
    "alpha_hat = (q_95-q_05)/(q_75-q_25)\n",
    "beta_hat = (q_95+q_05+2*q_50)/(q_95-q_05)\n",
    "gamma_hat = (q_75-q_25)/3\n",
    "#on a le 3 au denominateur parce que c'est comme ca qu on a genere nos donnees\n",
    "#d'apres le papier, ca va de prendre le gamma qu'on a utililse pour generer\n",
    "delta_hat = np.mean(data_simulation)"
   ]
  },
  {
   "cell_type": "code",
   "execution_count": 13,
   "id": "46ea9d73-6242-4cbc-9abe-4b9eaff06a13",
   "metadata": {},
   "outputs": [],
   "source": [
    "S_1 = np.transpose(np.array((alpha_hat, beta_hat, gamma_hat, delta_hat)))"
   ]
  },
  {
   "cell_type": "code",
   "execution_count": 14,
   "id": "a1b82c58-ed99-47f6-8d34-274f9fc45ecf",
   "metadata": {},
   "outputs": [
    {
     "data": {
      "text/plain": [
       "array([2.45278802, 1.27325027, 1.76458846, 4.10787777])"
      ]
     },
     "execution_count": 14,
     "metadata": {},
     "output_type": "execute_result"
    }
   ],
   "source": [
    "S_1"
   ]
  },
  {
   "cell_type": "code",
   "execution_count": 15,
   "id": "364a9b69-f54d-4383-956f-a4b94025e4ab",
   "metadata": {},
   "outputs": [
    {
     "data": {
      "text/plain": [
       "4.107877774019469"
      ]
     },
     "execution_count": 15,
     "metadata": {},
     "output_type": "execute_result"
    }
   ],
   "source": [
    "delta_hat"
   ]
  },
  {
   "cell_type": "markdown",
   "id": "25e14302-6542-4195-8937-bda53ef5b4fb",
   "metadata": {},
   "source": [
    "Test runned with one million simulations, the estimators seemed to be biased."
   ]
  },
  {
   "cell_type": "markdown",
   "id": "055d674f-ec0b-4bc5-b957-baf7044dceeb",
   "metadata": {},
   "source": [
    "def prior_lf_mc():\n",
    "    \"estimation monte carlo de la vraisemblance\n",
    "    "
   ]
  },
  {
   "cell_type": "markdown",
   "id": "e1b85d15-7401-4cb5-8047-6e0d3385de77",
   "metadata": {},
   "source": [
    "def smc_prc_abc(N=1000, epsilon_t):\n",
    "    \"\"\"Algorithme ABC de l'appendix A de l'article.\n",
    "\n",
    "\n",
    "    Parameters\n",
    "    ---------------------------\n",
    "    N : int\n",
    "    Nombre d'echantillons crees pour les parametres\n",
    "\n",
    "    epsilon_t : array\n",
    "    Les marges d'acceptation pour l'algorithme\n",
    "    \"\"\"\n",
    "    #les prior sont des uniformes cf partie 3.1\n",
    "    prior_alpha = np.random.uniform(1.1, 2., size=N)\n",
    "    prior_beta = np.random.uniform(-1., 1, size=N)\n",
    "    prior_gamma = np.random.uniform(0., 300., size=N)\n",
    "    prior_delta = np.random.uniform(-300., 300., size=N)\n",
    "    prior_gen = np.vstack((prior_alpha,prior_beta,prior_delta, prior_gamma))\n",
    "    \n",
    "    #the weights\n",
    "    \n",
    "\n",
    "    \n",
    "\n",
    "    "
   ]
  },
  {
   "cell_type": "code",
   "execution_count": 17,
   "id": "fdd2fdae-a55a-4d9d-abd9-f0783c636817",
   "metadata": {},
   "outputs": [],
   "source": [
    "a = np.array((1,2,3,4,5))"
   ]
  },
  {
   "cell_type": "code",
   "execution_count": 18,
   "id": "247416ed-cc2c-4b90-972b-3ce5697cdea9",
   "metadata": {},
   "outputs": [
    {
     "data": {
      "text/plain": [
       "array([1, 2, 3, 4, 5])"
      ]
     },
     "execution_count": 18,
     "metadata": {},
     "output_type": "execute_result"
    }
   ],
   "source": [
    "a"
   ]
  },
  {
   "cell_type": "code",
   "execution_count": 19,
   "id": "20105695-c735-4530-b130-1f22ecf7fd85",
   "metadata": {},
   "outputs": [],
   "source": [
    "b = np.array((5,4,3,2,1))"
   ]
  },
  {
   "cell_type": "code",
   "execution_count": 20,
   "id": "8a82e8a7-7712-4a15-bb1e-99e94ed16f39",
   "metadata": {},
   "outputs": [
    {
     "data": {
      "text/plain": [
       "array([0.2, 0.5, 1. , 2. , 5. ])"
      ]
     },
     "execution_count": 20,
     "metadata": {},
     "output_type": "execute_result"
    }
   ],
   "source": [
    "a/b"
   ]
  },
  {
   "cell_type": "code",
   "execution_count": 21,
   "id": "01481a25-6ea7-4cfd-a8f9-08449ebfc7eb",
   "metadata": {},
   "outputs": [],
   "source": [
    "c = np.array((5,1,3,2,4))"
   ]
  },
  {
   "cell_type": "code",
   "execution_count": 22,
   "id": "185e4219-6e92-456f-871d-fd047fddf603",
   "metadata": {},
   "outputs": [],
   "source": [
    "test = np.vstack((a,b,c))"
   ]
  },
  {
   "cell_type": "code",
   "execution_count": 23,
   "id": "1453d515-47b0-4811-8e18-04d363f980ca",
   "metadata": {},
   "outputs": [
    {
     "data": {
      "text/plain": [
       "array([[1, 2, 3, 4, 5],\n",
       "       [5, 4, 3, 2, 1],\n",
       "       [5, 1, 3, 2, 4]])"
      ]
     },
     "execution_count": 23,
     "metadata": {},
     "output_type": "execute_result"
    }
   ],
   "source": [
    "test"
   ]
  },
  {
   "cell_type": "code",
   "execution_count": 24,
   "id": "989a6737-135e-4e1b-b90e-6dcbcfdf5eb3",
   "metadata": {},
   "outputs": [
    {
     "data": {
      "text/plain": [
       "6.324555320336759"
      ]
     },
     "execution_count": 24,
     "metadata": {},
     "output_type": "execute_result"
    }
   ],
   "source": [
    "np.linalg.norm(a - b)"
   ]
  },
  {
   "cell_type": "code",
   "execution_count": null,
   "id": "c9407416-a8ea-4c87-ac03-b1f43190feda",
   "metadata": {},
   "outputs": [],
   "source": [
    "test[:,0]"
   ]
  },
  {
   "cell_type": "code",
   "execution_count": 50,
   "id": "e1973be9-93d3-436e-81dd-c9c0ba7b6a4b",
   "metadata": {},
   "outputs": [],
   "source": [
    "def accept_reject_abc(N=1000, epsilon_t=0.5, alpha=2, beta=0, gamma=1, delta=0):\n",
    "    \"\"\"algorithme d'acceptation rejet 'basique', vu en cours\n",
    "\n",
    "    Parameters\n",
    "    ---------------------------------\n",
    "    N : int\n",
    "    nombre de simulations faites\n",
    "\n",
    "    epsilon_t : array\n",
    "    scale parameters, marge d'acceptation\n",
    "\n",
    "    alpha, beta, gamma, delta :\n",
    "    parametres pour les simulations\n",
    "    -------------------------------\n",
    "    \"\"\"\n",
    "    data = generation(n=N, alpha=alpha, beta=beta, gamma=gamma, delta=delta)\n",
    "    #priors\n",
    "    prior_alpha = np.random.uniform(1.1, 2., size=5*N)\n",
    "    prior_beta = np.random.uniform(-1., 1, size=5*N)\n",
    "    prior_gamma = np.random.uniform(0., 300., size=5*N)\n",
    "    prior_delta = np.random.uniform(-300., 300., size=5*N)\n",
    "    prior_gen = np.vstack((prior_alpha,prior_beta,prior_delta, prior_gamma))\n",
    "    true_data_estim = zolotarev_transfo(sample=data, xi=0.15)\n",
    "    bon_param = np.array(())\n",
    "    alpha_test = 0\n",
    "    beta_test = 0\n",
    "    gamma_test = 0\n",
    "    delta_test = 0\n",
    "    for i in range(5*N):\n",
    "        proposed_data = generation(n=N, alpha=prior_gen[:,i][0],\n",
    "                                   beta=prior_gen[:,i][1],\n",
    "                                   delta=prior_gen[:,i][2],\n",
    "                                   gamma=prior_gen[:,i][3])\n",
    "        alpha_test = prior_gen[:,i][0]\n",
    "        beta_test = prior_gen[:,i][1]\n",
    "        gamma_test = prior_gen[:,i][2]\n",
    "        delta_test = prior_gen[:,i][3]\n",
    "        estimated = mc_culloch_q(proposed_data, gamma=prior_gen[:,i][3])\n",
    "        weights = gaussian_ker(estimated, true_data_estim)\n",
    "        if weights[0] and weights[1] and weights[2] and weights[3] < epsilon_t:\n",
    "            return alpha_test, beta_test, gamma_test, delta_test\n",
    "        else :\n",
    "            continue"
   ]
  },
  {
   "cell_type": "code",
   "execution_count": 51,
   "id": "9dfa5ee0-f0cd-4573-a61d-89e13c597667",
   "metadata": {},
   "outputs": [],
   "source": [
    "test_1 = accept_reject_abc(N=1000, epsilon_t=0.3)"
   ]
  },
  {
   "cell_type": "code",
   "execution_count": 52,
   "id": "24742030-7f09-4855-918a-c804701299c0",
   "metadata": {},
   "outputs": [
    {
     "name": "stdout",
     "output_type": "stream",
     "text": [
      "(1.4033620062901593, 0.813262090631643, -247.9279315952059, 257.3977994913487) 0.00011873245239257812\n"
     ]
    }
   ],
   "source": [
    "start = time.time()\n",
    "test_1\n",
    "end = time.time()\n",
    "print(test_1, end - start)"
   ]
  },
  {
   "cell_type": "code",
   "execution_count": null,
   "id": "a7d257a8-18ec-4763-8dc9-2f29ff30391f",
   "metadata": {},
   "outputs": [],
   "source": [
    "#avec une si petite distance ca ne marchait pas"
   ]
  },
  {
   "cell_type": "code",
   "execution_count": 56,
   "id": "37ebece8-6b21-4bce-94be-0c404f6bfa7d",
   "metadata": {
    "scrolled": true
   },
   "outputs": [
    {
     "name": "stdout",
     "output_type": "stream",
     "text": [
      "139.70867395401\n"
     ]
    }
   ],
   "source": [
    "start = time.time()\n",
    "liste_parametres = []\n",
    "for i in range(len(scale_param)):\n",
    "    pouet = accept_reject_abc(N=1000, epsilon_t=scale_param[-i], alpha=1, beta=0, gamma=1, delta=0)\n",
    "    intermediaire = [scale_param[-i], pouet]\n",
    "    liste_parametres.append(intermediaire)\n",
    "\n",
    "end = time.time()\n",
    "\n",
    "print(end - start)"
   ]
  },
  {
   "cell_type": "code",
   "execution_count": 57,
   "id": "c9e6db6a-f296-42a7-8257-a6415823e5be",
   "metadata": {},
   "outputs": [],
   "source": [
    "#must change the parameters, N must be 200, too long otherwise"
   ]
  },
  {
   "cell_type": "code",
   "execution_count": 58,
   "id": "e0c1dfe2-c3a1-47d3-99dc-74e293e713f3",
   "metadata": {
    "scrolled": true
   },
   "outputs": [
    {
     "data": {
      "text/plain": [
       "[[1000.0,\n",
       "  (1.988826864246049,\n",
       "   0.6132475309237018,\n",
       "   -93.22791502564576,\n",
       "   58.447200164146466)],\n",
       " [0.0, None],\n",
       " [0.01,\n",
       "  (1.4684996341178636,\n",
       "   -0.7412219101962036,\n",
       "   122.42222867419628,\n",
       "   126.14813594206862)],\n",
       " [0.02,\n",
       "  (1.870604107440861,\n",
       "   0.6497604115236333,\n",
       "   154.51824405428022,\n",
       "   24.616059984069206)],\n",
       " [0.03,\n",
       "  (1.8340380665196174,\n",
       "   0.37862484027523724,\n",
       "   -8.15669623463316,\n",
       "   14.570269832725224)],\n",
       " [0.04,\n",
       "  (1.74582468489793,\n",
       "   -0.5107989910414292,\n",
       "   151.58377154167664,\n",
       "   153.52932738070328)],\n",
       " [0.05, None],\n",
       " [0.06,\n",
       "  (1.2024700043167522,\n",
       "   -0.6867047550359855,\n",
       "   -252.35684172021462,\n",
       "   208.80614518427595)],\n",
       " [0.07,\n",
       "  (1.5616105928333066,\n",
       "   0.9968896016396838,\n",
       "   -198.05101519280288,\n",
       "   182.10408713751565)],\n",
       " [0.08,\n",
       "  (1.2440327687808899,\n",
       "   -0.43588127994348236,\n",
       "   -77.16277475752912,\n",
       "   139.38860924184374)],\n",
       " [0.09,\n",
       "  (1.3012346253032412,\n",
       "   -0.6427528632362818,\n",
       "   287.37851302440333,\n",
       "   36.20249918783189)],\n",
       " [0.1,\n",
       "  (1.8703490888709802,\n",
       "   0.5968283112536479,\n",
       "   62.84068958680484,\n",
       "   177.59479557081494)],\n",
       " [0.11,\n",
       "  (1.1216411250596172,\n",
       "   0.9402606052636959,\n",
       "   260.2406933994014,\n",
       "   24.74767738250757)],\n",
       " [0.12,\n",
       "  (1.4287267622265083,\n",
       "   0.8759273597409793,\n",
       "   284.91184213476606,\n",
       "   256.91679332175926)],\n",
       " [0.13,\n",
       "  (1.33702358990595,\n",
       "   -0.947632349698889,\n",
       "   -277.95324391834856,\n",
       "   229.76022263879904)],\n",
       " [0.14, None],\n",
       " [0.15,\n",
       "  (1.8194846220728804,\n",
       "   -0.8090367182601186,\n",
       "   -61.36123995568357,\n",
       "   136.2550880143193)],\n",
       " [0.16,\n",
       "  (1.7525249046349665,\n",
       "   -0.7447898088704707,\n",
       "   152.92893272332992,\n",
       "   161.2462516005951)],\n",
       " [0.17,\n",
       "  (1.7123311477882814,\n",
       "   0.10123212201973808,\n",
       "   -281.7306578606178,\n",
       "   136.16459114135807)],\n",
       " [0.18,\n",
       "  (1.3275482210051965,\n",
       "   0.08878119722485356,\n",
       "   96.1554470335426,\n",
       "   183.6827120286599)],\n",
       " [0.19,\n",
       "  (1.1277112475987408,\n",
       "   -0.5305290967201843,\n",
       "   -146.563925476113,\n",
       "   76.99069903697469)],\n",
       " [0.2,\n",
       "  (1.282627848679999,\n",
       "   0.7198507814891204,\n",
       "   190.31234988644547,\n",
       "   6.14273096373914)],\n",
       " [0.21,\n",
       "  (1.6409610938452386,\n",
       "   0.899461447861494,\n",
       "   219.38656482917747,\n",
       "   270.0777757698506)],\n",
       " [0.22,\n",
       "  (1.7498322284967534,\n",
       "   -0.9317793947476436,\n",
       "   49.61095465694228,\n",
       "   263.5263603831081)],\n",
       " [0.23,\n",
       "  (1.2060023583031438,\n",
       "   0.15697090012521664,\n",
       "   -79.91143016265963,\n",
       "   51.82939745541593)],\n",
       " [0.24,\n",
       "  (1.8704478736110168,\n",
       "   0.2729717496366941,\n",
       "   147.3390257292055,\n",
       "   17.828123385070647)],\n",
       " [0.25,\n",
       "  (1.1311357547788456,\n",
       "   0.8992097846694171,\n",
       "   95.37544293038911,\n",
       "   220.89130533050684)],\n",
       " [0.26,\n",
       "  (1.6207250366527806,\n",
       "   -0.3423738201798967,\n",
       "   293.6317612865562,\n",
       "   218.58790282165654)],\n",
       " [0.27,\n",
       "  (1.5998997214762412,\n",
       "   -0.5173671297709961,\n",
       "   -249.67794407970536,\n",
       "   51.66612507053281)],\n",
       " [0.28,\n",
       "  (1.8407204452192762,\n",
       "   -0.6074088894049334,\n",
       "   59.86098567713299,\n",
       "   296.70057534326844)],\n",
       " [0.29,\n",
       "  (1.7697315196887535,\n",
       "   -0.5594959457229927,\n",
       "   -154.53827063116043,\n",
       "   79.4411110628513)],\n",
       " [0.3,\n",
       "  (1.3163579615202132,\n",
       "   0.5835989156000041,\n",
       "   52.88413226533521,\n",
       "   190.46308062723762)],\n",
       " [0.31,\n",
       "  (1.654038411993361,\n",
       "   0.36901448480215127,\n",
       "   -245.9266961280303,\n",
       "   142.98092949842413)],\n",
       " [0.32,\n",
       "  (1.1515579508687157,\n",
       "   -0.21570138210062328,\n",
       "   -181.29419210641294,\n",
       "   297.82812343168814)],\n",
       " [0.33,\n",
       "  (1.2434321250227112,\n",
       "   0.20553234817612598,\n",
       "   -170.2639923015946,\n",
       "   25.648313732472594)],\n",
       " [0.34,\n",
       "  (1.1188103986712057,\n",
       "   -0.41696373055543967,\n",
       "   277.46861924527775,\n",
       "   84.35117015583018)],\n",
       " [0.35000000000000003,\n",
       "  (1.948723822514912,\n",
       "   0.10536627747250393,\n",
       "   141.88242317186683,\n",
       "   151.2000357710269)],\n",
       " [0.36,\n",
       "  (1.9510439881652228,\n",
       "   0.40637398614841214,\n",
       "   -94.84582168978466,\n",
       "   81.00898255974619)],\n",
       " [0.37,\n",
       "  (1.4999366806259353,\n",
       "   0.8762221649152677,\n",
       "   -252.28876618572824,\n",
       "   62.92173848735744)],\n",
       " [0.38,\n",
       "  (1.1757483872482752,\n",
       "   0.02123513376200803,\n",
       "   119.41373408327678,\n",
       "   118.69005836240606)],\n",
       " [0.39,\n",
       "  (1.931763170890148,\n",
       "   0.8744453839023472,\n",
       "   -276.61764461415646,\n",
       "   242.7414853505542)],\n",
       " [0.4,\n",
       "  (1.7380346786366725,\n",
       "   -0.3431684210266146,\n",
       "   269.22106398383414,\n",
       "   126.51119144669678)],\n",
       " [0.41000000000000003,\n",
       "  (1.3087330937333261,\n",
       "   -0.4439565957496814,\n",
       "   -130.7239656329807,\n",
       "   265.5493509705831)],\n",
       " [0.42,\n",
       "  (1.6164572478356918,\n",
       "   0.04989959419703838,\n",
       "   -264.6014202790581,\n",
       "   185.54728805050314)],\n",
       " [0.43,\n",
       "  (1.6039493041665422,\n",
       "   -0.04307376334006796,\n",
       "   -195.27671108177572,\n",
       "   82.39383334633445)],\n",
       " [0.44,\n",
       "  (1.7806623674968818,\n",
       "   0.5885518734340991,\n",
       "   211.0044029974958,\n",
       "   85.00486663107166)],\n",
       " [0.45,\n",
       "  (1.379390132062477,\n",
       "   0.15936206948026466,\n",
       "   10.476223397643821,\n",
       "   258.4814636596292)],\n",
       " [0.46,\n",
       "  (1.145038703813364,\n",
       "   0.5447094138203927,\n",
       "   74.51613774226553,\n",
       "   106.11259007518623)],\n",
       " [0.47000000000000003,\n",
       "  (1.6610112639104964,\n",
       "   0.6632234218572857,\n",
       "   -196.56861097749612,\n",
       "   78.37596760093687)],\n",
       " [0.48,\n",
       "  (1.7454741586975056,\n",
       "   0.5407434301988754,\n",
       "   -60.3314292308269,\n",
       "   198.83625655283848)]]"
      ]
     },
     "execution_count": 58,
     "metadata": {},
     "output_type": "execute_result"
    }
   ],
   "source": [
    "liste_parametres[:50]"
   ]
  },
  {
   "cell_type": "code",
   "execution_count": null,
   "id": "953a19d0-b5ed-401a-bea8-c2f3335819ee",
   "metadata": {},
   "outputs": [],
   "source": [
    "#not working very well, new distance needed"
   ]
  },
  {
   "cell_type": "code",
   "execution_count": null,
   "id": "b9a6f8ea-8e3b-446b-a198-74f37928df09",
   "metadata": {},
   "outputs": [],
   "source": [
    "#Works probably, pb : wrong use of mc culloch quantiles, need to invert --> pb , how"
   ]
  },
  {
   "cell_type": "code",
   "execution_count": null,
   "id": "f570db26-af35-41e2-bebf-39b8e6d1f529",
   "metadata": {},
   "outputs": [],
   "source": []
  }
 ],
 "metadata": {
  "kernelspec": {
   "display_name": "Python 3 (ipykernel)",
   "language": "python",
   "name": "python3"
  },
  "language_info": {
   "codemirror_mode": {
    "name": "ipython",
    "version": 3
   },
   "file_extension": ".py",
   "mimetype": "text/x-python",
   "name": "python",
   "nbconvert_exporter": "python",
   "pygments_lexer": "ipython3",
   "version": "3.11.6"
  }
 },
 "nbformat": 4,
 "nbformat_minor": 5
}
