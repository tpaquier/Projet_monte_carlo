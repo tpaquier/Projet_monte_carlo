{
 "cells": [
  {
   "cell_type": "code",
   "execution_count": 1,
   "metadata": {},
   "outputs": [],
   "source": [
    "import matplotlib.pyplot as plt\n",
    "import numpy as np\n",
    "import pandas as pd\n",
    "from scipy.integrate import quad"
   ]
  },
  {
   "cell_type": "code",
   "execution_count": 2,
   "metadata": {},
   "outputs": [],
   "source": [
    "def generation(n, alpha=1.7, beta=0.9, gamma=10, delta=10):\n",
    "    # Initialize samples array with zeros\n",
    "    sample = np.zeros(n)\n",
    "    # Constants that do not depend on the sample index and thus can be computed once\n",
    "    if alpha != 1:\n",
    "        S_alpha_beta = (1 + beta ** 2 * np.tan(np.pi * alpha / 2) ** 2) ** (1 / (2 * alpha))\n",
    "        B_alpha_beta = (1 / alpha) * np.arctan(beta * np.tan(np.pi * alpha / 2))\n",
    "\n",
    "    for i in range(n):\n",
    "        U = np.random.uniform(-np.pi/2, np.pi/2)\n",
    "        W = -np.log(1 - np.random.uniform(0,1))\n",
    "        \n",
    "        # Handle the case alpha = 1 separately\n",
    "        if alpha != 1:\n",
    "            part1 = np.sin(alpha * (U + B_alpha_beta)) / (np.cos(U) ** (1 / alpha))\n",
    "            part2 = (np.cos(U - alpha * (U + B_alpha_beta)) / W) ** ((1 - alpha) / alpha)\n",
    "            sample[i] = S_alpha_beta * part1 * part2\n",
    "        else:\n",
    "            sample[i] = (2 / np.pi) * ((np.pi / 2 + beta * U) * np.tan(U) - beta * np.log((np.pi / 2 * W * np.cos(U))/(np.pi+beta*U)))\n",
    "\n",
    "    # Apply scaling and location shifting\n",
    "    sample = gamma * sample + delta\n",
    "    return sample"
   ]
  },
  {
   "cell_type": "code",
   "execution_count": 3,
   "metadata": {},
   "outputs": [],
   "source": [
    "default = generation(1000)"
   ]
  },
  {
   "cell_type": "markdown",
   "metadata": {},
   "source": [
    "## ABC setting"
   ]
  },
  {
   "cell_type": "code",
   "execution_count": 4,
   "metadata": {},
   "outputs": [],
   "source": [
    "pi_theta = 1/32400\n",
    "\n",
    "def pi_lf(epsilon_t, sample=default, alpha=1.7, beta=0.9, gamma=10, delta=10, possession=False):\n",
    "    \"\"\"function to have the likelihood free density given in the article, the data we create if there is\n",
    "    no data provided is based on the parameters of 'generation', so for any comparaison between the values of theta,\n",
    "    those are the parameters to change\n",
    "\n",
    "    Parameters\n",
    "    -----------------\n",
    "    N : int\n",
    "    number of priors we want to generate\n",
    "        \n",
    "    alpha, beta, gamma, delta : int, float\n",
    "    the parameters with which we want to compute the true data if we don't already have it\n",
    "\n",
    "\n",
    "    sample : array-like\n",
    "    the data we observe\n",
    "\n",
    "    summary_statistic : array-like\n",
    "    summary statistic used to make tests on the distance between two datasets\n",
    "\n",
    "    epsilon_t : int, float\n",
    "    scale parameter, determines \n",
    "\n",
    "    Possession : boolean\n",
    "    by default, set to false, to determine if we want to generate the data or if we already have it\n",
    "\n",
    "    method : str\n",
    "    the method with which we would compute the summary statistics\n",
    "    -------------------\n",
    "    \"\"\"\n",
    "    if possession == False :\n",
    "        data = generation(n=1000)\n",
    "    else :\n",
    "        data = sample\n",
    "    true_param = zolotarev_transfo(sample=data)\n",
    "    proposal = generation(n=1000, alpha=alpha, beta=beta, gamma=gamma, delta=delta)\n",
    "    zolo_proposal = zolotarev_transfo(sample=proposal)\n",
    "    weight = gaussian_ker(u=np.linalg.norm(true_param-zolo_proposal), epsilon=epsilon_t)\n",
    "    pi_lf = weight*pi_theta\n",
    "\n",
    "\n",
    "    normalization_constant, _ = quad(custom_integrand, 0, np.inf, args=(epsilon_t,))\n",
    "\n",
    "\n",
    "    pi_lf = pi_lf / normalization_constant\n",
    "\n",
    "    return pi_lf"
   ]
  },
  {
   "cell_type": "code",
   "execution_count": 5,
   "metadata": {},
   "outputs": [],
   "source": [
    "def gaussian_ker(u=0, y=0, epsilon=1):\n",
    "    \"\"\"gaussian kernel for weights\n",
    "    \n",
    "    Parameters\n",
    "    -------------------\n",
    "    y : float, or array-like\n",
    "    the point we have, the output\n",
    "\n",
    "    u : float, or array-like\n",
    "    the point from which we want to calculate a weight\n",
    "\n",
    "    epsilon : int, float\n",
    "    the scale parameter for which we want to compute the kernel\n",
    "    ----------\n",
    "    \"\"\"\n",
    "\n",
    "    w = (1/np.sqrt(2*np.pi*(epsilon**2)))*np.exp(-(np.abs((u-y)))**2/(2*(epsilon**2)))\n",
    "    return w"
   ]
  },
  {
   "cell_type": "markdown",
   "metadata": {},
   "source": [
    "## Summary stats : construction"
   ]
  },
  {
   "cell_type": "markdown",
   "metadata": {},
   "source": [
    "#### S1 McCulloch"
   ]
  },
  {
   "cell_type": "code",
   "execution_count": 6,
   "metadata": {},
   "outputs": [],
   "source": [
    "def mc_culloch_q(data, gamma=1):\n",
    "    \"\"\"fonction pour calculer les quantiles de mc_culloch utilises dans le papier\n",
    "\n",
    "    Parameters\n",
    "    --------------\n",
    "    data : array\n",
    "    les donnes pour lesquelles on veut calculer les quantiles\n",
    "\n",
    "    gamma : float\n",
    "    valeur 1 par defaut, d'apres le papier, on utilise le gamma utilise pour faire les simulations\n",
    "    ----------------\n",
    "    \"\"\"\n",
    "    data_sorted = np.sort(data)\n",
    "    useful_quantiles = np.quantile(a=data_sorted, q=[0.95, 0.75, 0.5, 0.25, 0.05])\n",
    "    q_95 = useful_quantiles[0]\n",
    "    q_75 = useful_quantiles[1]\n",
    "    q_50 = useful_quantiles[2]\n",
    "    q_25 = useful_quantiles[3]\n",
    "    q_05 = useful_quantiles[4]\n",
    "    alpha_hat = (q_95-q_05)/(q_75-q_25)\n",
    "    beta_hat = (q_95+q_05+2*q_50)/(q_95-q_05)\n",
    "    gamma_hat = (q_75-q_25)/gamma\n",
    "    #on a le gamma au denominateur parce que c'est comme ca qu on a genere nos donnees\n",
    "    #d'apres le papier, ca va de prendre le gamma qu'on a utililse pour generer\n",
    "    delta_hat = np.mean(data_sorted)\n",
    "    S_1 = np.transpose(np.array((alpha_hat, beta_hat, gamma_hat, delta_hat)))\n",
    "    return S_1"
   ]
  },
  {
   "cell_type": "markdown",
   "metadata": {},
   "source": [
    "#### S2 Zolotarev"
   ]
  },
  {
   "cell_type": "code",
   "execution_count": 7,
   "metadata": {},
   "outputs": [],
   "source": [
    "def zolotarev_transfo(sample, xi=0.25):\n",
    "    \"\"\"function to use for the estimation based on the zolotarev transformation\n",
    "\n",
    "    Parameters\n",
    "    --------------------------\n",
    "    Sample : array-like\n",
    "    Sample to do the transformation on\n",
    "\n",
    "    xi : int, float\n",
    "    The constant used in the transformation\n",
    "    --------------------------\n",
    "    \"\"\"\n",
    "    if xi<=0 or xi>1/2 :\n",
    "        raise ValueError('Xi must be between 0 and 1/2')\n",
    "    taille = len(sample)\n",
    "    Z = []\n",
    "    for i in range(int(taille/3)):\n",
    "        transfo = sample[3*i-2] - xi*sample[3*i-1] - (1 - xi)*sample[3*i]\n",
    "        Z.append(transfo)\n",
    "    V = []\n",
    "    U = []\n",
    "    for i in range(len(Z)):\n",
    "        V.append(np.log(np.abs(Z[i])))\n",
    "        U.append(np.sign(sample[i]))\n",
    "    V = np.array(V)\n",
    "    U = np.array(U)\n",
    "    S_U_squared = (np.std(U))**2\n",
    "    S_V_squared = (np.std(V))**2\n",
    "    nu_tilde = (6/(np.pi)**2)*S_V_squared - (3/2)*S_U_squared + 1\n",
    "    etha_hat = np.mean(U)\n",
    "    tau_hat = np.mean(V)\n",
    "    nu_hat = 0\n",
    "    if nu_tilde > ((1+np.abs(etha_hat))**2)/4:\n",
    "        nu_hat = nu_tilde\n",
    "    else:\n",
    "        nu_hat = ((1+np.abs(etha_hat))**2)/4\n",
    "    delta_hat = np.mean(sample)\n",
    "    S_2 = np.array((nu_hat, etha_hat, tau_hat, delta_hat))\n",
    "    return S_2"
   ]
  },
  {
   "cell_type": "code",
   "execution_count": 8,
   "metadata": {},
   "outputs": [],
   "source": [
    "def char_fun_zolo(t, nu, etha, tau):\n",
    "    \"\"\"characteristic function to use from S2 to S5\n",
    "\n",
    "    Parameters\n",
    "    ----------------------------\n",
    "    t : float\n",
    "    the \"instant\" we want to check\n",
    "\n",
    "    nu : float\n",
    "    parameter of the alpha-stable distribution, >= 1/4.\n",
    "\n",
    "    etha :float\n",
    "    parameter of the alpha-stable distribution, np.sign(etha) <= min(1, 2*np.sqrt(nu)-1)\n",
    "\n",
    "    tau : float\n",
    "    parameter of the alpha-stable distribution, absolute value < inf\n",
    "    ------------------------------\n",
    "    \"\"\"\n",
    "\n",
    "    y = -np.exp((nu**(-1/2))*(np.log(np.abs(t)) + tau - 1j*(np.pi/2)*etha*np.sign(t)) + np.e*((nu**(-1/2))-1))\n",
    "    return y\n",
    "\n"
   ]
  },
  {
   "cell_type": "markdown",
   "metadata": {},
   "source": [
    "#### S3 Press moments"
   ]
  },
  {
   "cell_type": "code",
   "execution_count": 9,
   "metadata": {},
   "outputs": [],
   "source": [
    "def u_hat(x, t):\n",
    "    \"\"\"function to use to calculate presss moments\n",
    "\n",
    "    Parameters\n",
    "    ---------------\n",
    "    x : array-like\n",
    "\n",
    "    the data\n",
    "\n",
    "    t : int, float\n",
    "    the real number we want to know the image by the function\n",
    "    ---------------\n",
    "    \"\"\"\n",
    "\n",
    "    y = np.arctan(np.sum(np.cos(t*x))/np.sum(np.sin(t*x)))\n",
    "    return y"
   ]
  },
  {
   "cell_type": "code",
   "execution_count": 10,
   "metadata": {},
   "outputs": [],
   "source": [
    "def presss_moments(sample, alpha=1.7, beta=0, gamma=10, delta=10,\n",
    "                   t_1=0.2, t_2=0.8, t_3=0.1, t_4=0.4):\n",
    "    \"\"\"function to calculate press's moments\n",
    "\n",
    "    Parameters\n",
    "    ----------------\n",
    "\n",
    "    sample : array-like\n",
    "    the data\n",
    "\n",
    "    alpha, beta, gamma, delta : int, float\n",
    "    parameters we used to simulate the data (?)\n",
    "\n",
    "    t_1 : int, float\n",
    "    t_2 : int, float\n",
    "    t_3 : int, float\n",
    "    t_4 : int, float\n",
    "    moments we want to evaluate, the default parameters are given by Koutrouvelis (1980)\n",
    "    ---------------\n",
    "    \"\"\"\n",
    "    \n",
    "    #estimation of characteristic function at different moments\n",
    "    transfo_1 = th_char_fun(t=t_1, beta=beta)\n",
    "    transfo_2 = th_char_fun(t=t_2, beta=beta)\n",
    "    transfo_3 = th_char_fun(t=t_3, beta=beta)\n",
    "    transfo_4 = th_char_fun(t=t_4, beta=beta)\n",
    "    log_gamma_hat_top = (np.log(np.abs(t_1))*np.log(-np.log(np.abs(transfo_2)))-np.log(np.abs(t_2))*np.log(-np.log(np.abs(transfo_1))))\n",
    "    log_gamma_hat = log_gamma_hat_top/np.log(np.abs(t_1/t_2))\n",
    "    alpha_hat = np.log(np.log(np.abs(transfo_1))/np.log(np.abs(transfo_2)))/np.log(np.abs(t_1/t_2))\n",
    "    beta_hat_top = ((u_hat(x=sample, t=t_4)/t_4)-(u_hat(x=sample, t=t_3)/t_3))\n",
    "    beta_hat_bot = ((np.abs(t_4)**(alpha_hat-1))-(np.abs(t_3)**(alpha_hat-1)))*((np.exp(log_gamma_hat))**alpha_hat)*np.tan((alpha_hat*np.pi)/2)\n",
    "    beta_hat = beta_hat_top/beta_hat_bot\n",
    "    delta_hat_top = (((np.abs(t_4))**(alpha_hat-1))*u_hat(x=sample, t=t_3)/t_3)-((((np.abs(t_3))**(alpha_hat-1))*u_hat(x=sample,t=t_4))/t_4)\n",
    "    delta_hat_bot = (np.abs(t_4)**(alpha_hat-1)) - (np.abs(t_3)**(alpha_hat-1))\n",
    "    delta_hat = delta_hat_top/delta_hat_bot\n",
    "    y = np.array((alpha_hat, beta_hat, np.exp(log_gamma_hat), delta_hat))\n",
    "    return y    "
   ]
  },
  {
   "cell_type": "markdown",
   "metadata": {},
   "source": [
    "#### S4 : empirical characteristic function"
   ]
  },
  {
   "cell_type": "code",
   "execution_count": 11,
   "metadata": {},
   "outputs": [],
   "source": [
    "def emp_char_fun(sample, t):\n",
    "    \"\"\"function to evaluate the empirical characteristic of a function at an instant t\n",
    "\n",
    "    Parameters\n",
    "    -------------------------\n",
    "    sample : array-like\n",
    "    sample on which we want to evaluate the characteristic function\n",
    "\n",
    "    t : int, float\n",
    "    moment to estimate/generate\n",
    "    --------------------------\n",
    "    \"\"\"\n",
    "    expo_transfo = np.exp(-sample*1j*t)\n",
    "    empirical = np.mean(expo_transfo)\n",
    "    return empirical\n",
    "\n",
    "def th_char_fun(t, alpha=1.7, beta=0.9, gamma=10, delta=10):\n",
    "    \"\"\"characteristic function used in the paper\n",
    "\n",
    "    Parameters\n",
    "    --------------------------------\n",
    "    t : float, array-like\n",
    "    value or values for which we would like to compute the characteristic function, instants/moments\n",
    "\n",
    "    alpha, beta, gamma, delta : float\n",
    "    the parameters of our distribution\n",
    "    ---------------------------------\n",
    "    \"\"\"\n",
    "    if alpha == 1:\n",
    "        y=np.exp(1j*delta*t-gamma*np.abs(t)*(1+1j*beta*(2/np.pi)*np.sign(t)*np.log(gamma*np.abs(t))))\n",
    "    else :\n",
    "        y=np.exp(1j*delta*t-gamma*np.abs(t)*(1+1j*beta*np.tan(np.pi*alpha/2)*np.sign(t)*((np.abs(gamma*t)**(1-alpha))-1)))\n",
    "\n",
    "    return y"
   ]
  },
  {
   "cell_type": "code",
   "execution_count": 12,
   "metadata": {},
   "outputs": [],
   "source": [
    "grid = np.arange(-5, 5.5, 0.5)\n",
    "\n",
    "def emp_charac_sampler(sample, t=grid):\n",
    "    \"\"\"A function to compute the S4 statistics from the article.\n",
    "\n",
    "    Parameters\n",
    "    -------------------\n",
    "    sample : array-like\n",
    "        Data generated given a certain theta (alpha, beta, gamma, delta).\n",
    "\n",
    "    t : array-like\n",
    "        Grid used for the empirical characteristic function.\n",
    "\n",
    "    Returns\n",
    "    -------------------\n",
    "    S4 : array-like\n",
    "        S4 statistics computed using the empirical characteristic function.\n",
    "    \"\"\"\n",
    "    \n",
    "    median = np.median(sample)\n",
    "    centered_sample = sample - median\n",
    "    \n",
    "    iqr_half = 0.5 * (np.percentile(sample, 75) - np.percentile(sample, 25))\n",
    "    scaled_sample = centered_sample / iqr_half\n",
    "    \n",
    "    def empirical_characteristic_function(t, data):\n",
    "        return np.mean(np.exp(1j * t * data))\n",
    "    \n",
    "    S4 = [empirical_characteristic_function(ti, scaled_sample) for ti in t]\n",
    "    \n",
    "    return S4    "
   ]
  },
  {
   "cell_type": "markdown",
   "metadata": {},
   "source": [
    "#### S5 Kolmogorov Smirnov"
   ]
  },
  {
   "cell_type": "code",
   "execution_count": 13,
   "metadata": {},
   "outputs": [],
   "source": [
    "def emp_cdf(sample,t):\n",
    "    \"\"\"a function made to calculate the empirical cumulative distribution function\n",
    "\n",
    "    Parameters\n",
    "    ------------------\n",
    "    sample : array-like\n",
    "    data, generated or observed\n",
    "\n",
    "    t : int, float\n",
    "    the argument in which we want to evaluate the empirical cdf\n",
    "    ------------------\n",
    "    \"\"\"\n",
    "    result = 0\n",
    "    sorted_sample = np.sort(sample)\n",
    "    for i in sorted_sample:\n",
    "        if i<=t:\n",
    "            result += 1/len(sample)\n",
    "    return result"
   ]
  },
  {
   "cell_type": "code",
   "execution_count": 14,
   "metadata": {},
   "outputs": [],
   "source": [
    "def kolmogorov_smirnov(sample,proposal,q_1=0.25,q_2=0.75):\n",
    "    \"\"\"a function to get the S_5 statistic from the article\n",
    "\n",
    "    Parameters\n",
    "    ---------------\n",
    "    sample : array-like\n",
    "    the observed data about which we want to see if we are close or not \n",
    "\n",
    "    proposal : array-like\n",
    "    the proposal X, simulated from parameters, to see if it fits\n",
    "\n",
    "    q_1,q_2 : float\n",
    "    must be between 0 and 1, values to give to have a certain quantile in the summary statistics\n",
    "    ---------------\n",
    "    \"\"\"\n",
    "    if (0<q_1<1 and 0<q_2<1) == False :\n",
    "        raise ValueError('q_1 and q_2 must be between 0 and 1')\n",
    "    KS = 0\n",
    "    z = np.linspace(start=-400, stop=400, num=100000)\n",
    "    for i in z:\n",
    "        interm = np.abs(emp_cdf(sample,i)-emp_cdf(proposal,i))\n",
    "        if interm>KS:\n",
    "            KS=interm\n",
    "    quantiles = np.quantile(a=proposal, q=[q_1, q_2])\n",
    "    mean_sample = np.mean(proposal)\n",
    "    return np.array((mean_sample, quantiles[0], quantiles[1], KS))\n",
    "    "
   ]
  },
  {
   "cell_type": "markdown",
   "metadata": {},
   "source": [
    "## MCMC"
   ]
  },
  {
   "cell_type": "code",
   "execution_count": 15,
   "metadata": {},
   "outputs": [],
   "source": [
    "def transition_kernel(theta_current, epsilon=1, Sigma = np.eye(4)):\n",
    "    \"\"\"\n",
    "    Gaussian transition kernel q(theta'|theta)\n",
    "    \n",
    "    Parameters:\n",
    "        theta_current (array_like): current parameters\n",
    "        epsilon (float): scale parameter\n",
    "    \n",
    "    Returns:\n",
    "        theta_proposed (array_like): proposed parameters.\n",
    "    \"\"\"\n",
    "    noise = np.random.normal(0, epsilon, size=theta_current.shape)\n",
    "    noise = np.random.multivariate_normal(mean=np.zeros_like(theta_current), cov=Sigma)\n",
    "    theta_proposed = theta_current + noise\n",
    "    \n",
    "    return theta_proposed\n",
    "\n",
    "proposal = transition_kernel(np.array([1, 2, 3, 4]), epsilon=0.1)"
   ]
  },
  {
   "cell_type": "code",
   "execution_count": 16,
   "metadata": {},
   "outputs": [],
   "source": [
    "mille = np.linspace(start=100, stop=1000, endpoint=True, num=10)[::-1]\n",
    "cent = np.linspace(start=10, stop=100, endpoint=False, num=90)[::-1]\n",
    "dix = np.linspace(start=5, stop=10, endpoint=False, num=10)[::-1]\n",
    "cinq = np.linspace(start=3, stop=5, endpoint=False, num=40)[::-1]\n",
    "trois = np.linspace(start=0, stop=3, endpoint=False, num=300)\n",
    "trois = np.delete(arr=trois, obj=0)\n",
    "trois = trois[::-1]\n",
    "\n",
    "epsilon_planning = np.concatenate((mille, cent, dix, cinq, trois))"
   ]
  },
  {
   "cell_type": "code",
   "execution_count": 17,
   "metadata": {},
   "outputs": [],
   "source": [
    "def mcmc(D, length=100, n = 1000 , c = 1,  alpha=1.7, beta=0.9, gamma=10, delta=10, method='emp_char', true_gamma = 10,var_alpha = 0.05, var_beta = 0.05, var_gamma = 3, var_delta = 4):\n",
    "    \"\"\"MCMC without likelihood algorithm, Marjoram et al, 2003\n",
    "\n",
    "    Parameters\n",
    "    ---------------------------------\n",
    "    D : array-like\n",
    "    data set considered\n",
    "\n",
    "    length : int\n",
    "    length of chain\n",
    "\n",
    "    c : float\n",
    "    scale parameter for the kernel\n",
    "\n",
    "    alpha, beta, gamma, delta : float\n",
    "    parameters proposal for the start of the chain\n",
    "\n",
    "    var_alpha, var_beta, var_gamma, var_delta : float\n",
    "    variance for the transition kernel\n",
    "    In appendix A, they propose to use 0.25 for the first two and 1 for the last two. \n",
    "    However it varies too much for the first two parameters, and too little for the last two. \n",
    "    We propose 0.01, 0.01, 2, 4\n",
    "    It is to note that if one considers that one of the parameters he proposes is very close to the true value, he can lower the variance for this parameter\n",
    "    \"\"\"\n",
    "    Sigma = np.diag([var_alpha, var_beta, var_gamma, var_delta])\n",
    "    theta_current = np.array([alpha, beta, gamma, delta])\n",
    "    theta_proposed = theta_current #initialization\n",
    "    \n",
    "    chain = [theta_current]\n",
    "    accept_count = 0\n",
    "    t = 0\n",
    "    \n",
    "    if method == 'emp_char':\n",
    "        true_summary_stats = emp_charac_sampler(sample=D)\n",
    "\n",
    "    elif method == 'zolotarev':\n",
    "        true_summary_stats = zolotarev_transfo(sample=D, xi=0.15)\n",
    "\n",
    "    elif method == 'mcculloch':\n",
    "        true_summary_stats = mc_culloch_q(data=D, gamma = true_gamma)\n",
    "\n",
    "    elif method == 'press':\n",
    "        true_summary_stats = presss_moments(sample=D)\n",
    "\n",
    "\n",
    "    for i in range(1, length):\n",
    "        \n",
    "        theta_proposed = transition_kernel(theta_current, c, Sigma)        \n",
    "    \n",
    "        if theta_proposed[0] < 0 or theta_proposed[0] > 2 or theta_proposed[1] < -1 or theta_proposed[1] > 1 or theta_proposed[2] <= 0 : #disregarding the case where the parameters are not in the domain\n",
    "            continue\n",
    "\n",
    "        data_proposed = generation(n, alpha=theta_proposed[0], beta=theta_proposed[1], gamma=theta_proposed[2], delta=theta_proposed[3])\n",
    "        \n",
    "        if method == 'emp_char':\n",
    "            estimated_summary_stats = emp_char_sampler(sample=data_proposed, t=instants[i])\n",
    "        \n",
    "        elif method == 'zolotarev':\n",
    "            estimated_summary_stats = zolotarev_transfo(sample=data_proposed, xi=0.15)\n",
    "\n",
    "        elif method == 'mcculloch':\n",
    "            estimated_summary_stats = mc_culloch_q(data=data_proposed, gamma = true_gamma)\n",
    "\n",
    "        elif method == 'press':\n",
    "            estimated_summary_stats = presss_moments(sample=data_proposed)\n",
    "        \n",
    "\n",
    "        if np.linalg.norm(estimated_summary_stats-true_summary_stats) < epsilon_planning[t]:\n",
    "            accept_count += 1\n",
    "            t+=1\n",
    "            theta_current = theta_proposed\n",
    "            chain.append(theta_current)\n",
    "            accept_count += 1\n",
    "            t+=1\n",
    "            theta_current = theta_proposed\n",
    "        \n",
    "            chain.append(theta_current)\n",
    "\n",
    "    return chain, accept_count / length\n"
   ]
  },
  {
   "cell_type": "code",
   "execution_count": 18,
   "metadata": {},
   "outputs": [],
   "source": [
    "true_alpha, true_beta, true_gamma, true_delta = 1.7, 0.9, 10, 10\n",
    "data = generation(100000, true_alpha, true_beta, true_gamma, true_delta)"
   ]
  },
  {
   "cell_type": "code",
   "execution_count": 19,
   "metadata": {},
   "outputs": [
    {
     "name": "stderr",
     "output_type": "stream",
     "text": [
      "C:\\Users\\mathi\\AppData\\Local\\Temp\\ipykernel_1992\\2095633051.py:23: RuntimeWarning: divide by zero encountered in log\n",
      "  V.append(np.log(np.abs(Z[i])))\n",
      "C:\\Users\\mathi\\AppData\\Local\\Packages\\PythonSoftwareFoundation.Python.3.12_qbz5n2kfra8p0\\LocalCache\\local-packages\\Python312\\site-packages\\numpy\\core\\_methods.py:173: RuntimeWarning: invalid value encountered in subtract\n",
      "  x = asanyarray(arr - arrmean)\n"
     ]
    },
    {
     "name": "stdout",
     "output_type": "stream",
     "text": [
      "Acceptance rate is 7.3999999999999995 % \n",
      "Last theta estimate: [  0.80347448  -0.87389258   4.48144966 266.44194768]\n",
      "Acceptance rate is 13.600000000000001 % \n",
      "Last theta estimate: [ 0.82814972 -0.05622422 44.6758892  36.98479915]\n"
     ]
    },
    {
     "name": "stderr",
     "output_type": "stream",
     "text": [
      "C:\\Users\\mathi\\AppData\\Local\\Temp\\ipykernel_1992\\1613893815.py:15: RuntimeWarning: divide by zero encountered in scalar divide\n",
      "  part1 = np.sin(alpha * (U + B_alpha_beta)) / (np.cos(U) ** (1 / alpha))\n",
      "C:\\Users\\mathi\\AppData\\Local\\Packages\\PythonSoftwareFoundation.Python.3.12_qbz5n2kfra8p0\\LocalCache\\local-packages\\Python312\\site-packages\\numpy\\core\\_methods.py:152: RuntimeWarning: invalid value encountered in reduce\n",
      "  arrmean = umr_sum(arr, axis, dtype, keepdims=True, where=where)\n",
      "C:\\Users\\mathi\\AppData\\Local\\Packages\\PythonSoftwareFoundation.Python.3.12_qbz5n2kfra8p0\\LocalCache\\local-packages\\Python312\\site-packages\\numpy\\core\\_methods.py:118: RuntimeWarning: invalid value encountered in reduce\n",
      "  ret = umr_sum(arr, axis, dtype, out, keepdims, where=where)\n"
     ]
    },
    {
     "name": "stdout",
     "output_type": "stream",
     "text": [
      "Acceptance rate is 5.800000000000001 % \n",
      "Last theta estimate: [   0.64793219    0.98072659    6.11285758 -282.18507749]\n"
     ]
    },
    {
     "name": "stderr",
     "output_type": "stream",
     "text": [
      "C:\\Users\\mathi\\AppData\\Local\\Temp\\ipykernel_1992\\1613893815.py:16: RuntimeWarning: overflow encountered in scalar power\n",
      "  part2 = (np.cos(U - alpha * (U + B_alpha_beta)) / W) ** ((1 - alpha) / alpha)\n",
      "C:\\Users\\mathi\\AppData\\Local\\Temp\\ipykernel_1992\\1613893815.py:15: RuntimeWarning: overflow encountered in scalar divide\n",
      "  part1 = np.sin(alpha * (U + B_alpha_beta)) / (np.cos(U) ** (1 / alpha))\n",
      "C:\\Users\\mathi\\AppData\\Local\\Temp\\ipykernel_1992\\1613893815.py:17: RuntimeWarning: invalid value encountered in scalar multiply\n",
      "  sample[i] = S_alpha_beta * part1 * part2\n",
      "C:\\Users\\mathi\\AppData\\Local\\Temp\\ipykernel_1992\\1613893815.py:17: RuntimeWarning: overflow encountered in scalar multiply\n",
      "  sample[i] = S_alpha_beta * part1 * part2\n"
     ]
    },
    {
     "name": "stdout",
     "output_type": "stream",
     "text": [
      "Acceptance rate is 9.2 % \n",
      "Last theta estimate: [   0.83562554    0.49718163   16.77100796 -275.54502472]\n",
      "Acceptance rate is 1.2 % \n",
      "Last theta estimate: [  0.6645471    0.62698379  11.75801866 290.13926623]\n"
     ]
    }
   ],
   "source": [
    "theta_estimates = []\n",
    "\n",
    "for i in range(5):\n",
    "    alpha_start = np.random.uniform(1.01, 2)\n",
    "    beta_start = np.random.uniform(-1, 1)\n",
    "    gamma_start = np.random.uniform(0, 30)\n",
    "    delta_start = np.random.uniform(-300, 300)\n",
    "    chain, acceptance_rate = mcmc(D=data, length=1000, n=1000, c=0.1, alpha=alpha_start, beta=beta_start, gamma=gamma_start, delta=delta_start, true_gamma=true_gamma, method='zolotarev', var_alpha=0.1, var_beta=0.1, var_gamma=5, var_delta=5)\n",
    "    last_theta = chain[-1]\n",
    "    print('Acceptance rate is', acceptance_rate*100, '%', '\\nLast theta estimate:', last_theta)\n",
    "    theta_estimates.append(last_theta)\n"
   ]
  },
  {
   "cell_type": "code",
   "execution_count": 20,
   "metadata": {},
   "outputs": [
    {
     "name": "stdout",
     "output_type": "stream",
     "text": [
      "      alpha      beta      gamma       delta\n",
      "0  0.803474 -0.873893   4.481450  266.441948\n",
      "1  0.828150 -0.056224  44.675889   36.984799\n",
      "2  0.647932  0.980727   6.112858 -282.185077\n",
      "3  0.835626  0.497182  16.771008 -275.545025\n",
      "4  0.664547  0.626984  11.758019  290.139266\n",
      "Mean values:\n",
      "alpha     0.755946\n",
      "beta      0.234955\n",
      "gamma    16.759845\n",
      "delta     7.167182\n",
      "dtype: float64\n",
      "\n",
      "Standard deviation values:\n",
      "alpha      0.091981\n",
      "beta       0.723352\n",
      "gamma     16.343510\n",
      "delta    279.211666\n",
      "dtype: float64\n"
     ]
    }
   ],
   "source": [
    "df_theta_estimates = pd.DataFrame(theta_estimates, columns=['alpha', 'beta', 'gamma', 'delta'])\n",
    "print(df_theta_estimates)\n",
    "mean_values = df_theta_estimates.mean()\n",
    "std_values = df_theta_estimates.std()\n",
    "\n",
    "print(\"Mean values:\")\n",
    "print(mean_values)\n",
    "print(\"\\nStandard deviation values:\")\n",
    "print(std_values)"
   ]
  },
  {
   "cell_type": "code",
   "execution_count": 21,
   "metadata": {},
   "outputs": [
    {
     "data": {
      "image/png": "[encoded data removed]",
      "text/plain": [
       "<Figure size 1000x600 with 4 Axes>"
      ]
     },
     "metadata": {},
     "output_type": "display_data"
    },
    {
     "name": "stdout",
     "output_type": "stream",
     "text": [
      "<class 'numpy.float64'>\n"
     ]
    },
    {
     "ename": "TypeError",
     "evalue": "'list' object is not callable",
     "output_type": "error",
     "traceback": [
      "\u001b[1;31m---------------------------------------------------------------------------\u001b[0m",
      "\u001b[1;31mTypeError\u001b[0m                                 Traceback (most recent call last)",
      "Cell \u001b[1;32mIn[21], line 46\u001b[0m\n\u001b[0;32m     43\u001b[0m plt\u001b[38;5;241m.\u001b[39msubplot(\u001b[38;5;241m1\u001b[39m,\u001b[38;5;241m2\u001b[39m,\u001b[38;5;241m2\u001b[39m)\n\u001b[0;32m     44\u001b[0m plot \u001b[38;5;241m=\u001b[39m plt\u001b[38;5;241m.\u001b[39mhist(data, bins\u001b[38;5;241m=\u001b[39m\u001b[38;5;241m10000\u001b[39m, density\u001b[38;5;241m=\u001b[39m\u001b[38;5;28;01mTrue\u001b[39;00m, \u001b[38;5;28mrange\u001b[39m\u001b[38;5;241m=\u001b[39m \u001b[38;5;28mrange\u001b[39m)\n\u001b[1;32m---> 46\u001b[0m data_estimated \u001b[38;5;241m=\u001b[39m \u001b[43mgeneration\u001b[49m\u001b[43m(\u001b[49m\u001b[38;5;241;43m100000\u001b[39;49m\u001b[43m,\u001b[49m\u001b[43m \u001b[49m\u001b[43malpha_estimated\u001b[49m\u001b[43m,\u001b[49m\u001b[43m \u001b[49m\u001b[43mbeta_estimated\u001b[49m\u001b[43m,\u001b[49m\u001b[43m \u001b[49m\u001b[43mgamma_estimated\u001b[49m\u001b[43m,\u001b[49m\u001b[43m \u001b[49m\u001b[43mdelta_estimated\u001b[49m\u001b[43m)\u001b[49m\n\u001b[0;32m     47\u001b[0m plt\u001b[38;5;241m.\u001b[39msubplot(\u001b[38;5;241m1\u001b[39m,\u001b[38;5;241m2\u001b[39m,\u001b[38;5;241m1\u001b[39m)\n\u001b[0;32m     48\u001b[0m plot \u001b[38;5;241m=\u001b[39m plt\u001b[38;5;241m.\u001b[39mhist(data_estimated, bins\u001b[38;5;241m=\u001b[39m\u001b[38;5;241m10000\u001b[39m, density\u001b[38;5;241m=\u001b[39m\u001b[38;5;28;01mTrue\u001b[39;00m, \u001b[38;5;28mrange\u001b[39m\u001b[38;5;241m=\u001b[39m\u001b[38;5;28mrange\u001b[39m)\n",
      "Cell \u001b[1;32mIn[2], line 9\u001b[0m, in \u001b[0;36mgeneration\u001b[1;34m(n, alpha, beta, gamma, delta)\u001b[0m\n\u001b[0;32m      6\u001b[0m     S_alpha_beta \u001b[38;5;241m=\u001b[39m (\u001b[38;5;241m1\u001b[39m \u001b[38;5;241m+\u001b[39m beta \u001b[38;5;241m*\u001b[39m\u001b[38;5;241m*\u001b[39m \u001b[38;5;241m2\u001b[39m \u001b[38;5;241m*\u001b[39m np\u001b[38;5;241m.\u001b[39mtan(np\u001b[38;5;241m.\u001b[39mpi \u001b[38;5;241m*\u001b[39m alpha \u001b[38;5;241m/\u001b[39m \u001b[38;5;241m2\u001b[39m) \u001b[38;5;241m*\u001b[39m\u001b[38;5;241m*\u001b[39m \u001b[38;5;241m2\u001b[39m) \u001b[38;5;241m*\u001b[39m\u001b[38;5;241m*\u001b[39m (\u001b[38;5;241m1\u001b[39m \u001b[38;5;241m/\u001b[39m (\u001b[38;5;241m2\u001b[39m \u001b[38;5;241m*\u001b[39m alpha))\n\u001b[0;32m      7\u001b[0m     B_alpha_beta \u001b[38;5;241m=\u001b[39m (\u001b[38;5;241m1\u001b[39m \u001b[38;5;241m/\u001b[39m alpha) \u001b[38;5;241m*\u001b[39m np\u001b[38;5;241m.\u001b[39marctan(beta \u001b[38;5;241m*\u001b[39m np\u001b[38;5;241m.\u001b[39mtan(np\u001b[38;5;241m.\u001b[39mpi \u001b[38;5;241m*\u001b[39m alpha \u001b[38;5;241m/\u001b[39m \u001b[38;5;241m2\u001b[39m))\n\u001b[1;32m----> 9\u001b[0m \u001b[38;5;28;01mfor\u001b[39;00m i \u001b[38;5;129;01min\u001b[39;00m \u001b[38;5;28;43mrange\u001b[39;49m\u001b[43m(\u001b[49m\u001b[43mn\u001b[49m\u001b[43m)\u001b[49m:\n\u001b[0;32m     10\u001b[0m     U \u001b[38;5;241m=\u001b[39m np\u001b[38;5;241m.\u001b[39mrandom\u001b[38;5;241m.\u001b[39muniform(\u001b[38;5;241m-\u001b[39mnp\u001b[38;5;241m.\u001b[39mpi\u001b[38;5;241m/\u001b[39m\u001b[38;5;241m2\u001b[39m, np\u001b[38;5;241m.\u001b[39mpi\u001b[38;5;241m/\u001b[39m\u001b[38;5;241m2\u001b[39m)\n\u001b[0;32m     11\u001b[0m     W \u001b[38;5;241m=\u001b[39m \u001b[38;5;241m-\u001b[39mnp\u001b[38;5;241m.\u001b[39mlog(\u001b[38;5;241m1\u001b[39m \u001b[38;5;241m-\u001b[39m np\u001b[38;5;241m.\u001b[39mrandom\u001b[38;5;241m.\u001b[39muniform(\u001b[38;5;241m0\u001b[39m,\u001b[38;5;241m1\u001b[39m))\n",
      "\u001b[1;31mTypeError\u001b[0m: 'list' object is not callable"
     ]
    },
    {
     "data": {
      "image/png": "[encoded data removed]",
      "text/plain": [
       "<Figure size 640x480 with 1 Axes>"
      ]
     },
     "metadata": {},
     "output_type": "display_data"
    }
   ],
   "source": [
    "#Specifiy a certain chain to plot to see how it evolves over acceptance\n",
    "\n",
    "alpha_values = [chain_item[0] for chain_item in chain]\n",
    "beta_values = [chain_item[1] for chain_item in chain]\n",
    "gamma_values = [chain_item[2] for chain_item in chain]\n",
    "delta_values = [chain_item[3] for chain_item in chain]\n",
    "\n",
    "plt.figure(figsize=(10, 6))\n",
    "plt.subplot(2, 2, 1)\n",
    "plt.plot(alpha_values, marker='o')\n",
    "plt.axhline(y=true_alpha, color='r', linestyle='--', )\n",
    "plt.ylabel('Alpha')\n",
    "\n",
    "plt.subplot(2, 2, 2)\n",
    "plt.plot(beta_values, marker='o')\n",
    "plt.axhline(y=true_beta, color='r', linestyle='--')\n",
    "plt.ylabel('Beta')\n",
    "\n",
    "plt.subplot(2, 2, 3)\n",
    "plt.plot(gamma_values, marker='o')\n",
    "plt.axhline(y=true_gamma, color='r', linestyle='--')\n",
    "plt.xlabel('Iteration (t)')\n",
    "plt.ylabel('Gamma')\n",
    "\n",
    "plt.subplot(2, 2, 4)\n",
    "plt.plot(delta_values, marker='o')\n",
    "plt.axhline(y=true_delta, color='r', linestyle='--')\n",
    "plt.xlabel('Iteration (t)')\n",
    "plt.ylabel('Delta')\n",
    "\n",
    "plt.tight_layout()\n",
    "plt.show()\n",
    "\n",
    "\n",
    "range=[-100,100]\n",
    "alpha_estimated = alpha_values[-1]\n",
    "beta_estimated = beta_values[-1]\n",
    "gamma_estimated = gamma_values[-1]\n",
    "delta_estimated = delta_values[-1]\n",
    "print(type(alpha_estimated))\n",
    "\n",
    "\n",
    "plt.subplot(1,2,2)\n",
    "plot = plt.hist(data, bins=10000, density=True, range= range)\n",
    "\n",
    "data_estimated = generation(100000, alpha_estimated, beta_estimated, gamma_estimated, delta_estimated)\n",
    "plt.subplot(1,2,1)\n",
    "plot = plt.hist(data_estimated, bins=10000, density=True, range=range)\n",
    "plt.show()"
   ]
  }
 ],
 "metadata": {
  "kernelspec": {
   "display_name": "Python 3",
   "language": "python",
   "name": "python3"
  },
  "language_info": {
   "codemirror_mode": {
    "name": "ipython",
    "version": 3
   },
   "file_extension": ".py",
   "mimetype": "text/x-python",
   "name": "python",
   "nbconvert_exporter": "python",
   "pygments_lexer": "ipython3",
   "version": "3.12.3"
  }
 },
 "nbformat": 4,
 "nbformat_minor": 2
}
