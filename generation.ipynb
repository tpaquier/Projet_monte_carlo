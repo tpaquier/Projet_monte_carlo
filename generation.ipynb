{
 "cells": [
  {
   "cell_type": "code",
   "execution_count": 1,
   "id": "15d22d44-a23c-493d-8cbc-4ac8d182811f",
   "metadata": {},
   "outputs": [],
   "source": [
    "import numpy as np"
   ]
  },
  {
   "cell_type": "code",
   "execution_count": 2,
   "id": "d7862853-e185-4575-97c0-b44119982b37",
   "metadata": {},
   "outputs": [],
   "source": [
    "def generation(n, alpha=2, beta=0, gamma=1, delta=0):\n",
    "    y = [0]*n\n",
    "    tan = np.tan(np.pi*alpha/2)\n",
    "    S = (1 + beta**2 * tan**2) ** (1 / (2 * alpha))\n",
    "    B = (1 / alpha) * np.arctan(beta * tan)\n",
    "    print(\"S:\", S, \"B:\", B, \"tan(pi*alpha/2)\", tan)\n",
    "\n",
    "    for i in range(n):\n",
    "        w = -np.log(1 - np.random.rand())\n",
    "        u = np.random.uniform(-np.pi/2, np.pi/2)\n",
    "        \n",
    "        if alpha == 1:\n",
    "            print(\"before transf:\", y[i])\n",
    "            y[i] = 2 / np.pi * ((np.pi/2 + beta * u) * np.tan(u) - beta * np.log((np.pi/2 * w * np.cos(u)) / (np.pi/2 + beta * u)))\n",
    "            print(\"after transf:\", y[i])\n",
    "        else:\n",
    "            print(\"before transf:\", y[i])\n",
    "            y[i] = S * np.sin(alpha) * (u + B) / (np.cos(u)**(1 / alpha)) * (np.cos(u - alpha * (u + B)) / w) ** ((1 - alpha) / alpha)\n",
    "            print(\"after transf:\", y[i])\n",
    "\n",
    "        print(\"before scaling:\", y[i])\n",
    "        y[i] = gamma * y[i] + delta\n",
    "        print(\"after scaling:\", y[i])\n",
    "    return y\n"
   ]
  },
  {
   "cell_type": "code",
   "execution_count": null,
   "id": "22e37575-a9b5-45a1-bc3c-7690d3924947",
   "metadata": {},
   "outputs": [],
   "source": []
  }
 ],
 "metadata": {
  "kernelspec": {
   "display_name": "Python 3 (ipykernel)",
   "language": "python",
   "name": "python3"
  },
  "language_info": {
   "codemirror_mode": {
    "name": "ipython",
    "version": 3
   },
   "file_extension": ".py",
   "mimetype": "text/x-python",
   "name": "python",
   "nbconvert_exporter": "python",
   "pygments_lexer": "ipython3",
   "version": "3.11.6"
  }
 },
 "nbformat": 4,
 "nbformat_minor": 5
}
