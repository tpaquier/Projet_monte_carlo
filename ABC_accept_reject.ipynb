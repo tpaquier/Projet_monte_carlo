{
 "cells": [
  {
   "cell_type": "code",
   "execution_count": 1,
   "id": "59a52481-35e9-4450-b433-157f1c2abe7f",
   "metadata": {},
   "outputs": [],
   "source": [
    "import numpy as np"
   ]
  },
  {
   "cell_type": "code",
   "execution_count": 2,
   "id": "60b6ba26-de7c-4b3f-afb4-e3225c263fdb",
   "metadata": {},
   "outputs": [],
   "source": [
    "import matplotlib.pyplot as plt"
   ]
  },
  {
   "cell_type": "code",
   "execution_count": 3,
   "id": "af4ae330-1cf2-4274-81cc-2e73404abd8b",
   "metadata": {},
   "outputs": [],
   "source": [
    "from tqdm import tqdm"
   ]
  },
  {
   "cell_type": "code",
   "execution_count": 4,
   "id": "969165d9-71ec-4313-90cd-8aff6329a0dd",
   "metadata": {},
   "outputs": [],
   "source": [
    "def generation(n, alpha=1.7, beta=0.9, gamma=10, delta=10):\n",
    "    # Initialize samples array with zeros\n",
    "    sample = np.zeros(n)\n",
    "    \n",
    "    # Constants that do not depend on the sample index and thus can be computed once\n",
    "    if alpha != 1:\n",
    "        S_alpha_beta = (1 + beta ** 2 * np.tan(np.pi * alpha / 2) ** 2) ** (1 / (2 * alpha))\n",
    "        B_alpha_beta = (1 / alpha) * np.arctan(beta * np.tan(np.pi * alpha / 2))\n",
    "\n",
    "    for i in range(n):\n",
    "        U = np.random.uniform(-np.pi/2, np.pi/2)\n",
    "        W = -np.log(1 - np.random.uniform(0,1))\n",
    "        \n",
    "        # Handle the case alpha = 1 separately\n",
    "        if alpha != 1:\n",
    "            part1 = np.sin(alpha * (U + B_alpha_beta)) / (np.cos(U) ** (1 / alpha))\n",
    "            part2 = (np.cos(U - alpha * (U + B_alpha_beta)) / W) ** ((1 - alpha) / alpha)\n",
    "            sample[i] = S_alpha_beta * part1 * part2\n",
    "        else:\n",
    "            sample[i] = (2 / np.pi) * ((np.pi / 2 + beta * U) * np.tan(U) - beta * np.log((np.pi / 2 * W * np.cos(U))/(np.pi+beta*U)))\n",
    "\n",
    "    # Apply scaling and location shifting\n",
    "    sample = gamma * sample + delta\n",
    "    return sample"
   ]
  },
  {
   "cell_type": "code",
   "execution_count": 5,
   "id": "8c1dffd7-820a-41a0-a240-7f3bd2dec552",
   "metadata": {},
   "outputs": [],
   "source": [
    "default = generation(n=1000)"
   ]
  },
  {
   "cell_type": "code",
   "execution_count": 6,
   "id": "89c78702-939e-4b0b-9602-b2db6db09944",
   "metadata": {},
   "outputs": [],
   "source": [
    "def gaussian_ker(u=0, y=0, epsilon=1):\n",
    "    \"\"\"gaussian kernel for weights\n",
    "    \n",
    "    Parameters\n",
    "    -------------------\n",
    "    y : float, or array-like\n",
    "    the point we have, the output\n",
    "\n",
    "    u : float, or array-like\n",
    "    the point from which we want to calculate a weight\n",
    "\n",
    "    epsilon : int, float\n",
    "    the scale parameter for which we want to compute the kernel\n",
    "    ----------\n",
    "    \"\"\"\n",
    "\n",
    "    w = (1/np.sqrt(2*np.pi*(epsilon**2)))*np.exp(-(np.abs((u-y)))**2/(2*(epsilon**2)))\n",
    "    return w"
   ]
  },
  {
   "cell_type": "code",
   "execution_count": 7,
   "id": "2d10054d-233d-4e99-8f04-3f9b2443bcaa",
   "metadata": {},
   "outputs": [],
   "source": [
    "def zolotarev_transfo(sample, xi=0.25):\n",
    "    \"\"\"function to use for the estimation based on the zolotarev transformation\n",
    "\n",
    "    Parameters\n",
    "    --------------------------\n",
    "    Sample : array-like\n",
    "    Sample to do the transformation on\n",
    "\n",
    "    xi : int, float\n",
    "    The constant used in the transformation\n",
    "    --------------------------\n",
    "    \"\"\"\n",
    "    if xi<=0 or xi>1/2 :\n",
    "        raise ValueError('Xi must be between 0 and 1/2')\n",
    "    taille = len(sample)\n",
    "    Z = []\n",
    "    for i in range(int(taille/3)+1):\n",
    "        transfo = sample[3*i-3] - xi*sample[3*i-2] - (1 - xi)*sample[3*i-1]\n",
    "        Z.append(transfo)\n",
    "    V = []\n",
    "    U = []\n",
    "    for i in range(len(Z)):\n",
    "        V.append(np.log(np.abs(Z[i])))\n",
    "        U.append(np.sign(sample[i]))\n",
    "    V = np.array(V)\n",
    "    U = np.array(U)\n",
    "    S_U_squared = (np.std(U))**2\n",
    "    S_V_squared = (np.std(V))**2\n",
    "    nu_tilde = (6/(np.pi)**2)*S_V_squared - (3/2)*S_U_squared + 1\n",
    "    etha_hat = np.mean(U)\n",
    "    tau_hat = np.mean(V)\n",
    "    nu_hat = 0\n",
    "    if nu_tilde > ((1+np.abs(etha_hat))**2)/4:\n",
    "        nu_hat = nu_tilde\n",
    "    else:\n",
    "        nu_hat = ((1+np.abs(etha_hat))**2)/4\n",
    "    delta_hat = np.mean(sample)\n",
    "    S_2 = np.array((nu_hat, etha_hat, tau_hat, delta_hat))\n",
    "    return S_2"
   ]
  },
  {
   "cell_type": "code",
   "execution_count": 8,
   "id": "169a7284-5f32-436c-baba-adc022a66d39",
   "metadata": {},
   "outputs": [],
   "source": [
    "zolo_y = np.zeros((1000, 4))\n",
    "\n",
    "for i in range(1000):    \n",
    "    y = generation(1000)\n",
    "    zolo_y[i] = zolotarev_transfo(sample=y)\n",
    "\n",
    "varcov = np.cov(m=zolo_y, rowvar=False)"
   ]
  },
  {
   "cell_type": "markdown",
   "id": "72bf230b-869f-42b2-8c8d-40b7a08b9219",
   "metadata": {},
   "source": [
    "# ABC accept reject"
   ]
  },
  {
   "cell_type": "code",
   "execution_count": 9,
   "id": "2750cb27-de32-4046-bae0-a994a914e415",
   "metadata": {},
   "outputs": [],
   "source": [
    "donnees = generation(n=1000)"
   ]
  },
  {
   "cell_type": "code",
   "execution_count": 10,
   "id": "379aa06f-f928-4a40-96cf-c95356b9df6b",
   "metadata": {},
   "outputs": [],
   "source": [
    "nb_prior = 1000\n",
    "epsilon_ar = 1.5"
   ]
  },
  {
   "cell_type": "code",
   "execution_count": 11,
   "id": "22c59c89-2d91-4165-9c3e-de9963eaabbf",
   "metadata": {},
   "outputs": [],
   "source": [
    "prior_alpha_ar = np.random.uniform(1.1, 2., size=nb_prior)\n",
    "prior_beta_ar = np.random.uniform(-1., 1, size=nb_prior)\n",
    "prior_gamma_ar = np.random.uniform(0., 300., size=nb_prior)\n",
    "prior_delta_ar = np.random.uniform(-300., 300., size=nb_prior)\n",
    "prior_gen_ar = np.vstack((prior_alpha_ar,prior_beta_ar,prior_gamma_ar, prior_delta_ar))\n",
    "prior_gen_ar = np.transpose(prior_gen_ar)"
   ]
  },
  {
   "cell_type": "code",
   "execution_count": 12,
   "id": "2f66bc25-5161-41d5-9dcb-908e209b43e0",
   "metadata": {},
   "outputs": [],
   "source": [
    "zolo_aimed = zolotarev_transfo(sample=donnees)"
   ]
  },
  {
   "cell_type": "code",
   "execution_count": 13,
   "id": "27f094a7-9a36-4de7-893f-81a029519901",
   "metadata": {
    "scrolled": true
   },
   "outputs": [],
   "source": [
    "zolo_proposal = np.zeros((nb_prior, 4))\n",
    "param_accepted = np.zeros(4)\n",
    "for i in range(nb_prior):\n",
    "    proposal = generation(n=1000, alpha=prior_gen_ar[i,0],\n",
    "                          beta=prior_gen_ar[i,1], gamma=prior_gen_ar[i,2], delta=prior_gen_ar[i,3])\n",
    "    zolo_proposal[i] = zolotarev_transfo(sample=proposal)\n",
    "    if np.linalg.norm(zolo_aimed - zolo_proposal[i])<epsilon_ar:\n",
    "        param_accepted = np.vstack((param_accepted,prior_gen_ar[i]))\n",
    "\n",
    "        \n",
    "        "
   ]
  },
  {
   "cell_type": "code",
   "execution_count": 14,
   "id": "469e74eb-cf7c-4430-af0e-f51e52df9c1f",
   "metadata": {},
   "outputs": [
    {
     "data": {
      "text/plain": [
       "0.6736902307055973"
      ]
     },
     "execution_count": 14,
     "metadata": {},
     "output_type": "execute_result"
    }
   ],
   "source": [
    "test_8 = generation(n=10000)\n",
    "test_9 = generation(n=10000, alpha = 1.8, beta=0.8, gamma=8, delta=9)\n",
    "zolo_8 = zolotarev_transfo(test_8)\n",
    "zolo_9 = zolotarev_transfo(test_9)\n",
    "np.linalg.norm(zolo_8-zolo_9)"
   ]
  },
  {
   "cell_type": "code",
   "execution_count": 15,
   "id": "18efb201-93ae-477b-9595-b5a963d528de",
   "metadata": {},
   "outputs": [
    {
     "data": {
      "text/plain": [
       "(2, 4)"
      ]
     },
     "execution_count": 15,
     "metadata": {},
     "output_type": "execute_result"
    }
   ],
   "source": [
    "param_accepted.shape"
   ]
  },
  {
   "cell_type": "markdown",
   "id": "d4bf5467-5078-415f-9928-173081b89045",
   "metadata": {},
   "source": [
    "Très petite acceptance rate"
   ]
  },
  {
   "cell_type": "code",
   "execution_count": 16,
   "id": "d30cb6d0-8c67-4382-b60c-ff208e3203ce",
   "metadata": {},
   "outputs": [],
   "source": [
    "param_accepted = np.delete(arr=param_accepted, obj=0, axis=0)"
   ]
  },
  {
   "cell_type": "code",
   "execution_count": 17,
   "id": "487234bb-edfa-40b7-85b8-2f2e8e3e47d1",
   "metadata": {},
   "outputs": [],
   "source": [
    "\n",
    "mille = np.linspace(start=100, stop=1000, endpoint=True, num=10)[::-1]\n",
    "cent = np.linspace(start=10, stop=100, endpoint=False, num=90)[::-1]\n",
    "dix = np.linspace(start=5, stop=10, endpoint=False, num=10)[::-1]\n",
    "cinq = np.linspace(start=3, stop=5, endpoint=False, num=40)[::-1]\n",
    "trois = np.linspace(start=0, stop=3, endpoint=False, num=300)\n",
    "trois = np.delete(arr=trois, obj=0)\n",
    "trois = trois[::-1]\n",
    "\n",
    "scale_param = np.concatenate((mille, cent, dix, cinq, trois))\n"
   ]
  },
  {
   "cell_type": "code",
   "execution_count": 18,
   "id": "4f8bd44b-39ce-425a-9fde-28018622efa9",
   "metadata": {},
   "outputs": [],
   "source": [
    "nb_prior = 5000"
   ]
  },
  {
   "cell_type": "code",
   "execution_count": 19,
   "id": "8fcabb38-1b87-4103-87e1-bf78c9bbc2cc",
   "metadata": {},
   "outputs": [],
   "source": [
    "prior_alpha_ar = np.random.uniform(1.1, 2., size=nb_prior)\n",
    "prior_beta_ar = np.random.uniform(-1., 1, size=nb_prior)\n",
    "prior_gamma_ar = np.random.uniform(0., 300., size=nb_prior)\n",
    "prior_delta_ar = np.random.uniform(-300., 300., size=nb_prior)\n",
    "prior_gen_ar = np.vstack((prior_alpha_ar,prior_beta_ar,prior_gamma_ar, prior_delta_ar))\n",
    "prior_gen_ar = np.transpose(prior_gen_ar)"
   ]
  },
  {
   "cell_type": "code",
   "execution_count": 20,
   "id": "a4611630-d2dd-44d3-bd65-74f9cb41ceec",
   "metadata": {},
   "outputs": [
    {
     "name": "stderr",
     "output_type": "stream",
     "text": [
      "100%|██████████| 5000/5000 [05:38<00:00, 14.75it/s]\n"
     ]
    }
   ],
   "source": [
    "matrix_gen = np.zeros((nb_prior,4))\n",
    "for i in tqdm(range(nb_prior)):\n",
    "    proposal = generation(n=10000, alpha=prior_gen_ar[i,0],\n",
    "                          beta=prior_gen_ar[i,1], gamma=prior_gen_ar[i,2], delta=prior_gen_ar[i,3])\n",
    "    zolo_proposal = zolotarev_transfo(sample=proposal)\n",
    "    matrix_gen[i] = zolo_proposal"
   ]
  },
  {
   "cell_type": "markdown",
   "id": "75e3f809-f3ca-43ce-80d2-a40de376ba8e",
   "metadata": {},
   "source": []
  },
  {
   "cell_type": "code",
   "execution_count": 28,
   "id": "57f6cd87-af45-47e9-a787-bcbaf13c9c64",
   "metadata": {},
   "outputs": [
    {
     "name": "stderr",
     "output_type": "stream",
     "text": [
      "100%|██████████| 449/449 [00:26<00:00, 16.68it/s]\n"
     ]
    }
   ],
   "source": [
    "parametres_epsilon = np.zeros((449,4))\n",
    "parametres_freq = np.zeros(4)\n",
    "for j in tqdm(range(449)):\n",
    "    param_accepted = np.zeros(4)\n",
    "    for i in range(nb_prior):\n",
    "        if np.linalg.norm(zolo_aimed - matrix_gen[i])<scale_param[j]:\n",
    "            parametres_freq = np.vstack((parametres_freq, matrix_gen[i]))\n",
    "            param_accepted = np.vstack((param_accepted,prior_gen_ar[i]))\n",
    "    param_accepted = np.delete(arr=param_accepted, obj=0, axis=0)\n",
    "    param_accepted_i = np.mean(param_accepted, axis=0)\n",
    "    parametres_epsilon[j] = param_accepted_i\n",
    "parametres_freq = np.delete(arr=parametres_freq, obj=0, axis=0)\n",
    "\n"
   ]
  },
  {
   "cell_type": "code",
   "execution_count": 36,
   "id": "6a6ea511-59bd-4716-94c4-7e4173f046aa",
   "metadata": {},
   "outputs": [
    {
     "name": "stdout",
     "output_type": "stream",
     "text": [
      "Résultats : \n",
      " alpha : 1.9956906764377838 \n",
      " beta : -0.03744704055948711 \n",
      " gamma : 16.47027585156341 \n",
      " delta : 12.657260360278428\n"
     ]
    }
   ],
   "source": [
    "print('Résultats :', '\\n', 'alpha :', parametres_epsilon[401,0],\n",
    "      '\\n', 'beta :', parametres_epsilon[401,1],\n",
    "      '\\n', 'gamma :', parametres_epsilon[401,2],\n",
    "      '\\n' , 'delta :', parametres_epsilon[401,3])"
   ]
  },
  {
   "cell_type": "code",
   "execution_count": 38,
   "id": "4c411b24-786d-49f1-9b95-6090f47beb12",
   "metadata": {},
   "outputs": [
    {
     "data": {
      "text/plain": [
       "0.5424288233712731"
      ]
     },
     "execution_count": 38,
     "metadata": {},
     "output_type": "execute_result"
    }
   ],
   "source": [
    "np.std(parametres_epsilon[:,0])#sd d'alpha"
   ]
  },
  {
   "cell_type": "code",
   "execution_count": 39,
   "id": "45fde4e3-5bec-4542-8101-dd98a31d74ca",
   "metadata": {},
   "outputs": [
    {
     "data": {
      "text/plain": [
       "0.08268832658340293"
      ]
     },
     "execution_count": 39,
     "metadata": {},
     "output_type": "execute_result"
    }
   ],
   "source": [
    "np.std(parametres_epsilon[:,1])#sd de beta"
   ]
  },
  {
   "cell_type": "code",
   "execution_count": 40,
   "id": "56fe27de-e5d4-4928-abb7-a8bb624728da",
   "metadata": {},
   "outputs": [
    {
     "data": {
      "text/plain": [
       "54.936579758142344"
      ]
     },
     "execution_count": 40,
     "metadata": {},
     "output_type": "execute_result"
    }
   ],
   "source": [
    "np.std(parametres_epsilon[:,2])#sd de gamma"
   ]
  },
  {
   "cell_type": "code",
   "execution_count": 41,
   "id": "cc3b63be-83fd-49c1-a629-4c5f295b2a07",
   "metadata": {},
   "outputs": [
    {
     "data": {
      "text/plain": [
       "4.245590466442358"
      ]
     },
     "execution_count": 41,
     "metadata": {},
     "output_type": "execute_result"
    }
   ],
   "source": [
    "np.std(parametres_epsilon[:,3])#sd de delta"
   ]
  },
  {
   "cell_type": "code",
   "execution_count": 22,
   "id": "85d7ab4a-144b-49d4-aa2e-43794b742e5b",
   "metadata": {},
   "outputs": [
    {
     "data": {
      "image/png": "[encoded data removed]",
      "text/plain": [
       "<Figure size 640x480 with 1 Axes>"
      ]
     },
     "metadata": {},
     "output_type": "display_data"
    }
   ],
   "source": [
    "plt.plot(parametres_epsilon[:,0])\n",
    "plt.ylabel('alpha_estimated')\n",
    "plt.xlabel('steps')\n",
    "plt.show()"
   ]
  },
  {
   "cell_type": "code",
   "execution_count": 23,
   "id": "777784ac-5118-4b39-b4fe-d021dea7433d",
   "metadata": {},
   "outputs": [
    {
     "data": {
      "image/png": "[encoded data removed]",
      "text/plain": [
       "<Figure size 640x480 with 1 Axes>"
      ]
     },
     "metadata": {},
     "output_type": "display_data"
    }
   ],
   "source": [
    "plt.plot(parametres_epsilon[:,1])\n",
    "plt.ylabel('beta_estimated')\n",
    "plt.xlabel('steps')\n",
    "plt.show()"
   ]
  },
  {
   "cell_type": "code",
   "execution_count": 24,
   "id": "9b3bc64e-d796-44f3-8555-8bc65fd7325d",
   "metadata": {},
   "outputs": [
    {
     "data": {
      "image/png": "[encoded data removed]",
      "text/plain": [
       "<Figure size 640x480 with 1 Axes>"
      ]
     },
     "metadata": {},
     "output_type": "display_data"
    }
   ],
   "source": [
    "plt.plot(parametres_epsilon[:,2])\n",
    "plt.ylabel('gamma_estimated')\n",
    "plt.xlabel('steps')\n",
    "plt.show()"
   ]
  },
  {
   "cell_type": "code",
   "execution_count": 25,
   "id": "6af15af3-ec90-4446-ab84-595afbe432a1",
   "metadata": {},
   "outputs": [
    {
     "data": {
      "image/png": "[encoded data removed]",
      "text/plain": [
       "<Figure size 640x480 with 1 Axes>"
      ]
     },
     "metadata": {},
     "output_type": "display_data"
    }
   ],
   "source": [
    "plt.plot(parametres_epsilon[:,3])\n",
    "plt.ylabel('delta_estimated')\n",
    "plt.xlabel('steps')\n",
    "plt.show()"
   ]
  },
  {
   "cell_type": "code",
   "execution_count": 26,
   "id": "e965392b-fdbf-4ab3-991b-432bd64b2cc6",
   "metadata": {},
   "outputs": [
    {
     "data": {
      "text/plain": [
       "1.49"
      ]
     },
     "execution_count": 26,
     "metadata": {},
     "output_type": "execute_result"
    }
   ],
   "source": [
    "scale_param[300]"
   ]
  },
  {
   "cell_type": "code",
   "execution_count": 27,
   "id": "fb687d2c-71d6-4533-abdc-3f1d8073bef2",
   "metadata": {},
   "outputs": [
    {
     "data": {
      "text/plain": [
       "2.49"
      ]
     },
     "execution_count": 27,
     "metadata": {},
     "output_type": "execute_result"
    }
   ],
   "source": [
    "scale_param[200]"
   ]
  },
  {
   "cell_type": "code",
   "execution_count": null,
   "id": "168a2d6b-8735-4c5a-a2ef-e76b39171e4e",
   "metadata": {},
   "outputs": [],
   "source": []
  }
 ],
 "metadata": {
  "kernelspec": {
   "display_name": "Python 3 (ipykernel)",
   "language": "python",
   "name": "python3"
  },
  "language_info": {
   "codemirror_mode": {
    "name": "ipython",
    "version": 3
   },
   "file_extension": ".py",
   "mimetype": "text/x-python",
   "name": "python",
   "nbconvert_exporter": "python",
   "pygments_lexer": "ipython3",
   "version": "3.11.6"
  }
 },
 "nbformat": 4,
 "nbformat_minor": 5
}
