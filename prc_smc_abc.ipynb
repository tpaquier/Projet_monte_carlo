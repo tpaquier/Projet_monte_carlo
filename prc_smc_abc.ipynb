{
 "cells": [
  {
   "cell_type": "code",
   "execution_count": 15,
   "id": "cbda31ac-c884-4056-913a-6695215b34cc",
   "metadata": {},
   "outputs": [],
   "source": [
    "import numpy as np\n",
    "from tqdm import tqdm\n",
    "from scipy.stats import multivariate_normal"
   ]
  },
  {
   "cell_type": "code",
   "execution_count": 40,
   "id": "a8a2cbc9-5244-47d3-adaf-4e7c727392e6",
   "metadata": {},
   "outputs": [],
   "source": [
    "pi_theta = 1/324000.0\n",
    "varcov_lambda = np.array(([0.25,0,0,0],[0,0.25,0,0],\n",
    "                          [0,0,1,0], [0,0,0,1]))"
   ]
  },
  {
   "cell_type": "code",
   "execution_count": 39,
   "id": "beb02cea-1d52-40eb-8ac3-b4e5c58c83eb",
   "metadata": {},
   "outputs": [],
   "source": [
    "prior_alpha = np.random.uniform(1.1, 2., size=1000)\n",
    "prior_beta = np.random.uniform(-1., 1, size=1000)\n",
    "prior_gamma = np.random.uniform(0., 300., size=1000)\n",
    "prior_delta = np.random.uniform(-300., 300., size=1000)\n",
    "prior_gen = np.vstack((prior_alpha,prior_beta,prior_gamma, prior_delta))\n",
    "prior_gen = np.transpose(prior_gen)"
   ]
  },
  {
   "cell_type": "code",
   "execution_count": 38,
   "id": "4abdcb91-28c1-4722-8dda-67d5d6e9b28e",
   "metadata": {},
   "outputs": [],
   "source": [
    "#scale parameters\n",
    "#epsilon_t\n",
    "\n",
    "mille = np.linspace(start=100, stop=1000, endpoint=True, num=10)[::-1]\n",
    "cent = np.linspace(start=10, stop=100, endpoint=False, num=90)[::-1]\n",
    "dix = np.linspace(start=5, stop=10, endpoint=False, num=10)[::-1]\n",
    "cinq = np.linspace(start=3, stop=5, endpoint=False, num=40)[::-1]\n",
    "trois = np.linspace(start=0, stop=3, endpoint=False, num=300)\n",
    "trois = np.delete(arr=trois, obj=0)\n",
    "trois = trois[::-1]\n",
    "\n",
    "scale_param = np.concatenate((mille, cent, dix, cinq, trois))"
   ]
  },
  {
   "cell_type": "code",
   "execution_count": 4,
   "id": "06d98d2b-3e48-479b-9d7c-d76adcd655ca",
   "metadata": {},
   "outputs": [],
   "source": [
    "def generation(n, alpha=1.7, beta=0.9, gamma=10, delta=10):\n",
    "    # Initialize samples array with zeros\n",
    "    sample = np.zeros(n)\n",
    "    \n",
    "    # Constants that do not depend on the sample index and thus can be computed once\n",
    "    if alpha != 1:\n",
    "        S_alpha_beta = (1 + beta ** 2 * np.tan(np.pi * alpha / 2) ** 2) ** (1 / (2 * alpha))\n",
    "        B_alpha_beta = (1 / alpha) * np.arctan(beta * np.tan(np.pi * alpha / 2))\n",
    "\n",
    "    for i in range(n):\n",
    "        U = np.random.uniform(-np.pi/2, np.pi/2)\n",
    "        W = -np.log(1 - np.random.uniform(0,1))\n",
    "        \n",
    "        # Handle the case alpha = 1 separately\n",
    "        if alpha != 1:\n",
    "            part1 = np.sin(alpha * (U + B_alpha_beta)) / (np.cos(U) ** (1 / alpha))\n",
    "            part2 = (np.cos(U - alpha * (U + B_alpha_beta)) / W) ** ((1 - alpha) / alpha)\n",
    "            sample[i] = S_alpha_beta * part1 * part2\n",
    "        else:\n",
    "            sample[i] = (2 / np.pi) * ((np.pi / 2 + beta * U) * np.tan(U) - beta * np.log((np.pi / 2 * W * np.cos(U))/(np.pi+beta*U)))\n",
    "\n",
    "    # Apply scaling and location shifting\n",
    "    sample = gamma * sample + delta\n",
    "    return sample"
   ]
  },
  {
   "cell_type": "code",
   "execution_count": 11,
   "id": "f88d1b91-9c39-49c8-972e-366bdf5254c2",
   "metadata": {},
   "outputs": [],
   "source": [
    "def gaussian_ker(u=0, y=0, epsilon=1):\n",
    "    \"\"\"gaussian kernel for weights\n",
    "    \n",
    "    Parameters\n",
    "    -------------------\n",
    "    y : float, or array-like\n",
    "    the point we have, the output\n",
    "\n",
    "    u : float, or array-like\n",
    "    the point from which we want to calculate a weight\n",
    "\n",
    "    epsilon : int, float\n",
    "    the scale parameter for which we want to compute the kernel\n",
    "    ----------\n",
    "    \"\"\"\n",
    "\n",
    "    w = (1/np.sqrt(2*np.pi*(epsilon**2)))*np.exp(-(np.abs((u-y)))**2/(2*(epsilon**2)))/epsilon\n",
    "    return w"
   ]
  },
  {
   "cell_type": "code",
   "execution_count": 6,
   "id": "a7b79ce4-2ad1-49f8-964a-00fe8eedf4e4",
   "metadata": {},
   "outputs": [],
   "source": [
    "def zolotarev_transfo(sample, xi=0.25):\n",
    "    \"\"\"function to use for the estimation based on the zolotarev transformation\n",
    "\n",
    "    Parameters\n",
    "    --------------------------\n",
    "    Sample : array-like\n",
    "    Sample to do the transformation on\n",
    "\n",
    "    xi : int, float\n",
    "    The constant used in the transformation\n",
    "    --------------------------\n",
    "    \"\"\"\n",
    "    if xi<=0 or xi>1/2 :\n",
    "        raise ValueError('Xi must be between 0 and 1/2')\n",
    "    taille = len(sample)\n",
    "    Z = []\n",
    "    for i in range(int(taille/3)):\n",
    "        transfo = sample[3*i-2] - xi*sample[3*i-1] - (1 - xi)*sample[3*i]\n",
    "        Z.append(transfo)\n",
    "    V = []\n",
    "    U = []\n",
    "    for i in range(len(Z)):\n",
    "        V.append(np.log(np.abs(Z[i])))\n",
    "        U.append(np.sign(sample[i]))\n",
    "    V = np.array(V)\n",
    "    U = np.array(U)\n",
    "    S_U_squared = (np.std(U))**2\n",
    "    S_V_squared = (np.std(V))**2\n",
    "    nu_tilde = (6/(np.pi)**2)*S_V_squared - (3/2)*S_U_squared + 1\n",
    "    etha_hat = np.mean(U)\n",
    "    tau_hat = np.mean(V)\n",
    "    nu_hat = 0\n",
    "    if nu_tilde > ((1+np.abs(etha_hat))**2)/4:\n",
    "        nu_hat = nu_tilde\n",
    "    else:\n",
    "        nu_hat = ((1+np.abs(etha_hat))**2)/4\n",
    "    delta_hat = np.mean(sample)\n",
    "    S_2 = np.array((nu_hat, etha_hat, tau_hat, delta_hat))\n",
    "    return S_2"
   ]
  },
  {
   "cell_type": "code",
   "execution_count": 9,
   "id": "fe8f3ce3-ae0d-4c89-ba1a-d96b0f72858d",
   "metadata": {},
   "outputs": [],
   "source": [
    "default = generation(n=1000)"
   ]
  },
  {
   "cell_type": "code",
   "execution_count": 13,
   "id": "7aa2e390-c46f-4d21-9902-18b0854a4b3b",
   "metadata": {},
   "outputs": [],
   "source": [
    "def pi_lf(epsilon_t, sample=default, alpha=1.7, beta=0.9, gamma=10, delta=10, possession=False):\n",
    "    \"\"\"function to have the likelihood free density given in the article, the data we create if there is\n",
    "    no data provided is based on the parameters of 'generation', so for any comparaison between the values of theta,\n",
    "    those are the parameters to change\n",
    "\n",
    "    Parameters\n",
    "    -----------------\n",
    "    N : int\n",
    "    number of priors we want to generate\n",
    "        \n",
    "    alpha, beta, gamma, delta : int, float\n",
    "    the parameters with which we want to compute the true data if we don't already have it\n",
    "\n",
    "\n",
    "    sample : array-like\n",
    "    the data we observe\n",
    "\n",
    "    summary_statistic : array-like\n",
    "    summary statistic used to make tests on the distance between two datasets\n",
    "\n",
    "    epsilon_t : int, float\n",
    "    scale parameter, determines \n",
    "\n",
    "    Possession : boolean\n",
    "    by default, set to false, to determine if we want to generate the data or if we already have it\n",
    "\n",
    "    method : str\n",
    "    the method with which we would compute the summary statistics\n",
    "    -------------------\n",
    "    \"\"\"\n",
    "    if possession == False :\n",
    "        data = generation(n=1000)\n",
    "    else :\n",
    "        data = sample\n",
    "    true_param = zolotarev_transfo(sample=data)\n",
    "    proposal = generation(n=1000, alpha=alpha, beta=beta, gamma=gamma, delta=delta)\n",
    "    zolo_proposal = zolotarev_transfo(sample=proposal)\n",
    "    weight = gaussian_ker(u=np.linalg.norm(true_param-zolo_proposal), epsilon=epsilon_t)\n",
    "    pi_lf = weight*pi_theta\n",
    "    return pi_lf"
   ]
  },
  {
   "cell_type": "code",
   "execution_count": 36,
   "id": "9dff2821-b140-49db-a765-926eb4159be5",
   "metadata": {},
   "outputs": [],
   "source": [
    "weight_gen = np.zeros((1000))"
   ]
  },
  {
   "cell_type": "code",
   "execution_count": null,
   "id": "d2496c7d-27e6-4406-a029-3dc8bbecf18b",
   "metadata": {},
   "outputs": [],
   "source": [
    "weight_gen[i] = pi_lf(epsilon_t=periode_t, theta_i, sample=y)/mutation_density(theta_i, t)"
   ]
  },
  {
   "cell_type": "code",
   "execution_count": null,
   "id": "2e82013d-4c15-4bd0-b032-0972381d036c",
   "metadata": {},
   "outputs": [],
   "source": []
  },
  {
   "cell_type": "code",
   "execution_count": 44,
   "id": "29053631-5d75-437a-91b8-b993085e4dfc",
   "metadata": {},
   "outputs": [],
   "source": [
    "def mutation_creation(t):\n",
    "    \"\"\"a function to sample a theta_t^(i) as in the paper, according to the distribution of the mutation\n",
    "    kernel\n",
    "\n",
    "    Parameters\n",
    "    -------------------------\n",
    "    t : int,\n",
    "    period at which we do this one\n",
    "    --------------------------\n",
    "    \"\"\"\n",
    "    weighted_random = np.zeros((1000,4))\n",
    "    for i in range(1000):\n",
    "        weighted_random[i] = weight_gen[i]*multivariate_normal.rvs(mean=resampled[t-1], cov=varcov_lambda, size=1)\n",
    "    mt_theta = np.sum(a=weighted_random, axis=0)\n",
    "    return mt_theta"
   ]
  },
  {
   "cell_type": "code",
   "execution_count": 45,
   "id": "eb10ad10-3880-4e76-aec7-220bb71b8ac4",
   "metadata": {},
   "outputs": [],
   "source": [
    "def mutation_density(theta, t):\n",
    "    \"\"\"function that evaluates the pdf of the kernel for a given theta\n",
    "\n",
    "    Parameters\n",
    "    ----------------------\n",
    "    t : int, \n",
    "    period at which we do this evaluation\n",
    "\n",
    "    theta : 1-D array, \n",
    "    the parameter of which we will estimate the probability density\n",
    "    ----------------------\n",
    "    \"\"\"\n",
    "    weighted_estimated = np.zeros(1000)\n",
    "    for i in range(1000):\n",
    "        weighted_estimated[i] = weight_gen[i]*multivariate_normal.pdf(theta, mean=resampled[t-1],\n",
    "                                                                      cov=varcov_lambda)\n",
    "    mt_theta = np.sum(a=weighted_estimated, axis=0)\n",
    "    return mt_theta\n",
    "    "
   ]
  },
  {
   "cell_type": "code",
   "execution_count": null,
   "id": "79c967c0-ed7b-4641-8fdf-dc7f0cec8119",
   "metadata": {},
   "outputs": [],
   "source": [
    "\n"
   ]
  }
 ],
 "metadata": {
  "kernelspec": {
   "display_name": "Python 3 (ipykernel)",
   "language": "python",
   "name": "python3"
  },
  "language_info": {
   "codemirror_mode": {
    "name": "ipython",
    "version": 3
   },
   "file_extension": ".py",
   "mimetype": "text/x-python",
   "name": "python",
   "nbconvert_exporter": "python",
   "pygments_lexer": "ipython3",
   "version": "3.11.6"
  }
 },
 "nbformat": 4,
 "nbformat_minor": 5
}
